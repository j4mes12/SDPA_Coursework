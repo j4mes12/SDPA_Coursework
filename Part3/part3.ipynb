{
 "cells": [
  {
   "cell_type": "markdown",
   "metadata": {},
   "source": [
    "# Part 3: Data Analysis (40%)"
   ]
  },
  {
   "cell_type": "markdown",
   "metadata": {},
   "source": [
    "- Name: James Stephenson\n",
    "- Section: Part 3\n",
    "- Description: This notebook pulls newly released song information from Spotify using the `spotipy` API. We then go through some EDA to analyse the data and glean any information we can from the data on newly released songs. "
   ]
  },
  {
   "cell_type": "markdown",
   "metadata": {},
   "source": [
    "#### Import Libaries"
   ]
  },
  {
   "cell_type": "code",
   "execution_count": 4,
   "metadata": {},
   "outputs": [],
   "source": [
    "# General Packages\n",
    "import numpy as np\n",
    "import pandas as pd\n",
    "import matplotlib.pyplot as plt\n",
    "import seaborn as sns\n",
    "import datetime as dt\n",
    "\n",
    "# API Packages\n",
    "import spotipy\n",
    "from spotipy.oauth2 import SpotifyClientCredentials\n",
    "\n",
    "# Packages for analysis\n",
    "from scipy.stats import ttest_ind, normaltest, zscore\n",
    "from sklearn.linear_model import LinearRegression\n",
    "from sklearn.model_selection import train_test_split"
   ]
  },
  {
   "cell_type": "markdown",
   "metadata": {},
   "source": [
    "# Step 1: Crawl a real-world dataset"
   ]
  },
  {
   "cell_type": "markdown",
   "metadata": {},
   "source": [
    "We will be looking at the 100 most recently released albums using the Spotify API and exploring the dataset on a track level in the following notebook. We shall be requesting a combination of identification features such as song name and album name etc. alongside audio features such as popularity and loudness ratings. These numeric values will be the playground in which a lot of our analysis will be taking place and the interaction between these features and our object variables. "
   ]
  },
  {
   "cell_type": "code",
   "execution_count": 142,
   "metadata": {},
   "outputs": [],
   "source": [
    "# Authenticate spotify id and secret\n",
    "sp = spotipy.Spotify(\n",
    "    auth_manager = SpotifyClientCredentials(\n",
    "        client_id = '262f1d55233c40938cb157f5f2a45beb',\n",
    "        client_secret = '5ec6a7c82c1e402294f64217d662f58f'\n",
    "    )\n",
    ")"
   ]
  },
  {
   "cell_type": "markdown",
   "metadata": {},
   "source": [
    "Since the maximum number of albums can be requested is 50, we shall be sending two requests one with an offset of 50. So the first request will call albums 1-50 and the second request albums 51-100."
   ]
  },
  {
   "cell_type": "code",
   "execution_count": 143,
   "metadata": {},
   "outputs": [],
   "source": [
    "# Request 50 most recent releases to start our dataset\n",
    "new_releases = sp.new_releases(\n",
    "    country = 'GB',\n",
    "    limit = 50\n",
    ")\n",
    "\n",
    "# Request albums 51-100 to add to our dataset\n",
    "new_releases_next_50 = sp.new_releases(\n",
    "    country= 'GB',\n",
    "    limit = 50,\n",
    "    offset = 50\n",
    ")\n",
    "\n",
    "# Combine the requests into new_releases\n",
    "new_releases['albums']['items'].extend(new_releases_next_50['albums']['items'])"
   ]
  },
  {
   "cell_type": "code",
   "execution_count": 144,
   "metadata": {},
   "outputs": [],
   "source": [
    "def get_album_uri_and_names(nr_data):\n",
    "    ''' This function gets all the uris and ablum names from a new release requests and outputs it out as a tuple of two lists.\n",
    "    \n",
    "        ---Parameters---\n",
    "        nr_data: dict\n",
    "        dictionary of call requests from new_release spotipy method.\n",
    "        \n",
    "        ---Returns---\n",
    "        (album_names, album_uri): tuple\n",
    "        tuple of two lists. first list contains the album names of the request and the second contains the uris of the request.\n",
    "    '''\n",
    "    \n",
    "    # Get album names from api\n",
    "    album_names = [i['name'] for i in nr_data['albums']['items']]\n",
    "\n",
    "    # Get album uris from api\n",
    "    album_uri = [i['uri'] for i in nr_data['albums']['items']]\n",
    "\n",
    "    return (album_names, album_uri)"
   ]
  },
  {
   "cell_type": "code",
   "execution_count": 145,
   "metadata": {},
   "outputs": [],
   "source": [
    "# Get album names and album uris from new_releases request\n",
    "nr_album_names, nr_album_uri = get_album_uri_and_names(new_releases)"
   ]
  },
  {
   "cell_type": "code",
   "execution_count": 197,
   "metadata": {},
   "outputs": [],
   "source": [
    "# Define features that we want for our analysis\n",
    "audio_features = ['danceability', 'energy', 'loudness', 'speechiness', 'acousticness', 'instrumentalness', 'liveness', 'valence', 'tempo']\n",
    "track_info_features = ['album', 'popularity', 'artist', 'name', 'duration_ms', 'explicit', 'release_date']"
   ]
  },
  {
   "cell_type": "code",
   "execution_count": 198,
   "metadata": {},
   "outputs": [],
   "source": [
    "def get_song_uris_from_album(album_uri):\n",
    "    '''Function to create list of the album song uris from the album's uri.\n",
    "\n",
    "    ---Parameters---\n",
    "    album: str\n",
    "    string of the album uri\n",
    "\n",
    "    ---Returns---\n",
    "    song_uris: list\n",
    "    list of song uris    \n",
    "    '''\n",
    "\n",
    "    # Get song uris for each song in album\n",
    "    song_uris = [song['uri'] for song in sp.album_tracks(album_uri)['items']]\n",
    "\n",
    "    return song_uris\n",
    "\n",
    "\n",
    "def get_track_features(input_dict, song_uri):\n",
    "    '''Function that takes a song uri and adds the song information to an input dictionary.\n",
    "\n",
    "    ---Parameters---\n",
    "    input_dict: dict\n",
    "    dictionary of the form {'feature1' : [...], 'feature2' : [...], ...}\n",
    "    song_uri: str\n",
    "    string of song uri\n",
    "\n",
    "    ---Returns---\n",
    "    input_dict: dict\n",
    "    dictionary containing the song information of the album uri\n",
    "    '''\n",
    "\n",
    "    # Get track information from api\n",
    "    sp_track = sp.track(song_uri)\n",
    "\n",
    "    # Loop through all track features and extract information\n",
    "    # In some cases, these features are within dicitonary values\n",
    "    for k in track_info_features:\n",
    "        if k == 'album':\n",
    "            input_dict[k].append(sp_track['album']['name'])\n",
    "        elif k == 'popularity':\n",
    "            input_dict[k].append(sp_track['popularity'])\n",
    "        elif k == 'artist':\n",
    "            input_dict[k].append(sp_track['album']['artists'][0]['name'])\n",
    "        elif k == 'release_date':\n",
    "            input_dict[k].append(sp_track['album'][k])\n",
    "        else:\n",
    "            input_dict[k].append(sp_track[k])\n",
    "            \n",
    "    return input_dict\n",
    "\n",
    "    \n",
    "def get_audio_features(input_dict, song_uri):\n",
    "    '''Function that adds audio feature information to an input dictionary from a specified song uri\n",
    "    \n",
    "    ---Parameters---\n",
    "    input_dict: dict\n",
    "    dictionary of the form {'feature1' : [...], 'feature2' : [...], ...}\n",
    "    song_uri: str\n",
    "    strinf of the song uri\n",
    "\n",
    "    ---Returns---\n",
    "    input_dict: dict\n",
    "    dictionary containing the song information of the album uri\n",
    "    '''\n",
    "\n",
    "    # Get audio features from api\n",
    "    audio = sp.audio_features(song_uri)[0]\n",
    "\n",
    "    # Loop through all features we want and extract them from the api\n",
    "    for k in audio_features:\n",
    "\n",
    "        # Catch missing values so they can be dealt with later\n",
    "        if audio is None:\n",
    "            input_dict[k].append(None)\n",
    "        else:\n",
    "            input_dict[k].append(audio[k])\n",
    "\n",
    "    return input_dict\n",
    "\n",
    "\n",
    "def get_album_info(album_uri):\n",
    "    '''Function that gets all the song information features from a specified album uri.\n",
    "    \n",
    "    ---Parameters---\n",
    "    album_uri: str\n",
    "    string of an album uri\n",
    "    album_names: str\n",
    "    strong of the album name\n",
    "\n",
    "    ---Returns---\n",
    "    track_info: dict\n",
    "    dictionary of the form {'feature1' : [...], 'feature2' : [...], ...}\n",
    "    '''\n",
    "\n",
    "    track_info = {k : [] for k in track_info_features + audio_features}\n",
    "\n",
    "    # Get uri for each song in album\n",
    "    nr_song_uris = get_song_uris_from_album(album_uri)\n",
    "\n",
    "    # Loop through these uri and get features for each one\n",
    "    for song_uri in nr_song_uris:\n",
    "\n",
    "        track_info = get_track_features(track_info, song_uri)\n",
    "\n",
    "        track_info = get_audio_features(track_info, song_uri)\n",
    "\n",
    "    return track_info"
   ]
  },
  {
   "cell_type": "code",
   "execution_count": 199,
   "metadata": {},
   "outputs": [
    {
     "name": "stdout",
     "output_type": "stream",
     "text": [
      "--- Done! 100 Albums added ---\n"
     ]
    }
   ],
   "source": [
    "# Create initial dictionary to store songs\n",
    "nr_songs = {k : [] for k in track_info_features + audio_features}\n",
    "\n",
    "# Loop through album uris and extract album information\n",
    "for album_uri in nr_album_uri:\n",
    "\n",
    "    # Extract album information\n",
    "    album_info = get_album_info(album_uri)\n",
    "\n",
    "    # Add new extraction to dictionary\n",
    "    for k, v in album_info.items():\n",
    "        nr_songs[k] += v\n",
    "\n",
    "print(f'--- Done! {len(nr_album_names)} Albums added ---')"
   ]
  },
  {
   "cell_type": "code",
   "execution_count": 200,
   "metadata": {},
   "outputs": [],
   "source": [
    "# Convert dictionary of results into dataframe\n",
    "api_data = pd.DataFrame.from_dict(nr_songs)"
   ]
  },
  {
   "cell_type": "code",
   "execution_count": 201,
   "metadata": {},
   "outputs": [
    {
     "name": "stdout",
     "output_type": "stream",
     "text": [
      "Data as of 2021-12-23 14:52:03.438578\n"
     ]
    }
   ],
   "source": [
    "# Save Data to csv\n",
    "api_data.to_csv('./api_data.csv', index = False)\n",
    "print(f'Data as of {dt.datetime.today()}')"
   ]
  },
  {
   "cell_type": "markdown",
   "metadata": {},
   "source": [
    "# Step 2: Perform data preparation & cleaning\n",
    "\n",
    "We will be looking at the following things in our data preparation:\n",
    "- data shape\n",
    "- data columns\n",
    "- rename columns (album, name) that have ambiguous names\n",
    "- check for and deal with null values"
   ]
  },
  {
   "cell_type": "code",
   "execution_count": 5,
   "metadata": {},
   "outputs": [],
   "source": [
    "# Load Saved data\n",
    "data = pd.read_csv('./api_data.csv')"
   ]
  },
  {
   "cell_type": "code",
   "execution_count": 6,
   "metadata": {},
   "outputs": [
    {
     "data": {
      "text/plain": [
       "(1243, 16)"
      ]
     },
     "execution_count": 6,
     "metadata": {},
     "output_type": "execute_result"
    }
   ],
   "source": [
    "# Display data shape\n",
    "data.shape"
   ]
  },
  {
   "cell_type": "code",
   "execution_count": 7,
   "metadata": {},
   "outputs": [
    {
     "data": {
      "text/plain": [
       "Index(['album', 'popularity', 'artist', 'name', 'duration_ms', 'explicit',\n",
       "       'release_date', 'danceability', 'energy', 'loudness', 'speechiness',\n",
       "       'acousticness', 'instrumentalness', 'liveness', 'valence', 'tempo'],\n",
       "      dtype='object')"
      ]
     },
     "execution_count": 7,
     "metadata": {},
     "output_type": "execute_result"
    }
   ],
   "source": [
    "# Display data columns\n",
    "data.columns"
   ]
  },
  {
   "cell_type": "markdown",
   "metadata": {},
   "source": [
    "Short explanation of variables:\n",
    "- album: name of song album\n",
    "- popularity: song popularity score (0-100)\n",
    "- artist: artist of song\n",
    "- name: song name\n",
    "- duration_ms: length of song is milliseconds\n",
    "- explicit: boolean value of if the song is explicit or not\n",
    "- release_date: date variable describing when the song was released.\n",
    "- danceability: score of how well the song fits dancing (0-1)\n",
    "- energy: score of how energetic the song is (0-1)\n",
    "- loudness: amplitude of song in decibels (0- -60)\n",
    "- speechiness: score of how present spoken words are (0-1)\n",
    "- acousticness: measure of if a song is acoustic (0-1)\n",
    "- instrumentalness: score of how present instruments are (0-1)\n",
    "- liveness: probability of whether a live audience was present.\n",
    "- valence: measure of how positive the song is (0-1)\n",
    "- tempo: estimate tempo of a song is beats per minute (50-200)"
   ]
  },
  {
   "cell_type": "code",
   "execution_count": 8,
   "metadata": {},
   "outputs": [],
   "source": [
    "# Rename album and name columns to make them more explainable\n",
    "data.rename(\n",
    "    columns={'album': 'album_name', 'name' : 'song_name'},\n",
    "    inplace=True\n",
    ")"
   ]
  },
  {
   "cell_type": "code",
   "execution_count": 9,
   "metadata": {},
   "outputs": [
    {
     "data": {
      "text/plain": [
       "album_name          0\n",
       "popularity          0\n",
       "artist              0\n",
       "song_name           0\n",
       "duration_ms         0\n",
       "explicit            0\n",
       "release_date        0\n",
       "danceability        3\n",
       "energy              3\n",
       "loudness            3\n",
       "speechiness         3\n",
       "acousticness        3\n",
       "instrumentalness    3\n",
       "liveness            3\n",
       "valence             3\n",
       "tempo               3\n",
       "dtype: int64"
      ]
     },
     "execution_count": 9,
     "metadata": {},
     "output_type": "execute_result"
    }
   ],
   "source": [
    "# Display Null value counts\n",
    "data.isnull().sum(axis=0)"
   ]
  },
  {
   "cell_type": "markdown",
   "metadata": {},
   "source": [
    "No major missing values. Some of the audio features have three missing values, but we expect that to just be three erroneous songs.\n",
    "\n",
    "Due to so few cases, we will drop these rows."
   ]
  },
  {
   "cell_type": "code",
   "execution_count": 10,
   "metadata": {},
   "outputs": [],
   "source": [
    "# Get rid of rows that contain missing values\n",
    "data.dropna(\n",
    "    axis=0,\n",
    "    inplace=True\n",
    ")"
   ]
  },
  {
   "cell_type": "code",
   "execution_count": 11,
   "metadata": {},
   "outputs": [
    {
     "data": {
      "text/plain": [
       "album_name           object\n",
       "popularity            int64\n",
       "artist               object\n",
       "song_name            object\n",
       "duration_ms           int64\n",
       "explicit               bool\n",
       "release_date         object\n",
       "danceability        float64\n",
       "energy              float64\n",
       "loudness            float64\n",
       "speechiness         float64\n",
       "acousticness        float64\n",
       "instrumentalness    float64\n",
       "liveness            float64\n",
       "valence             float64\n",
       "tempo               float64\n",
       "dtype: object"
      ]
     },
     "execution_count": 11,
     "metadata": {},
     "output_type": "execute_result"
    }
   ],
   "source": [
    "# Display data column types\n",
    "data.dtypes"
   ]
  },
  {
   "cell_type": "code",
   "execution_count": 12,
   "metadata": {},
   "outputs": [],
   "source": [
    "# Change release_date to datetime type\n",
    "data['release_date'] = pd.to_datetime(data.release_date)"
   ]
  },
  {
   "cell_type": "code",
   "execution_count": 13,
   "metadata": {},
   "outputs": [
    {
     "name": "stdout",
     "output_type": "stream",
     "text": [
      "Maxmium release_date: 2021-12-10 00:00:00\n",
      "Minimum release_date: 2021-08-20 00:00:00\n"
     ]
    }
   ],
   "source": [
    "# Print the release_date range\n",
    "print(f'Maxmium release_date: {data.release_date.max()}')\n",
    "print(f'Minimum release_date: {data.release_date.min()}')"
   ]
  },
  {
   "cell_type": "markdown",
   "metadata": {},
   "source": [
    "Since the dataset was run on 23/12/2021 and the maximum date is 10/21/2021, this is a suitable amount of time for values to be reliable. This is because time-since-release would effect `popularity` strongly."
   ]
  },
  {
   "cell_type": "markdown",
   "metadata": {},
   "source": [
    "### Check for repeats of songs\n",
    "\n",
    "Some songs get released first as singles and then within the album. We'll remove the single version of the song if there is a duplicate. All we have to do is remove duplicates and keep the first version of the entry as the single version is always released first and the data is descending in time."
   ]
  },
  {
   "cell_type": "code",
   "execution_count": 14,
   "metadata": {},
   "outputs": [],
   "source": [
    "# Remove he initial releases of songs\n",
    "data.drop_duplicates(subset = ['artist', 'song_name'], keep = 'first', inplace = True)"
   ]
  },
  {
   "cell_type": "markdown",
   "metadata": {},
   "source": [
    "### Check for Outliers\n",
    "\n",
    "This is necessary for the numeric features due to the nature of our data. Since the new release data is changing and `popularity` scores as an example will be developing as time increases, it's important that we control outliers.\n",
    "\n",
    "We will be doing this using Z-Scores. The intuition behind this is that if the observation falls outside a defined number of standard deviations, we would consider this an outlier. The number of standard deviations we will be using is 3 i.e. we will consider an observation an outlier if it has a Z-Score of less than -3 or greater than 3.\n",
    "\n",
    "To start, we will go through each numeric feature, calculate the Z-Scores and review the observations that are flagged as outliers. The idea behind this is to decide if the flagged values are reliable observations or errors."
   ]
  },
  {
   "cell_type": "markdown",
   "metadata": {},
   "source": [
    "We start by looking at the number of prospective outliers for each of the numeric features to determine if there are any features that do not require analysis"
   ]
  },
  {
   "cell_type": "code",
   "execution_count": 15,
   "metadata": {},
   "outputs": [
    {
     "data": {
      "text/html": [
       "<div>\n",
       "<style scoped>\n",
       "    .dataframe tbody tr th:only-of-type {\n",
       "        vertical-align: middle;\n",
       "    }\n",
       "\n",
       "    .dataframe tbody tr th {\n",
       "        vertical-align: top;\n",
       "    }\n",
       "\n",
       "    .dataframe thead th {\n",
       "        text-align: right;\n",
       "    }\n",
       "</style>\n",
       "<table border=\"1\" class=\"dataframe\">\n",
       "  <thead>\n",
       "    <tr style=\"text-align: right;\">\n",
       "      <th></th>\n",
       "      <th>Feature</th>\n",
       "      <th>Rows</th>\n",
       "    </tr>\n",
       "  </thead>\n",
       "  <tbody>\n",
       "    <tr>\n",
       "      <th>0</th>\n",
       "      <td>popularity</td>\n",
       "      <td>10</td>\n",
       "    </tr>\n",
       "    <tr>\n",
       "      <th>1</th>\n",
       "      <td>duration_ms</td>\n",
       "      <td>13</td>\n",
       "    </tr>\n",
       "    <tr>\n",
       "      <th>2</th>\n",
       "      <td>danceability</td>\n",
       "      <td>2</td>\n",
       "    </tr>\n",
       "    <tr>\n",
       "      <th>3</th>\n",
       "      <td>energy</td>\n",
       "      <td>0</td>\n",
       "    </tr>\n",
       "    <tr>\n",
       "      <th>4</th>\n",
       "      <td>loudness</td>\n",
       "      <td>19</td>\n",
       "    </tr>\n",
       "    <tr>\n",
       "      <th>5</th>\n",
       "      <td>speechiness</td>\n",
       "      <td>18</td>\n",
       "    </tr>\n",
       "    <tr>\n",
       "      <th>6</th>\n",
       "      <td>acousticness</td>\n",
       "      <td>0</td>\n",
       "    </tr>\n",
       "    <tr>\n",
       "      <th>7</th>\n",
       "      <td>instrumentalness</td>\n",
       "      <td>61</td>\n",
       "    </tr>\n",
       "    <tr>\n",
       "      <th>8</th>\n",
       "      <td>liveness</td>\n",
       "      <td>42</td>\n",
       "    </tr>\n",
       "    <tr>\n",
       "      <th>9</th>\n",
       "      <td>valence</td>\n",
       "      <td>0</td>\n",
       "    </tr>\n",
       "    <tr>\n",
       "      <th>10</th>\n",
       "      <td>tempo</td>\n",
       "      <td>0</td>\n",
       "    </tr>\n",
       "  </tbody>\n",
       "</table>\n",
       "</div>"
      ],
      "text/plain": [
       "             Feature  Rows\n",
       "0         popularity    10\n",
       "1        duration_ms    13\n",
       "2       danceability     2\n",
       "3             energy     0\n",
       "4           loudness    19\n",
       "5        speechiness    18\n",
       "6       acousticness     0\n",
       "7   instrumentalness    61\n",
       "8           liveness    42\n",
       "9            valence     0\n",
       "10             tempo     0"
      ]
     },
     "execution_count": 15,
     "metadata": {},
     "output_type": "execute_result"
    }
   ],
   "source": [
    "rows_removed = {}\n",
    "\n",
    "# Calculate how many outliers for each variable using z-scores\n",
    "for col in data.select_dtypes(include=[np.number]).columns:\n",
    "    rows_removed[col] = (np.abs(zscore(data[col])) > 3).sum()\n",
    "\n",
    "# Display the figures in a dataframe\n",
    "pd.DataFrame(rows_removed.items(), columns = ['Feature', 'Rows'])"
   ]
  },
  {
   "cell_type": "markdown",
   "metadata": {},
   "source": [
    "This shows that `energy`, `acousticness`, `valence` and `tempo` do not have prospective outliers so can be removed from our analysis."
   ]
  },
  {
   "cell_type": "markdown",
   "metadata": {},
   "source": [
    "#### Popularity"
   ]
  },
  {
   "cell_type": "code",
   "execution_count": 16,
   "metadata": {},
   "outputs": [
    {
     "data": {
      "image/png": "[encoded data removed]",
      "text/plain": [
       "<Figure size 432x288 with 1 Axes>"
      ]
     },
     "metadata": {
      "needs_background": "light"
     },
     "output_type": "display_data"
    }
   ],
   "source": [
    "# Define Column of interest\n",
    "col = 'popularity'\n",
    "\n",
    "# Box plot to look at distribution and verify there is a somewhat normal distribution\n",
    "sns.boxplot(data = data, x = col)\n",
    "plt.title(f'Box Plot to show outliers and spread of {col}')\n",
    "plt.show()"
   ]
  },
  {
   "cell_type": "markdown",
   "metadata": {},
   "source": [
    "From the box plot, `popularity` seems to be normal enough to remove outliers."
   ]
  },
  {
   "cell_type": "code",
   "execution_count": 17,
   "metadata": {},
   "outputs": [
    {
     "data": {
      "text/html": [
       "<div>\n",
       "<style scoped>\n",
       "    .dataframe tbody tr th:only-of-type {\n",
       "        vertical-align: middle;\n",
       "    }\n",
       "\n",
       "    .dataframe tbody tr th {\n",
       "        vertical-align: top;\n",
       "    }\n",
       "\n",
       "    .dataframe thead th {\n",
       "        text-align: right;\n",
       "    }\n",
       "</style>\n",
       "<table border=\"1\" class=\"dataframe\">\n",
       "  <thead>\n",
       "    <tr style=\"text-align: right;\">\n",
       "      <th></th>\n",
       "      <th>album_name</th>\n",
       "      <th>popularity</th>\n",
       "      <th>artist</th>\n",
       "      <th>song_name</th>\n",
       "      <th>duration_ms</th>\n",
       "      <th>explicit</th>\n",
       "      <th>release_date</th>\n",
       "      <th>danceability</th>\n",
       "      <th>energy</th>\n",
       "      <th>loudness</th>\n",
       "      <th>speechiness</th>\n",
       "      <th>acousticness</th>\n",
       "      <th>instrumentalness</th>\n",
       "      <th>liveness</th>\n",
       "      <th>valence</th>\n",
       "      <th>tempo</th>\n",
       "    </tr>\n",
       "  </thead>\n",
       "  <tbody>\n",
       "    <tr>\n",
       "      <th>56</th>\n",
       "      <td>2.0</td>\n",
       "      <td>1</td>\n",
       "      <td>JLS</td>\n",
       "      <td>Audition</td>\n",
       "      <td>180666</td>\n",
       "      <td>False</td>\n",
       "      <td>2021-12-03</td>\n",
       "      <td>0.758</td>\n",
       "      <td>0.7810</td>\n",
       "      <td>-4.705</td>\n",
       "      <td>0.0491</td>\n",
       "      <td>0.00765</td>\n",
       "      <td>0.000000</td>\n",
       "      <td>0.0887</td>\n",
       "      <td>0.936</td>\n",
       "      <td>126.062</td>\n",
       "    </tr>\n",
       "    <tr>\n",
       "      <th>60</th>\n",
       "      <td>2.0</td>\n",
       "      <td>1</td>\n",
       "      <td>JLS</td>\n",
       "      <td>Feel Your Love</td>\n",
       "      <td>169373</td>\n",
       "      <td>False</td>\n",
       "      <td>2021-12-03</td>\n",
       "      <td>0.752</td>\n",
       "      <td>0.9330</td>\n",
       "      <td>-4.216</td>\n",
       "      <td>0.0375</td>\n",
       "      <td>0.05310</td>\n",
       "      <td>0.000506</td>\n",
       "      <td>0.1180</td>\n",
       "      <td>0.622</td>\n",
       "      <td>129.978</td>\n",
       "    </tr>\n",
       "    <tr>\n",
       "      <th>62</th>\n",
       "      <td>2.0</td>\n",
       "      <td>1</td>\n",
       "      <td>JLS</td>\n",
       "      <td>Tango</td>\n",
       "      <td>185226</td>\n",
       "      <td>False</td>\n",
       "      <td>2021-12-03</td>\n",
       "      <td>0.773</td>\n",
       "      <td>0.7880</td>\n",
       "      <td>-4.801</td>\n",
       "      <td>0.0636</td>\n",
       "      <td>0.02420</td>\n",
       "      <td>0.000000</td>\n",
       "      <td>0.1160</td>\n",
       "      <td>0.828</td>\n",
       "      <td>115.991</td>\n",
       "    </tr>\n",
       "    <tr>\n",
       "      <th>64</th>\n",
       "      <td>2.0</td>\n",
       "      <td>1</td>\n",
       "      <td>JLS</td>\n",
       "      <td>Glow</td>\n",
       "      <td>185173</td>\n",
       "      <td>False</td>\n",
       "      <td>2021-12-03</td>\n",
       "      <td>0.561</td>\n",
       "      <td>0.7500</td>\n",
       "      <td>-6.562</td>\n",
       "      <td>0.0699</td>\n",
       "      <td>0.01000</td>\n",
       "      <td>0.000000</td>\n",
       "      <td>0.1460</td>\n",
       "      <td>0.566</td>\n",
       "      <td>110.118</td>\n",
       "    </tr>\n",
       "    <tr>\n",
       "      <th>65</th>\n",
       "      <td>2.0</td>\n",
       "      <td>1</td>\n",
       "      <td>JLS</td>\n",
       "      <td>Eternal Love (Luca Schreiner Remix)</td>\n",
       "      <td>187840</td>\n",
       "      <td>False</td>\n",
       "      <td>2021-12-03</td>\n",
       "      <td>0.466</td>\n",
       "      <td>0.7510</td>\n",
       "      <td>-5.558</td>\n",
       "      <td>0.1130</td>\n",
       "      <td>0.01140</td>\n",
       "      <td>0.000000</td>\n",
       "      <td>0.3020</td>\n",
       "      <td>0.650</td>\n",
       "      <td>79.798</td>\n",
       "    </tr>\n",
       "    <tr>\n",
       "      <th>380</th>\n",
       "      <td>Return of the Immigrant</td>\n",
       "      <td>1</td>\n",
       "      <td>Cashh</td>\n",
       "      <td>Terrible Operation Skit</td>\n",
       "      <td>23398</td>\n",
       "      <td>False</td>\n",
       "      <td>2021-11-05</td>\n",
       "      <td>0.549</td>\n",
       "      <td>0.5840</td>\n",
       "      <td>-13.476</td>\n",
       "      <td>0.6620</td>\n",
       "      <td>0.67600</td>\n",
       "      <td>0.000000</td>\n",
       "      <td>0.6420</td>\n",
       "      <td>0.522</td>\n",
       "      <td>95.616</td>\n",
       "    </tr>\n",
       "    <tr>\n",
       "      <th>383</th>\n",
       "      <td>Return of the Immigrant</td>\n",
       "      <td>0</td>\n",
       "      <td>Cashh</td>\n",
       "      <td>Look out Your Window Skit</td>\n",
       "      <td>21096</td>\n",
       "      <td>False</td>\n",
       "      <td>2021-11-05</td>\n",
       "      <td>0.490</td>\n",
       "      <td>0.0663</td>\n",
       "      <td>-30.056</td>\n",
       "      <td>0.0679</td>\n",
       "      <td>0.69000</td>\n",
       "      <td>0.626000</td>\n",
       "      <td>0.1090</td>\n",
       "      <td>0.309</td>\n",
       "      <td>88.505</td>\n",
       "    </tr>\n",
       "    <tr>\n",
       "      <th>386</th>\n",
       "      <td>Return of the Immigrant</td>\n",
       "      <td>1</td>\n",
       "      <td>Cashh</td>\n",
       "      <td>Mi G Dem Skit</td>\n",
       "      <td>24362</td>\n",
       "      <td>False</td>\n",
       "      <td>2021-11-05</td>\n",
       "      <td>0.368</td>\n",
       "      <td>0.0375</td>\n",
       "      <td>-31.712</td>\n",
       "      <td>0.1690</td>\n",
       "      <td>0.83300</td>\n",
       "      <td>0.000000</td>\n",
       "      <td>0.1970</td>\n",
       "      <td>0.696</td>\n",
       "      <td>126.926</td>\n",
       "    </tr>\n",
       "    <tr>\n",
       "      <th>567</th>\n",
       "      <td>The Lockdown Sessions</td>\n",
       "      <td>0</td>\n",
       "      <td>Elton John</td>\n",
       "      <td>One Of Me</td>\n",
       "      <td>161666</td>\n",
       "      <td>True</td>\n",
       "      <td>2021-10-22</td>\n",
       "      <td>0.708</td>\n",
       "      <td>0.5980</td>\n",
       "      <td>-4.969</td>\n",
       "      <td>0.0617</td>\n",
       "      <td>0.20200</td>\n",
       "      <td>0.000000</td>\n",
       "      <td>0.1690</td>\n",
       "      <td>0.561</td>\n",
       "      <td>144.096</td>\n",
       "    </tr>\n",
       "    <tr>\n",
       "      <th>688</th>\n",
       "      <td>Just for the Times</td>\n",
       "      <td>1</td>\n",
       "      <td>Everyone You Know</td>\n",
       "      <td>Human Again (Skit)</td>\n",
       "      <td>17124</td>\n",
       "      <td>False</td>\n",
       "      <td>2021-10-01</td>\n",
       "      <td>0.411</td>\n",
       "      <td>0.6800</td>\n",
       "      <td>-12.463</td>\n",
       "      <td>0.3320</td>\n",
       "      <td>0.99500</td>\n",
       "      <td>0.027200</td>\n",
       "      <td>0.7500</td>\n",
       "      <td>0.724</td>\n",
       "      <td>126.006</td>\n",
       "    </tr>\n",
       "  </tbody>\n",
       "</table>\n",
       "</div>"
      ],
      "text/plain": [
       "                  album_name  popularity             artist  \\\n",
       "56                       2.0           1                JLS   \n",
       "60                       2.0           1                JLS   \n",
       "62                       2.0           1                JLS   \n",
       "64                       2.0           1                JLS   \n",
       "65                       2.0           1                JLS   \n",
       "380  Return of the Immigrant           1              Cashh   \n",
       "383  Return of the Immigrant           0              Cashh   \n",
       "386  Return of the Immigrant           1              Cashh   \n",
       "567    The Lockdown Sessions           0         Elton John   \n",
       "688       Just for the Times           1  Everyone You Know   \n",
       "\n",
       "                               song_name  duration_ms  explicit release_date  \\\n",
       "56                              Audition       180666     False   2021-12-03   \n",
       "60                        Feel Your Love       169373     False   2021-12-03   \n",
       "62                                 Tango       185226     False   2021-12-03   \n",
       "64                                  Glow       185173     False   2021-12-03   \n",
       "65   Eternal Love (Luca Schreiner Remix)       187840     False   2021-12-03   \n",
       "380              Terrible Operation Skit        23398     False   2021-11-05   \n",
       "383            Look out Your Window Skit        21096     False   2021-11-05   \n",
       "386                        Mi G Dem Skit        24362     False   2021-11-05   \n",
       "567                            One Of Me       161666      True   2021-10-22   \n",
       "688                   Human Again (Skit)        17124     False   2021-10-01   \n",
       "\n",
       "     danceability  energy  loudness  speechiness  acousticness  \\\n",
       "56          0.758  0.7810    -4.705       0.0491       0.00765   \n",
       "60          0.752  0.9330    -4.216       0.0375       0.05310   \n",
       "62          0.773  0.7880    -4.801       0.0636       0.02420   \n",
       "64          0.561  0.7500    -6.562       0.0699       0.01000   \n",
       "65          0.466  0.7510    -5.558       0.1130       0.01140   \n",
       "380         0.549  0.5840   -13.476       0.6620       0.67600   \n",
       "383         0.490  0.0663   -30.056       0.0679       0.69000   \n",
       "386         0.368  0.0375   -31.712       0.1690       0.83300   \n",
       "567         0.708  0.5980    -4.969       0.0617       0.20200   \n",
       "688         0.411  0.6800   -12.463       0.3320       0.99500   \n",
       "\n",
       "     instrumentalness  liveness  valence    tempo  \n",
       "56           0.000000    0.0887    0.936  126.062  \n",
       "60           0.000506    0.1180    0.622  129.978  \n",
       "62           0.000000    0.1160    0.828  115.991  \n",
       "64           0.000000    0.1460    0.566  110.118  \n",
       "65           0.000000    0.3020    0.650   79.798  \n",
       "380          0.000000    0.6420    0.522   95.616  \n",
       "383          0.626000    0.1090    0.309   88.505  \n",
       "386          0.000000    0.1970    0.696  126.926  \n",
       "567          0.000000    0.1690    0.561  144.096  \n",
       "688          0.027200    0.7500    0.724  126.006  "
      ]
     },
     "execution_count": 17,
     "metadata": {},
     "output_type": "execute_result"
    }
   ],
   "source": [
    "# Display observations that are considered outliers based on popularity\n",
    "data[np.abs(zscore(data[col])) > 3]"
   ]
  },
  {
   "cell_type": "markdown",
   "metadata": {},
   "source": [
    "These observations all have extremely low popularity (rated between 0-100). I don't believe these are errors however, they do not form the natural population of new releases that we are interested in as popularity is a key feature.\n",
    "\n",
    "Decision: Remove these observations from dataset for analysis."
   ]
  },
  {
   "cell_type": "code",
   "execution_count": 18,
   "metadata": {},
   "outputs": [],
   "source": [
    "# Remove outliers\n",
    "data = data[np.abs(zscore(data[col])) <= 3]"
   ]
  },
  {
   "cell_type": "markdown",
   "metadata": {},
   "source": [
    "#### duration_ms"
   ]
  },
  {
   "cell_type": "code",
   "execution_count": 19,
   "metadata": {},
   "outputs": [],
   "source": [
    "# Define Column of interest\n",
    "col = 'duration_ms'"
   ]
  },
  {
   "cell_type": "code",
   "execution_count": 20,
   "metadata": {},
   "outputs": [
    {
     "data": {
      "image/png": "[encoded data removed]",
      "text/plain": [
       "<Figure size 432x288 with 1 Axes>"
      ]
     },
     "metadata": {
      "needs_background": "light"
     },
     "output_type": "display_data"
    }
   ],
   "source": [
    "# Box plot to look at distribution and verify there is a somewhat normal distribution\n",
    "sns.boxplot(data = data, x = col)\n",
    "plt.title(f'Box Plot to show outliers and spread of {col}')\n",
    "plt.show()"
   ]
  },
  {
   "cell_type": "markdown",
   "metadata": {},
   "source": [
    "`duration_ms` does seem to have some normal properties so it would be viable to remove outliers based on our Z-Scores."
   ]
  },
  {
   "cell_type": "code",
   "execution_count": 21,
   "metadata": {},
   "outputs": [
    {
     "data": {
      "text/html": [
       "<div>\n",
       "<style scoped>\n",
       "    .dataframe tbody tr th:only-of-type {\n",
       "        vertical-align: middle;\n",
       "    }\n",
       "\n",
       "    .dataframe tbody tr th {\n",
       "        vertical-align: top;\n",
       "    }\n",
       "\n",
       "    .dataframe thead th {\n",
       "        text-align: right;\n",
       "    }\n",
       "</style>\n",
       "<table border=\"1\" class=\"dataframe\">\n",
       "  <thead>\n",
       "    <tr style=\"text-align: right;\">\n",
       "      <th></th>\n",
       "      <th>album_name</th>\n",
       "      <th>popularity</th>\n",
       "      <th>artist</th>\n",
       "      <th>song_name</th>\n",
       "      <th>duration_ms</th>\n",
       "      <th>explicit</th>\n",
       "      <th>release_date</th>\n",
       "      <th>danceability</th>\n",
       "      <th>energy</th>\n",
       "      <th>loudness</th>\n",
       "      <th>speechiness</th>\n",
       "      <th>acousticness</th>\n",
       "      <th>instrumentalness</th>\n",
       "      <th>liveness</th>\n",
       "      <th>valence</th>\n",
       "      <th>tempo</th>\n",
       "    </tr>\n",
       "  </thead>\n",
       "  <tbody>\n",
       "    <tr>\n",
       "      <th>122</th>\n",
       "      <td>Knebworth 1996 (Live)</td>\n",
       "      <td>46</td>\n",
       "      <td>Oasis</td>\n",
       "      <td>Champagne Supernova (Live at Knebworth, 11 Aug...</td>\n",
       "      <td>446246</td>\n",
       "      <td>False</td>\n",
       "      <td>2021-11-19</td>\n",
       "      <td>0.169</td>\n",
       "      <td>0.858</td>\n",
       "      <td>-5.128</td>\n",
       "      <td>0.0937</td>\n",
       "      <td>0.000107</td>\n",
       "      <td>0.220000</td>\n",
       "      <td>0.8490</td>\n",
       "      <td>0.2060</td>\n",
       "      <td>122.081</td>\n",
       "    </tr>\n",
       "    <tr>\n",
       "      <th>406</th>\n",
       "      <td>Day/Night</td>\n",
       "      <td>54</td>\n",
       "      <td>Parcels</td>\n",
       "      <td>Outside</td>\n",
       "      <td>433350</td>\n",
       "      <td>False</td>\n",
       "      <td>2021-11-05</td>\n",
       "      <td>0.352</td>\n",
       "      <td>0.166</td>\n",
       "      <td>-11.957</td>\n",
       "      <td>0.0312</td>\n",
       "      <td>0.813000</td>\n",
       "      <td>0.005600</td>\n",
       "      <td>0.1120</td>\n",
       "      <td>0.1140</td>\n",
       "      <td>105.264</td>\n",
       "    </tr>\n",
       "    <tr>\n",
       "      <th>641</th>\n",
       "      <td>Music Of The Spheres</td>\n",
       "      <td>68</td>\n",
       "      <td>Coldplay</td>\n",
       "      <td>Coloratura</td>\n",
       "      <td>617057</td>\n",
       "      <td>False</td>\n",
       "      <td>2021-10-15</td>\n",
       "      <td>0.285</td>\n",
       "      <td>0.265</td>\n",
       "      <td>-10.836</td>\n",
       "      <td>0.0288</td>\n",
       "      <td>0.629000</td>\n",
       "      <td>0.179000</td>\n",
       "      <td>0.0660</td>\n",
       "      <td>0.0699</td>\n",
       "      <td>134.055</td>\n",
       "    </tr>\n",
       "    <tr>\n",
       "      <th>940</th>\n",
       "      <td>What We Call Life</td>\n",
       "      <td>40</td>\n",
       "      <td>Jordan Rakei</td>\n",
       "      <td>The Flood</td>\n",
       "      <td>435146</td>\n",
       "      <td>False</td>\n",
       "      <td>2021-09-17</td>\n",
       "      <td>0.545</td>\n",
       "      <td>0.697</td>\n",
       "      <td>-7.529</td>\n",
       "      <td>0.0302</td>\n",
       "      <td>0.419000</td>\n",
       "      <td>0.026800</td>\n",
       "      <td>0.0991</td>\n",
       "      <td>0.3550</td>\n",
       "      <td>119.976</td>\n",
       "    </tr>\n",
       "    <tr>\n",
       "      <th>1124</th>\n",
       "      <td>Senjutsu</td>\n",
       "      <td>60</td>\n",
       "      <td>Iron Maiden</td>\n",
       "      <td>Senjutsu</td>\n",
       "      <td>500170</td>\n",
       "      <td>False</td>\n",
       "      <td>2021-09-03</td>\n",
       "      <td>0.347</td>\n",
       "      <td>0.885</td>\n",
       "      <td>-6.121</td>\n",
       "      <td>0.0615</td>\n",
       "      <td>0.000171</td>\n",
       "      <td>0.089200</td>\n",
       "      <td>0.2170</td>\n",
       "      <td>0.4660</td>\n",
       "      <td>180.172</td>\n",
       "    </tr>\n",
       "    <tr>\n",
       "      <th>1127</th>\n",
       "      <td>Senjutsu</td>\n",
       "      <td>58</td>\n",
       "      <td>Iron Maiden</td>\n",
       "      <td>Lost In A Lost World</td>\n",
       "      <td>571584</td>\n",
       "      <td>False</td>\n",
       "      <td>2021-09-03</td>\n",
       "      <td>0.251</td>\n",
       "      <td>0.871</td>\n",
       "      <td>-6.414</td>\n",
       "      <td>0.0871</td>\n",
       "      <td>0.004070</td>\n",
       "      <td>0.007510</td>\n",
       "      <td>0.1080</td>\n",
       "      <td>0.2060</td>\n",
       "      <td>92.975</td>\n",
       "    </tr>\n",
       "    <tr>\n",
       "      <th>1129</th>\n",
       "      <td>Senjutsu</td>\n",
       "      <td>57</td>\n",
       "      <td>Iron Maiden</td>\n",
       "      <td>The Time Machine</td>\n",
       "      <td>429443</td>\n",
       "      <td>False</td>\n",
       "      <td>2021-09-03</td>\n",
       "      <td>0.297</td>\n",
       "      <td>0.889</td>\n",
       "      <td>-5.287</td>\n",
       "      <td>0.0607</td>\n",
       "      <td>0.006540</td>\n",
       "      <td>0.000211</td>\n",
       "      <td>0.1180</td>\n",
       "      <td>0.3160</td>\n",
       "      <td>116.650</td>\n",
       "    </tr>\n",
       "    <tr>\n",
       "      <th>1130</th>\n",
       "      <td>Senjutsu</td>\n",
       "      <td>56</td>\n",
       "      <td>Iron Maiden</td>\n",
       "      <td>Darkest Hour</td>\n",
       "      <td>440464</td>\n",
       "      <td>False</td>\n",
       "      <td>2021-09-03</td>\n",
       "      <td>0.222</td>\n",
       "      <td>0.925</td>\n",
       "      <td>-5.939</td>\n",
       "      <td>0.2400</td>\n",
       "      <td>0.054200</td>\n",
       "      <td>0.086300</td>\n",
       "      <td>0.3950</td>\n",
       "      <td>0.1620</td>\n",
       "      <td>133.772</td>\n",
       "    </tr>\n",
       "    <tr>\n",
       "      <th>1131</th>\n",
       "      <td>Senjutsu</td>\n",
       "      <td>56</td>\n",
       "      <td>Iron Maiden</td>\n",
       "      <td>Death Of The Celts</td>\n",
       "      <td>620403</td>\n",
       "      <td>False</td>\n",
       "      <td>2021-09-03</td>\n",
       "      <td>0.291</td>\n",
       "      <td>0.804</td>\n",
       "      <td>-5.807</td>\n",
       "      <td>0.0414</td>\n",
       "      <td>0.007110</td>\n",
       "      <td>0.210000</td>\n",
       "      <td>0.1200</td>\n",
       "      <td>0.2600</td>\n",
       "      <td>134.561</td>\n",
       "    </tr>\n",
       "    <tr>\n",
       "      <th>1132</th>\n",
       "      <td>Senjutsu</td>\n",
       "      <td>56</td>\n",
       "      <td>Iron Maiden</td>\n",
       "      <td>The Parchment</td>\n",
       "      <td>758990</td>\n",
       "      <td>False</td>\n",
       "      <td>2021-09-03</td>\n",
       "      <td>0.149</td>\n",
       "      <td>0.924</td>\n",
       "      <td>-5.345</td>\n",
       "      <td>0.0933</td>\n",
       "      <td>0.014100</td>\n",
       "      <td>0.219000</td>\n",
       "      <td>0.1070</td>\n",
       "      <td>0.2120</td>\n",
       "      <td>80.234</td>\n",
       "    </tr>\n",
       "    <tr>\n",
       "      <th>1133</th>\n",
       "      <td>Senjutsu</td>\n",
       "      <td>58</td>\n",
       "      <td>Iron Maiden</td>\n",
       "      <td>Hell On Earth</td>\n",
       "      <td>679134</td>\n",
       "      <td>False</td>\n",
       "      <td>2021-09-03</td>\n",
       "      <td>0.298</td>\n",
       "      <td>0.842</td>\n",
       "      <td>-6.692</td>\n",
       "      <td>0.0563</td>\n",
       "      <td>0.009520</td>\n",
       "      <td>0.029900</td>\n",
       "      <td>0.0846</td>\n",
       "      <td>0.0628</td>\n",
       "      <td>132.650</td>\n",
       "    </tr>\n",
       "    <tr>\n",
       "      <th>1150</th>\n",
       "      <td>Donda</td>\n",
       "      <td>54</td>\n",
       "      <td>Kanye West</td>\n",
       "      <td>Jesus Lord</td>\n",
       "      <td>538536</td>\n",
       "      <td>False</td>\n",
       "      <td>2021-08-29</td>\n",
       "      <td>0.477</td>\n",
       "      <td>0.713</td>\n",
       "      <td>-6.805</td>\n",
       "      <td>0.1260</td>\n",
       "      <td>0.098400</td>\n",
       "      <td>0.008440</td>\n",
       "      <td>0.0879</td>\n",
       "      <td>0.1130</td>\n",
       "      <td>106.137</td>\n",
       "    </tr>\n",
       "    <tr>\n",
       "      <th>1160</th>\n",
       "      <td>Donda</td>\n",
       "      <td>49</td>\n",
       "      <td>Kanye West</td>\n",
       "      <td>Jesus Lord pt 2</td>\n",
       "      <td>690731</td>\n",
       "      <td>False</td>\n",
       "      <td>2021-08-29</td>\n",
       "      <td>0.524</td>\n",
       "      <td>0.726</td>\n",
       "      <td>-6.628</td>\n",
       "      <td>0.0941</td>\n",
       "      <td>0.070500</td>\n",
       "      <td>0.019200</td>\n",
       "      <td>0.0877</td>\n",
       "      <td>0.1460</td>\n",
       "      <td>107.400</td>\n",
       "    </tr>\n",
       "  </tbody>\n",
       "</table>\n",
       "</div>"
      ],
      "text/plain": [
       "                 album_name  popularity        artist  \\\n",
       "122   Knebworth 1996 (Live)          46         Oasis   \n",
       "406               Day/Night          54       Parcels   \n",
       "641    Music Of The Spheres          68      Coldplay   \n",
       "940       What We Call Life          40  Jordan Rakei   \n",
       "1124               Senjutsu          60   Iron Maiden   \n",
       "1127               Senjutsu          58   Iron Maiden   \n",
       "1129               Senjutsu          57   Iron Maiden   \n",
       "1130               Senjutsu          56   Iron Maiden   \n",
       "1131               Senjutsu          56   Iron Maiden   \n",
       "1132               Senjutsu          56   Iron Maiden   \n",
       "1133               Senjutsu          58   Iron Maiden   \n",
       "1150                  Donda          54    Kanye West   \n",
       "1160                  Donda          49    Kanye West   \n",
       "\n",
       "                                              song_name  duration_ms  \\\n",
       "122   Champagne Supernova (Live at Knebworth, 11 Aug...       446246   \n",
       "406                                             Outside       433350   \n",
       "641                                          Coloratura       617057   \n",
       "940                                           The Flood       435146   \n",
       "1124                                           Senjutsu       500170   \n",
       "1127                               Lost In A Lost World       571584   \n",
       "1129                                   The Time Machine       429443   \n",
       "1130                                       Darkest Hour       440464   \n",
       "1131                                 Death Of The Celts       620403   \n",
       "1132                                      The Parchment       758990   \n",
       "1133                                      Hell On Earth       679134   \n",
       "1150                                         Jesus Lord       538536   \n",
       "1160                                    Jesus Lord pt 2       690731   \n",
       "\n",
       "      explicit release_date  danceability  energy  loudness  speechiness  \\\n",
       "122      False   2021-11-19         0.169   0.858    -5.128       0.0937   \n",
       "406      False   2021-11-05         0.352   0.166   -11.957       0.0312   \n",
       "641      False   2021-10-15         0.285   0.265   -10.836       0.0288   \n",
       "940      False   2021-09-17         0.545   0.697    -7.529       0.0302   \n",
       "1124     False   2021-09-03         0.347   0.885    -6.121       0.0615   \n",
       "1127     False   2021-09-03         0.251   0.871    -6.414       0.0871   \n",
       "1129     False   2021-09-03         0.297   0.889    -5.287       0.0607   \n",
       "1130     False   2021-09-03         0.222   0.925    -5.939       0.2400   \n",
       "1131     False   2021-09-03         0.291   0.804    -5.807       0.0414   \n",
       "1132     False   2021-09-03         0.149   0.924    -5.345       0.0933   \n",
       "1133     False   2021-09-03         0.298   0.842    -6.692       0.0563   \n",
       "1150     False   2021-08-29         0.477   0.713    -6.805       0.1260   \n",
       "1160     False   2021-08-29         0.524   0.726    -6.628       0.0941   \n",
       "\n",
       "      acousticness  instrumentalness  liveness  valence    tempo  \n",
       "122       0.000107          0.220000    0.8490   0.2060  122.081  \n",
       "406       0.813000          0.005600    0.1120   0.1140  105.264  \n",
       "641       0.629000          0.179000    0.0660   0.0699  134.055  \n",
       "940       0.419000          0.026800    0.0991   0.3550  119.976  \n",
       "1124      0.000171          0.089200    0.2170   0.4660  180.172  \n",
       "1127      0.004070          0.007510    0.1080   0.2060   92.975  \n",
       "1129      0.006540          0.000211    0.1180   0.3160  116.650  \n",
       "1130      0.054200          0.086300    0.3950   0.1620  133.772  \n",
       "1131      0.007110          0.210000    0.1200   0.2600  134.561  \n",
       "1132      0.014100          0.219000    0.1070   0.2120   80.234  \n",
       "1133      0.009520          0.029900    0.0846   0.0628  132.650  \n",
       "1150      0.098400          0.008440    0.0879   0.1130  106.137  \n",
       "1160      0.070500          0.019200    0.0877   0.1460  107.400  "
      ]
     },
     "execution_count": 21,
     "metadata": {},
     "output_type": "execute_result"
    }
   ],
   "source": [
    "# Display observations that are considered outliers based on duration_ms\n",
    "data[np.abs(zscore(data[col])) > 3]"
   ]
  },
  {
   "cell_type": "markdown",
   "metadata": {},
   "source": [
    "There seems to be a pattern of an artist releasing one or two longer songs - with the exception of Iron Maiden who's entire album bar three songs were marked as outliers.\n",
    "\n",
    "However, looking at the box plot, it seems as though capping at 446246 would be the most appropriate course of action as these seem to be more of the extreme values.\n",
    "\n",
    "Decision: Cap values at 446246"
   ]
  },
  {
   "cell_type": "code",
   "execution_count": 22,
   "metadata": {},
   "outputs": [],
   "source": [
    "# Remove observations above capping value\n",
    "data = data[data.duration_ms <= 446246]"
   ]
  },
  {
   "cell_type": "markdown",
   "metadata": {},
   "source": [
    "#### danceability"
   ]
  },
  {
   "cell_type": "code",
   "execution_count": 23,
   "metadata": {},
   "outputs": [],
   "source": [
    "# Define Column of interest\n",
    "col = 'danceability'"
   ]
  },
  {
   "cell_type": "code",
   "execution_count": 24,
   "metadata": {},
   "outputs": [
    {
     "data": {
      "image/png": "[encoded data removed]",
      "text/plain": [
       "<Figure size 432x288 with 1 Axes>"
      ]
     },
     "metadata": {
      "needs_background": "light"
     },
     "output_type": "display_data"
    }
   ],
   "source": [
    "# Box plot to look at distribution and verify there is a somewhat normal distribution\n",
    "sns.boxplot(data = data, x = col)\n",
    "plt.title(f'Box Plot to show outliers and spread of {col}')\n",
    "plt.show()"
   ]
  },
  {
   "cell_type": "markdown",
   "metadata": {},
   "source": [
    "This feature looks to have normal features - enough to use Z-Scores to determine outliers."
   ]
  },
  {
   "cell_type": "code",
   "execution_count": 25,
   "metadata": {},
   "outputs": [
    {
     "data": {
      "text/html": [
       "<div>\n",
       "<style scoped>\n",
       "    .dataframe tbody tr th:only-of-type {\n",
       "        vertical-align: middle;\n",
       "    }\n",
       "\n",
       "    .dataframe tbody tr th {\n",
       "        vertical-align: top;\n",
       "    }\n",
       "\n",
       "    .dataframe thead th {\n",
       "        text-align: right;\n",
       "    }\n",
       "</style>\n",
       "<table border=\"1\" class=\"dataframe\">\n",
       "  <thead>\n",
       "    <tr style=\"text-align: right;\">\n",
       "      <th></th>\n",
       "      <th>album_name</th>\n",
       "      <th>popularity</th>\n",
       "      <th>artist</th>\n",
       "      <th>song_name</th>\n",
       "      <th>duration_ms</th>\n",
       "      <th>explicit</th>\n",
       "      <th>release_date</th>\n",
       "      <th>danceability</th>\n",
       "      <th>energy</th>\n",
       "      <th>loudness</th>\n",
       "      <th>speechiness</th>\n",
       "      <th>acousticness</th>\n",
       "      <th>instrumentalness</th>\n",
       "      <th>liveness</th>\n",
       "      <th>valence</th>\n",
       "      <th>tempo</th>\n",
       "    </tr>\n",
       "  </thead>\n",
       "  <tbody>\n",
       "    <tr>\n",
       "      <th>407</th>\n",
       "      <td>Day/Night</td>\n",
       "      <td>53</td>\n",
       "      <td>Parcels</td>\n",
       "      <td>SHADOW</td>\n",
       "      <td>181560</td>\n",
       "      <td>False</td>\n",
       "      <td>2021-11-05</td>\n",
       "      <td>0.0721</td>\n",
       "      <td>0.212</td>\n",
       "      <td>-12.492</td>\n",
       "      <td>0.0340</td>\n",
       "      <td>0.160</td>\n",
       "      <td>0.796</td>\n",
       "      <td>0.108</td>\n",
       "      <td>0.0351</td>\n",
       "      <td>178.482</td>\n",
       "    </tr>\n",
       "    <tr>\n",
       "      <th>633</th>\n",
       "      <td>Music Of The Spheres</td>\n",
       "      <td>66</td>\n",
       "      <td>Coldplay</td>\n",
       "      <td>✨</td>\n",
       "      <td>53033</td>\n",
       "      <td>False</td>\n",
       "      <td>2021-10-15</td>\n",
       "      <td>0.0859</td>\n",
       "      <td>0.289</td>\n",
       "      <td>-17.240</td>\n",
       "      <td>0.0359</td>\n",
       "      <td>0.805</td>\n",
       "      <td>0.990</td>\n",
       "      <td>0.141</td>\n",
       "      <td>0.0380</td>\n",
       "      <td>166.784</td>\n",
       "    </tr>\n",
       "  </tbody>\n",
       "</table>\n",
       "</div>"
      ],
      "text/plain": [
       "               album_name  popularity    artist song_name  duration_ms  \\\n",
       "407             Day/Night          53   Parcels    SHADOW       181560   \n",
       "633  Music Of The Spheres          66  Coldplay         ✨        53033   \n",
       "\n",
       "     explicit release_date  danceability  energy  loudness  speechiness  \\\n",
       "407     False   2021-11-05        0.0721   0.212   -12.492       0.0340   \n",
       "633     False   2021-10-15        0.0859   0.289   -17.240       0.0359   \n",
       "\n",
       "     acousticness  instrumentalness  liveness  valence    tempo  \n",
       "407         0.160             0.796     0.108   0.0351  178.482  \n",
       "633         0.805             0.990     0.141   0.0380  166.784  "
      ]
     },
     "execution_count": 25,
     "metadata": {},
     "output_type": "execute_result"
    }
   ],
   "source": [
    "# Display observations that are considered outliers based on popularity\n",
    "data[np.abs(zscore(data[col])) > 3]"
   ]
  },
  {
   "cell_type": "markdown",
   "metadata": {},
   "source": [
    "These observations do not seem to be errors, just abnormal realisations.\n",
    "\n",
    "However, since the produced Z-Scores tell us these are abnormal and the box plot shows that it has a suitable shape to assume normality, we can remove these outliers.\n",
    "\n",
    "Decision: Remove"
   ]
  },
  {
   "cell_type": "code",
   "execution_count": 26,
   "metadata": {},
   "outputs": [],
   "source": [
    "data = data[np.abs(zscore(data[col])) <= 3]"
   ]
  },
  {
   "cell_type": "markdown",
   "metadata": {},
   "source": [
    "#### loudness"
   ]
  },
  {
   "cell_type": "code",
   "execution_count": 27,
   "metadata": {},
   "outputs": [],
   "source": [
    "# Define Column of interest\n",
    "col = 'loudness'"
   ]
  },
  {
   "cell_type": "code",
   "execution_count": 28,
   "metadata": {},
   "outputs": [
    {
     "data": {
      "image/png": "[encoded data removed]",
      "text/plain": [
       "<Figure size 432x288 with 1 Axes>"
      ]
     },
     "metadata": {
      "needs_background": "light"
     },
     "output_type": "display_data"
    }
   ],
   "source": [
    "# Box plot to look at distribution and verify there is a somewhat normal distribution\n",
    "sns.boxplot(data = data, x = col)\n",
    "plt.title(f'Box Plot to show outliers and spread of {col}')\n",
    "plt.show()"
   ]
  },
  {
   "cell_type": "markdown",
   "metadata": {},
   "source": [
    "The box plot suggests that a cap at -25 would be more appropriate to control outliers due to its non-normal box plot shape.\n",
    "\n",
    "Decision: cap feature at -25"
   ]
  },
  {
   "cell_type": "code",
   "execution_count": 29,
   "metadata": {},
   "outputs": [],
   "source": [
    "# Control outliers\n",
    "data = data[data.loudness > -25]"
   ]
  },
  {
   "cell_type": "code",
   "execution_count": 30,
   "metadata": {},
   "outputs": [],
   "source": [
    "# Define Column of interest\n",
    "col = 'speechiness'"
   ]
  },
  {
   "cell_type": "code",
   "execution_count": 31,
   "metadata": {},
   "outputs": [
    {
     "data": {
      "image/png": "[encoded data removed]",
      "text/plain": [
       "<Figure size 432x288 with 1 Axes>"
      ]
     },
     "metadata": {
      "needs_background": "light"
     },
     "output_type": "display_data"
    }
   ],
   "source": [
    "# Box plot to look at distribution and verify there is a somewhat normal distribution\n",
    "sns.boxplot(data = data, x = col)\n",
    "plt.title(f'Box Plot to show outliers and spread of {col}')\n",
    "plt.show()"
   ]
  },
  {
   "cell_type": "markdown",
   "metadata": {},
   "source": [
    "The shape of this box plot suggests this feature is heavily not normal and that a capping approach would be more appropriate. The intention is to cap the last four values - we shall look at the data to find an appropriate cap."
   ]
  },
  {
   "cell_type": "code",
   "execution_count": 32,
   "metadata": {},
   "outputs": [
    {
     "data": {
      "text/plain": [
       "0.708"
      ]
     },
     "execution_count": 32,
     "metadata": {},
     "output_type": "execute_result"
    }
   ],
   "source": [
    "np.sort(data.speechiness)[-5]"
   ]
  },
  {
   "cell_type": "markdown",
   "metadata": {},
   "source": [
    "Decision: We shall cap at 0.708"
   ]
  },
  {
   "cell_type": "code",
   "execution_count": 33,
   "metadata": {},
   "outputs": [],
   "source": [
    "# Cap speechiness\n",
    "data = data[data.speechiness <= 0.708]"
   ]
  },
  {
   "cell_type": "markdown",
   "metadata": {},
   "source": [
    "#### instrumentalness"
   ]
  },
  {
   "cell_type": "code",
   "execution_count": 34,
   "metadata": {},
   "outputs": [],
   "source": [
    "# Define Column of interest\n",
    "col = 'instrumentalness'"
   ]
  },
  {
   "cell_type": "code",
   "execution_count": 35,
   "metadata": {},
   "outputs": [
    {
     "data": {
      "image/png": "[encoded data removed]",
      "text/plain": [
       "<Figure size 432x288 with 1 Axes>"
      ]
     },
     "metadata": {
      "needs_background": "light"
     },
     "output_type": "display_data"
    }
   ],
   "source": [
    "# Box plot to look at distribution and verify there is a somewhat normal distribution\n",
    "sns.boxplot(data = data, x = col)\n",
    "plt.title(f'Box Plot to show outliers and spread of {col}')\n",
    "plt.show()"
   ]
  },
  {
   "cell_type": "markdown",
   "metadata": {},
   "source": [
    "Due to the skew shown in this box plot, we cannot use Z-Scores to evaluate outliers. It would seem highlighted observations are just down to the distribution of the feature."
   ]
  },
  {
   "cell_type": "markdown",
   "metadata": {},
   "source": [
    "### liveness"
   ]
  },
  {
   "cell_type": "code",
   "execution_count": 36,
   "metadata": {},
   "outputs": [],
   "source": [
    "# Define Column of interest\n",
    "col = 'liveness'"
   ]
  },
  {
   "cell_type": "code",
   "execution_count": 37,
   "metadata": {},
   "outputs": [
    {
     "data": {
      "image/png": "[encoded data removed]",
      "text/plain": [
       "<Figure size 432x288 with 1 Axes>"
      ]
     },
     "metadata": {
      "needs_background": "light"
     },
     "output_type": "display_data"
    }
   ],
   "source": [
    "# Box plot to look at distribution and verify there is a somewhat normal distribution\n",
    "sns.boxplot(data = data, x = col)\n",
    "plt.title(f'Box Plot to show outliers and spread of {col}')\n",
    "plt.show()"
   ]
  },
  {
   "cell_type": "markdown",
   "metadata": {},
   "source": [
    "The box plot shown for `liveness` shows that its distribution cannot be assumed normal and so we will leave highlighted values as they are.\n",
    "\n",
    "Decision: Leave feature as it is."
   ]
  },
  {
   "cell_type": "markdown",
   "metadata": {},
   "source": [
    "\n",
    "This is our last feature to check for outliers. We can now perform our analysis outlier-free."
   ]
  },
  {
   "cell_type": "markdown",
   "metadata": {},
   "source": [
    "# Step 3: Perform exploratory analysis and ask questions"
   ]
  },
  {
   "cell_type": "markdown",
   "metadata": {},
   "source": [
    "Throughout this analysis, when using statistical tests, we use a threshold of 0.05 due to the Neyman-Pearson Lemma."
   ]
  },
  {
   "cell_type": "code",
   "execution_count": 38,
   "metadata": {},
   "outputs": [],
   "source": [
    "# Define plot colours\n",
    "colours = 'bgrcyk' * 3"
   ]
  },
  {
   "cell_type": "code",
   "execution_count": 39,
   "metadata": {},
   "outputs": [],
   "source": [
    "# Define lists of feature types\n",
    "object_features = ['song_name', 'album_name', 'artist']\n",
    "\n",
    "numerical_features = ['popularity', 'danceability', 'energy', 'loudness', 'speechiness',\n",
    "'acousticness', 'instrumentalness', 'liveness', 'valence', 'tempo', 'duration_ms']\n",
    "\n",
    "bool_features = ['explicit']\n",
    "\n",
    "date_features = ['release_date']\n",
    "\n",
    "ignore_features = []"
   ]
  },
  {
   "cell_type": "code",
   "execution_count": 40,
   "metadata": {},
   "outputs": [
    {
     "name": "stdout",
     "output_type": "stream",
     "text": [
      "All vars: 16\n",
      "data vars: 16\n"
     ]
    }
   ],
   "source": [
    "all_features = object_features + numerical_features + bool_features + date_features + ignore_features\n",
    "\n",
    "print('All vars:', len(all_features))\n",
    "print('data vars:', len(data.columns))"
   ]
  },
  {
   "cell_type": "markdown",
   "metadata": {},
   "source": [
    "### Numerical Vars"
   ]
  },
  {
   "cell_type": "code",
   "execution_count": 61,
   "metadata": {},
   "outputs": [
    {
     "data": {
      "text/html": [
       "<div>\n",
       "<style scoped>\n",
       "    .dataframe tbody tr th:only-of-type {\n",
       "        vertical-align: middle;\n",
       "    }\n",
       "\n",
       "    .dataframe tbody tr th {\n",
       "        vertical-align: top;\n",
       "    }\n",
       "\n",
       "    .dataframe thead th {\n",
       "        text-align: right;\n",
       "    }\n",
       "</style>\n",
       "<table border=\"1\" class=\"dataframe\">\n",
       "  <thead>\n",
       "    <tr style=\"text-align: right;\">\n",
       "      <th></th>\n",
       "      <th>count</th>\n",
       "      <th>mean</th>\n",
       "      <th>std</th>\n",
       "      <th>min</th>\n",
       "      <th>25%</th>\n",
       "      <th>50%</th>\n",
       "      <th>75%</th>\n",
       "      <th>max</th>\n",
       "      <th>Range</th>\n",
       "      <th>Median</th>\n",
       "      <th>Unique</th>\n",
       "      <th>Null</th>\n",
       "    </tr>\n",
       "  </thead>\n",
       "  <tbody>\n",
       "    <tr>\n",
       "      <th>popularity</th>\n",
       "      <td>1211.0</td>\n",
       "      <td>50.853014</td>\n",
       "      <td>15.255397</td>\n",
       "      <td>3.000000</td>\n",
       "      <td>41.0000</td>\n",
       "      <td>51.000000</td>\n",
       "      <td>60.000000</td>\n",
       "      <td>96.000</td>\n",
       "      <td>93.000000</td>\n",
       "      <td>51.000000</td>\n",
       "      <td>91</td>\n",
       "      <td>0</td>\n",
       "    </tr>\n",
       "    <tr>\n",
       "      <th>danceability</th>\n",
       "      <td>1211.0</td>\n",
       "      <td>0.590954</td>\n",
       "      <td>0.163972</td>\n",
       "      <td>0.113000</td>\n",
       "      <td>0.4780</td>\n",
       "      <td>0.606000</td>\n",
       "      <td>0.712000</td>\n",
       "      <td>0.981</td>\n",
       "      <td>0.868000</td>\n",
       "      <td>0.606000</td>\n",
       "      <td>559</td>\n",
       "      <td>0</td>\n",
       "    </tr>\n",
       "    <tr>\n",
       "      <th>energy</th>\n",
       "      <td>1211.0</td>\n",
       "      <td>0.614929</td>\n",
       "      <td>0.204160</td>\n",
       "      <td>0.047100</td>\n",
       "      <td>0.4750</td>\n",
       "      <td>0.634000</td>\n",
       "      <td>0.777000</td>\n",
       "      <td>0.987</td>\n",
       "      <td>0.939900</td>\n",
       "      <td>0.634000</td>\n",
       "      <td>600</td>\n",
       "      <td>0</td>\n",
       "    </tr>\n",
       "    <tr>\n",
       "      <th>loudness</th>\n",
       "      <td>1211.0</td>\n",
       "      <td>-7.468992</td>\n",
       "      <td>3.012801</td>\n",
       "      <td>-21.850000</td>\n",
       "      <td>-8.8850</td>\n",
       "      <td>-6.914000</td>\n",
       "      <td>-5.400000</td>\n",
       "      <td>-1.136</td>\n",
       "      <td>20.714000</td>\n",
       "      <td>-6.914000</td>\n",
       "      <td>1132</td>\n",
       "      <td>0</td>\n",
       "    </tr>\n",
       "    <tr>\n",
       "      <th>speechiness</th>\n",
       "      <td>1211.0</td>\n",
       "      <td>0.108500</td>\n",
       "      <td>0.112129</td>\n",
       "      <td>0.023400</td>\n",
       "      <td>0.0380</td>\n",
       "      <td>0.056900</td>\n",
       "      <td>0.124000</td>\n",
       "      <td>0.708</td>\n",
       "      <td>0.684600</td>\n",
       "      <td>0.056900</td>\n",
       "      <td>676</td>\n",
       "      <td>0</td>\n",
       "    </tr>\n",
       "    <tr>\n",
       "      <th>acousticness</th>\n",
       "      <td>1211.0</td>\n",
       "      <td>0.309948</td>\n",
       "      <td>0.312539</td>\n",
       "      <td>0.000004</td>\n",
       "      <td>0.0352</td>\n",
       "      <td>0.193000</td>\n",
       "      <td>0.555500</td>\n",
       "      <td>0.991</td>\n",
       "      <td>0.990996</td>\n",
       "      <td>0.193000</td>\n",
       "      <td>913</td>\n",
       "      <td>0</td>\n",
       "    </tr>\n",
       "    <tr>\n",
       "      <th>instrumentalness</th>\n",
       "      <td>1211.0</td>\n",
       "      <td>0.070746</td>\n",
       "      <td>0.202129</td>\n",
       "      <td>0.000000</td>\n",
       "      <td>0.0000</td>\n",
       "      <td>0.000037</td>\n",
       "      <td>0.004905</td>\n",
       "      <td>0.981</td>\n",
       "      <td>0.981000</td>\n",
       "      <td>0.000037</td>\n",
       "      <td>738</td>\n",
       "      <td>0</td>\n",
       "    </tr>\n",
       "    <tr>\n",
       "      <th>liveness</th>\n",
       "      <td>1211.0</td>\n",
       "      <td>0.194014</td>\n",
       "      <td>0.171303</td>\n",
       "      <td>0.023400</td>\n",
       "      <td>0.1010</td>\n",
       "      <td>0.125000</td>\n",
       "      <td>0.224000</td>\n",
       "      <td>0.985</td>\n",
       "      <td>0.961600</td>\n",
       "      <td>0.125000</td>\n",
       "      <td>543</td>\n",
       "      <td>0</td>\n",
       "    </tr>\n",
       "    <tr>\n",
       "      <th>valence</th>\n",
       "      <td>1211.0</td>\n",
       "      <td>0.448325</td>\n",
       "      <td>0.225417</td>\n",
       "      <td>0.018500</td>\n",
       "      <td>0.2605</td>\n",
       "      <td>0.434000</td>\n",
       "      <td>0.620000</td>\n",
       "      <td>0.967</td>\n",
       "      <td>0.948500</td>\n",
       "      <td>0.434000</td>\n",
       "      <td>662</td>\n",
       "      <td>0</td>\n",
       "    </tr>\n",
       "    <tr>\n",
       "      <th>tempo</th>\n",
       "      <td>1211.0</td>\n",
       "      <td>119.023580</td>\n",
       "      <td>28.893527</td>\n",
       "      <td>45.481000</td>\n",
       "      <td>95.6135</td>\n",
       "      <td>119.954000</td>\n",
       "      <td>139.468500</td>\n",
       "      <td>202.020</td>\n",
       "      <td>156.539000</td>\n",
       "      <td>119.954000</td>\n",
       "      <td>1183</td>\n",
       "      <td>0</td>\n",
       "    </tr>\n",
       "    <tr>\n",
       "      <th>duration_ms</th>\n",
       "      <td>1211.0</td>\n",
       "      <td>210752.303881</td>\n",
       "      <td>60106.528442</td>\n",
       "      <td>21388.000000</td>\n",
       "      <td>178759.0000</td>\n",
       "      <td>205760.000000</td>\n",
       "      <td>237493.500000</td>\n",
       "      <td>446246.000</td>\n",
       "      <td>424858.000000</td>\n",
       "      <td>205760.000000</td>\n",
       "      <td>1188</td>\n",
       "      <td>0</td>\n",
       "    </tr>\n",
       "  </tbody>\n",
       "</table>\n",
       "</div>"
      ],
      "text/plain": [
       "                   count           mean           std           min  \\\n",
       "popularity        1211.0      50.853014     15.255397      3.000000   \n",
       "danceability      1211.0       0.590954      0.163972      0.113000   \n",
       "energy            1211.0       0.614929      0.204160      0.047100   \n",
       "loudness          1211.0      -7.468992      3.012801    -21.850000   \n",
       "speechiness       1211.0       0.108500      0.112129      0.023400   \n",
       "acousticness      1211.0       0.309948      0.312539      0.000004   \n",
       "instrumentalness  1211.0       0.070746      0.202129      0.000000   \n",
       "liveness          1211.0       0.194014      0.171303      0.023400   \n",
       "valence           1211.0       0.448325      0.225417      0.018500   \n",
       "tempo             1211.0     119.023580     28.893527     45.481000   \n",
       "duration_ms       1211.0  210752.303881  60106.528442  21388.000000   \n",
       "\n",
       "                          25%            50%            75%         max  \\\n",
       "popularity            41.0000      51.000000      60.000000      96.000   \n",
       "danceability           0.4780       0.606000       0.712000       0.981   \n",
       "energy                 0.4750       0.634000       0.777000       0.987   \n",
       "loudness              -8.8850      -6.914000      -5.400000      -1.136   \n",
       "speechiness            0.0380       0.056900       0.124000       0.708   \n",
       "acousticness           0.0352       0.193000       0.555500       0.991   \n",
       "instrumentalness       0.0000       0.000037       0.004905       0.981   \n",
       "liveness               0.1010       0.125000       0.224000       0.985   \n",
       "valence                0.2605       0.434000       0.620000       0.967   \n",
       "tempo                 95.6135     119.954000     139.468500     202.020   \n",
       "duration_ms       178759.0000  205760.000000  237493.500000  446246.000   \n",
       "\n",
       "                          Range         Median  Unique  Null  \n",
       "popularity            93.000000      51.000000      91     0  \n",
       "danceability           0.868000       0.606000     559     0  \n",
       "energy                 0.939900       0.634000     600     0  \n",
       "loudness              20.714000      -6.914000    1132     0  \n",
       "speechiness            0.684600       0.056900     676     0  \n",
       "acousticness           0.990996       0.193000     913     0  \n",
       "instrumentalness       0.981000       0.000037     738     0  \n",
       "liveness               0.961600       0.125000     543     0  \n",
       "valence                0.948500       0.434000     662     0  \n",
       "tempo                156.539000     119.954000    1183     0  \n",
       "duration_ms       424858.000000  205760.000000    1188     0  "
      ]
     },
     "execution_count": 61,
     "metadata": {},
     "output_type": "execute_result"
    }
   ],
   "source": [
    "numeric_df = data[numerical_features]\n",
    "\n",
    "# Calculate summary metrics for each numerical feature\n",
    "numeric_summary = numeric_df.describe().T\n",
    "\n",
    "# Add additional metrics to summary\n",
    "numeric_summary['Range'] = numeric_summary['max'] - numeric_summary['min']\n",
    "numeric_summary['Median'] = numeric_df.median()\n",
    "numeric_summary['Unique'] = numeric_df.nunique()\n",
    "numeric_summary['Null'] = numeric_df.isnull().sum()\n",
    "\n",
    "numeric_summary"
   ]
  },
  {
   "cell_type": "markdown",
   "metadata": {},
   "source": [
    "### Distributions\n",
    "\n",
    "In this next section we will be looking at the distributions of the numeric variables in our dataset and try to answer the following questions:\n",
    "- Do any variables look to be normally distributed?\n",
    "- Are there any notable levels of kurtosis and skewness?"
   ]
  },
  {
   "cell_type": "code",
   "execution_count": 44,
   "metadata": {},
   "outputs": [
    {
     "data": {
      "image/png": "[encoded data removed]",
      "text/plain": [
       "<Figure size 2160x792 with 12 Axes>"
      ]
     },
     "metadata": {
      "needs_background": "light"
     },
     "output_type": "display_data"
    }
   ],
   "source": [
    "# Create subplots to display the plots nicely\n",
    "fig, ax = plt.subplots(\n",
    "    nrows = 3,\n",
    "    ncols = 4,\n",
    "    figsize = (30, numeric_df.shape[1])\n",
    ")\n",
    "\n",
    "# Loop through each numeric feature and plot a frequency histogram \n",
    "for idx, col in enumerate(numerical_features):\n",
    "\n",
    "    # Use idx to generate coordinates\n",
    "    x, y = idx // 4, idx % 4\n",
    "\n",
    "    # Plot the histogram\n",
    "    numeric_df[col].plot(\n",
    "        ax = ax[x,y],\n",
    "        kind = 'hist',\n",
    "        color = colours[idx],\n",
    "        legend = False,\n",
    "        title = col\n",
    "    )\n",
    "\n",
    "plt.show()"
   ]
  },
  {
   "cell_type": "markdown",
   "metadata": {},
   "source": [
    "#### Q1.1: Do any variables look to be normally distributed?\n",
    "\n",
    "As we can see from the histograms, `popularity` and `duration_ms` are the only one that looks to have a histogram that resembles a normal distribution. Since these are arguably the most 'human' features, this would make sense. However, even between these two features, the kurtosis varies: `popularity` has a medium-levelled peak and `duration_ms` had a sharp peak suggesting it has more of a leptokurtic distribution.\n",
    "\n",
    "Other variables are all skewed and have a different kurtosis. "
   ]
  },
  {
   "cell_type": "markdown",
   "metadata": {},
   "source": [
    "We can test if these features are normal more rigorously with a normality test:"
   ]
  },
  {
   "cell_type": "code",
   "execution_count": 62,
   "metadata": {},
   "outputs": [
    {
     "name": "stdout",
     "output_type": "stream",
     "text": [
      "--- POPULARITY ---\n",
      "pvalue: 0.0476644\n",
      "Reject Null Hypothesis\n",
      "--- DURATION_MS ---\n",
      "pvalue: 2.30963e-24\n",
      "Reject Null Hypothesis\n"
     ]
    }
   ],
   "source": [
    "# Perform normal test for each of the specified columns\n",
    "for col in  ['popularity', 'duration_ms']:\n",
    "    print(f'--- {col.upper()} ---')\n",
    "\n",
    "    # Perform normal test for column in loop\n",
    "    statistic, pvalue = normaltest(data[col])\n",
    "    print(f\"pvalue: {pvalue:g}\")\n",
    "\n",
    "    # Null Hypothesis: x comes from a normal distribution\n",
    "    if pvalue < 0.05:\n",
    "        print(\"Reject Null Hypothesis\")\n",
    "    else:\n",
    "        print(\"Fail to Reject Null Hypothesis\")"
   ]
  },
  {
   "cell_type": "markdown",
   "metadata": {},
   "source": [
    "We see that, although the histograms look normal, these features are unfortunately not normally distributed due to this normality test - however close to 0.05 the pvalue is."
   ]
  },
  {
   "cell_type": "markdown",
   "metadata": {},
   "source": [
    "\n",
    "#### Q1.2: Are there any notable levels of kurtosis and skewness?\n",
    "\n",
    "The variables that stand out from these histograms in terms of skew and kurtosis are `Valence`, `Instrumentalness`/`Acousticness`/`Speechiness` and `Energy`.\n",
    "\n",
    "`Valence` (the level of musical positivity conveyed by the track) stands out due to its lack of major skew, and low levels of kurtosis. This tells us that, although the mean is `0.454` and it does peak at this point, there is less of a difference in frequency between the extremities and the mean suggesting this variable is the most evenly spread.\n",
    "\n",
    "`Instrumentalness`/`Acousticness`/`Speechiness` are all grouped together because they all show a similar distribution: a highly positive skew with an incredibly high kurtosis. This makes sense as these features tend to be more binary where a track has an emphasis on the music and the instruments or it otherwise focuses on the lyrics. Something to potentially consider for these factors in any future analysis is either to create a binary factor from them or disregard them in modelling if values greater than one are considered too rare.\n",
    "\n",
    "`Energy` is also something that draws my eye because it has quite a large negative skew with low kurtosis. This suggests that songs with higher `energy` are currently being released - perhaps in preparation for Christmas positivity. The low kutosis, in a similar way to `valence`, suggests that this variable is also more evenly spread than other variables."
   ]
  },
  {
   "cell_type": "markdown",
   "metadata": {},
   "source": [
    "### Correlations\n",
    "\n",
    "In this next section we will be looking at the correlations between numeric variables so that we can answer the following questions:\n",
    "\n",
    "- Which features are strongly correlated?\n",
    "- Is this expected?"
   ]
  },
  {
   "cell_type": "code",
   "execution_count": 63,
   "metadata": {},
   "outputs": [
    {
     "data": {
      "image/png": "[encoded data removed]",
      "text/plain": [
       "<Figure size 720x576 with 2 Axes>"
      ]
     },
     "metadata": {
      "needs_background": "light"
     },
     "output_type": "display_data"
    }
   ],
   "source": [
    "# Generate correlation value between all numeric features\n",
    "corr = data[numerical_features].corr()\n",
    "\n",
    "# Create subplot for display\n",
    "fig, ax = plt.subplots(figsize=(10, 8))\n",
    "\n",
    "# Create heatmap for correlations\n",
    "sns.heatmap(corr, xticklabels=corr.columns, yticklabels=corr.columns, ax = ax)\n",
    "\n",
    "plt.show()"
   ]
  },
  {
   "cell_type": "code",
   "execution_count": 47,
   "metadata": {},
   "outputs": [],
   "source": [
    "highly_corr = []\n",
    "\n",
    "# Loop through correlated values and create list of columns that are highly correlated\n",
    "for i in corr.index:\n",
    "    for j in corr.columns:\n",
    "\n",
    "        # We define correlation values of 0.4 to be highly correlated\n",
    "        if 0.4 < abs(corr).loc[i, j] < 1 and (j, i) not in highly_corr:\n",
    "            highly_corr.append((i, j))"
   ]
  },
  {
   "cell_type": "markdown",
   "metadata": {},
   "source": [
    "#### Q2.1: Which features are strongly correlated?\n",
    "\n",
    "We can see that there are some stronger levels of correlation between the above features. We have chosen all pairs that exhibit and correlation score of over 0.4 in absolute value. This is because we are concerned with strongly correlated cases and pairs such as (`loudness`, `valence`) show some levels of correlation, but not what we are currently interested in.\n",
    "\n",
    "\n",
    "We shall display scatter plots for each pair to give us a better understanding of their relationships."
   ]
  },
  {
   "cell_type": "code",
   "execution_count": 64,
   "metadata": {},
   "outputs": [
    {
     "data": {
      "image/png": "[encoded data removed]",
      "text/plain": [
       "<Figure size 2160x288 with 4 Axes>"
      ]
     },
     "metadata": {
      "needs_background": "light"
     },
     "output_type": "display_data"
    }
   ],
   "source": [
    "# Create subplots to display the plots nicely\n",
    "fig, ax = plt.subplots(\n",
    "    nrows = (len(highly_corr) // 4),\n",
    "    ncols = 4,\n",
    "    figsize = (30, len(highly_corr))\n",
    "\n",
    ")\n",
    "\n",
    "# Loop through each numeric feature and plot a frequency histogram \n",
    "for idx, pair in enumerate(highly_corr):\n",
    "\n",
    "    # Plot the scatter plot for this loop\n",
    "    sns.scatterplot(\n",
    "        ax = ax[idx],\n",
    "        data = data,\n",
    "        x = pair[0],\n",
    "        y = pair[1],\n",
    "        color = colours[idx],\n",
    "        ci = None\n",
    "    )\n",
    "\n",
    "plt.show()"
   ]
  },
  {
   "cell_type": "markdown",
   "metadata": {},
   "source": [
    "#### Q2.2: What's interesting about the shape of these graphs?\n",
    "\n",
    "Obviously, the plots match the correlation values, but what is interesting about these scatter graphs are the gradients of the hypothetical line of best fits. The (`energy`, `loudness`) relationship is clearly the strongest; however, the gradient is very shallow. This tells us that a small change in the loudness rating of a song has dramatic effects on its energy ratings. This is something we would want to consider in modelling.\n",
    "\n",
    "What's interesting is that the correlation between `energy` and `loudness` seems to be transitive i.e. since `energy` $\\propto$\n",
    " `acousticness` and `acousticness` $\\propto$ `loudness` then the fact that `energy` and `loudness` are also correlated suggests these three factors have a cyclical, transitive relationship.\n",
    "\n",
    "For further modelling, only one from `energy` and `loudness` should be included due to the high correlation."
   ]
  },
  {
   "cell_type": "markdown",
   "metadata": {},
   "source": [
    "### Regression Analysis: Energy vs. Loudness\n",
    "\n",
    "#### Q2.3: Is the relationship between Energy and Loudness Linear?\n",
    "\n",
    "To answer this question, we will perform linear regression to see if a linear model would sufficiently fit this relationship."
   ]
  },
  {
   "cell_type": "code",
   "execution_count": 49,
   "metadata": {},
   "outputs": [],
   "source": [
    "# Define X and y for our analysis\n",
    "X, y = data['energy'].values.reshape(-1,1), data['loudness'].values\n",
    "\n",
    "# Split data into test and train sets\n",
    "X_train, X_test, y_train, y_test = train_test_split(X, y, test_size=0.33, random_state=1)"
   ]
  },
  {
   "cell_type": "code",
   "execution_count": 50,
   "metadata": {},
   "outputs": [
    {
     "name": "stdout",
     "output_type": "stream",
     "text": [
      "Model .score value, test data: 0.54587\n"
     ]
    }
   ],
   "source": [
    "# Create and fit model\n",
    "lrm = LinearRegression(fit_intercept=True)\n",
    "lrm.fit(X_train, y_train)\n",
    "\n",
    "# Score model\n",
    "print(f'Model .score value, test data: {lrm.score(X_test, y_test):.5f}')"
   ]
  },
  {
   "cell_type": "markdown",
   "metadata": {},
   "source": [
    "Not the perfect model here, since 0.54587 is not close to 1.00. However, it is sufficient performance for our requirements."
   ]
  },
  {
   "cell_type": "code",
   "execution_count": 59,
   "metadata": {},
   "outputs": [
    {
     "name": "stdout",
     "output_type": "stream",
     "text": [
      "LinearRegression Model Intercept: -13.749480832789684\n",
      "LinearRegression Model Gradient: 10.2945167800307\n"
     ]
    }
   ],
   "source": [
    "# Print model intercept and gradient\n",
    "print(f'LinearRegression Model Intercept: {lrm.intercept_}')\n",
    "print(f'LinearRegression Model Gradient: {lrm.coef_[0]}')"
   ]
  },
  {
   "cell_type": "markdown",
   "metadata": {},
   "source": [
    "Looking at our model gradient, we see a strong positive correlation of 10x between `energy` and `loudness`.\n",
    "\n",
    "We will now produce a plot to view this model."
   ]
  },
  {
   "cell_type": "code",
   "execution_count": 65,
   "metadata": {},
   "outputs": [
    {
     "data": {
      "text/plain": [
       "[<matplotlib.lines.Line2D at 0x7f8ab9378670>]"
      ]
     },
     "execution_count": 65,
     "metadata": {},
     "output_type": "execute_result"
    },
    {
     "data": {
      "image/png": "[encoded data removed]",
      "text/plain": [
       "<Figure size 720x576 with 1 Axes>"
      ]
     },
     "metadata": {
      "needs_background": "light"
     },
     "output_type": "display_data"
    }
   ],
   "source": [
    "# Create subplots for display\n",
    "fig, ax = plt.subplots(\n",
    "    nrows = 1,\n",
    "    ncols = 1,\n",
    "    figsize = (10, 8)\n",
    "\n",
    ")\n",
    "\n",
    "# Generate predictions\n",
    "y_pred = lrm.predict(X_test)\n",
    "\n",
    "# Plot scatter plot\n",
    "sns.scatterplot(ax = ax,\n",
    "        data = data,\n",
    "        x = 'energy',\n",
    "        y = 'loudness',\n",
    "        color = 'g',\n",
    "        ci = None\n",
    "    )\n",
    "\n",
    "# Give plot a title\n",
    "plt.title('Energy/Loudness Scatter Plot')\n",
    "\n",
    "# Plot straight line of model predictions in blue\n",
    "plt.plot(X_test, y_pred, color=\"blue\", linewidth=2)"
   ]
  },
  {
   "cell_type": "markdown",
   "metadata": {},
   "source": [
    "Plotting the predictions from the test set as a line on the scatter plot, we can see that it fits the bulk of the data reasonably well. This comment is supported by the $R^2$ value that we have for this model.\n",
    "\n",
    "However, the intuition does suggest that the relationship is potentially not linear - particularly as energy moves towards 0. These points will have been removed in our outlier analysis as it's not the body of data we are interested in.\n",
    "\n",
    "Regression suggests that there is at least a linear relationship not near the extremities.\n"
   ]
  },
  {
   "cell_type": "markdown",
   "metadata": {},
   "source": [
    "### Bool Variables - Explicit"
   ]
  },
  {
   "cell_type": "code",
   "execution_count": 393,
   "metadata": {},
   "outputs": [],
   "source": [
    "bool_df = data[bool_features]"
   ]
  },
  {
   "cell_type": "code",
   "execution_count": 394,
   "metadata": {},
   "outputs": [
    {
     "data": {
      "image/png": "[encoded data removed]",
      "text/plain": [
       "<Figure size 576x360 with 1 Axes>"
      ]
     },
     "metadata": {
      "needs_background": "light"
     },
     "output_type": "display_data"
    }
   ],
   "source": [
    "# Create subplot for display\n",
    "fig, ax = plt.subplots(\n",
    "    nrows = 1,\n",
    "    ncols = 1,\n",
    "    figsize = (8, 5)\n",
    "\n",
    ")\n",
    "\n",
    "# Plot count plot of explicit variable\n",
    "sns.countplot(\n",
    "    data = bool_df,\n",
    "    x = 'explicit',\n",
    "    color = colours[0]\n",
    ")\n",
    "\n",
    "plt.show()"
   ]
  },
  {
   "cell_type": "markdown",
   "metadata": {},
   "source": [
    "We can see that there is a slight difference between the value counts of the True and False values. There are roughly double the number of False values compared to True, but this should not affect the results too much."
   ]
  },
  {
   "cell_type": "markdown",
   "metadata": {},
   "source": [
    "### Boolean Correlation with Numeric Feaetures"
   ]
  },
  {
   "cell_type": "markdown",
   "metadata": {},
   "source": [
    "### Explicit Feature\n",
    "\n",
    "In this section we will be looking at the effect of the explicit feature on our numeric features. We will be looking to answer the following questions:\n",
    "\n",
    "- How does the explicit score of a song affect the audio feature scores?\n",
    "- Does any single audio feature jump out?\n",
    "- Assuming this is the case, does this relationship make sense?"
   ]
  },
  {
   "cell_type": "code",
   "execution_count": 66,
   "metadata": {},
   "outputs": [
    {
     "data": {
      "image/png": "[encoded data removed]",
      "text/plain": [
       "<Figure size 2160x792 with 12 Axes>"
      ]
     },
     "metadata": {
      "needs_background": "light"
     },
     "output_type": "display_data"
    }
   ],
   "source": [
    "# Create subplots for display\n",
    "fig, ax = plt.subplots(\n",
    "    nrows = 3,\n",
    "    ncols = 4,\n",
    "    figsize = (30, numeric_df.shape[1])\n",
    ")\n",
    "\n",
    "# Loop through numerical features and plot frequencies under the explicit varible\n",
    "for idx, ncol in enumerate(numerical_features):\n",
    "\n",
    "    # Use index as coordinate systems\n",
    "    x, y = idx // 4, idx % 4\n",
    "\n",
    "    # Plot bar chart for relationship\n",
    "    sns.barplot(\n",
    "        ax = ax[x, y],\n",
    "        data = data,\n",
    "        x = 'explicit',\n",
    "        y = ncol,\n",
    "        color = colours[idx],\n",
    "        ci = None\n",
    "    )\n",
    "\n",
    "plt.show()"
   ]
  },
  {
   "cell_type": "markdown",
   "metadata": {},
   "source": [
    "#### Q3.1: How does the explicit score of a song affect the audio feature scores?\n",
    "\n",
    "- It does look like a track being `explicit` does affect some audio features.\n",
    "- There is a slight difference in popularity based on whether a song is `explicit` or not. We can see that the `explicit` songs in our data have a higher average `popularity` score. Although the frequency of explicit tracks is half that of non-explicit tracks and that this difference is small, this is something that we will look deeper into with a hypothesis test.\n",
    "- Features to be more so affected are `speechiness`, `acousticness` and `instrumentalness` which has a massive gulf between the average score of this boolean. \n",
    "- We also see that the `danceability` of a track is affected by if it is `explicit` or not."
   ]
  },
  {
   "cell_type": "markdown",
   "metadata": {},
   "source": [
    "#### Q3.2: Does any single audio feature jump out? And do these relationships make sense?"
   ]
  },
  {
   "cell_type": "code",
   "execution_count": 396,
   "metadata": {},
   "outputs": [
    {
     "data": {
      "image/png": "[encoded data removed]",
      "text/plain": [
       "<Figure size 2160x576 with 3 Axes>"
      ]
     },
     "metadata": {
      "needs_background": "light"
     },
     "output_type": "display_data"
    }
   ],
   "source": [
    "# Specify columns that jump out\n",
    "columns_of_interest = ['speechiness', 'acousticness', 'instrumentalness']\n",
    "\n",
    "# Create subplots for plot display\n",
    "fig, ax = plt.subplots(\n",
    "    nrows = 1,\n",
    "    ncols = 3,\n",
    "    figsize = (30, 8)\n",
    ")\n",
    "\n",
    "# Loop through columns of interest to create bar plots\n",
    "for idx, ncol in enumerate(columns_of_interest):\n",
    "\n",
    "    # Create bar plots\n",
    "    sns.barplot(\n",
    "        ax = ax[idx],\n",
    "        data = data,\n",
    "        x = 'explicit',\n",
    "        y = ncol,\n",
    "        color = colours[idx],\n",
    "        ci = None\n",
    "    )\n",
    "\n",
    "plt.show()"
   ]
  },
  {
   "cell_type": "markdown",
   "metadata": {},
   "source": [
    "- The following features jump out: `speechiness`, `acousticness` and `instrumentalness`.\n",
    "- The `acousticness` and `instrumentalness` relationships jump out because of the extreme difference. However, these relationships are intuitive because songs that have a high score for `acousticness` and `instrumentalness` conversely have a lack in lyrics because the emphasis is not there, and so the averages are so much higher for non-explicit tracks.\n",
    "- The `speechiness` relationship also makes sense for a similar reason as above but in the opposite direction. This suggests that if a song has more words or greater clarity of lyrics, it is more likely that an explicit word appears in the song.\n"
   ]
  },
  {
   "cell_type": "markdown",
   "metadata": {},
   "source": [
    "### Hypothesis Tests\n",
    "\n",
    "#### Q3.3: Is there a significant statistical difference in `danceability`, `popularity` and `liveness` when a song is Explicit or not?\n",
    "\n",
    "The two features that look to have a more subtle difference are `danceability`, `popularity` and `liveness`."
   ]
  },
  {
   "cell_type": "markdown",
   "metadata": {},
   "source": [
    "Does `danceability`, `popularity` and `liveness` vary based on if a song is explicit or not?\n",
    "\n",
    "Null Hypothesis: $\\mu_{True} - \\mu_{False} = 0$\n",
    "\n",
    "Alternative Hypothesis: $\\mu_{True} - \\mu_{False} \\neq 0$"
   ]
  },
  {
   "cell_type": "code",
   "execution_count": 60,
   "metadata": {},
   "outputs": [
    {
     "name": "stdout",
     "output_type": "stream",
     "text": [
      "\n",
      "--- POPULARITY ---\n",
      "Variances:\n",
      "\tTrue: 240.36356018342502\n",
      "\tFalse: 222.02447017787475\n",
      "There is a suitable ratio in variances for us to perform this hypothesis test.\n",
      "\n",
      "Hypothesis test:\n",
      "\tstatistic: 5.19314\n",
      "\tpvalue: 0.00000\n",
      "\n",
      "--- DANCEABILITY ---\n",
      "Variances:\n",
      "\tTrue: 0.026416052156640626\n",
      "\tFalse: 0.024262203435991534\n",
      "There is a suitable ratio in variances for us to perform this hypothesis test.\n",
      "\n",
      "Hypothesis test:\n",
      "\tstatistic: 9.76510\n",
      "\tpvalue: 0.00000\n",
      "\n",
      "--- LIVENESS ---\n",
      "Variances:\n",
      "\tTrue: 0.033880635425547596\n",
      "\tFalse: 0.02730039542005554\n",
      "There is a suitable ratio in variances for us to perform this hypothesis test.\n",
      "\n",
      "Hypothesis test:\n",
      "\tstatistic: 1.69195\n",
      "\tpvalue: 0.09091\n"
     ]
    }
   ],
   "source": [
    "# Perform the following hypothesis tests for the specified columns\n",
    "for var in ['popularity', 'danceability', 'liveness']:\n",
    "    print('\\n---', var.upper(), '---')\n",
    "\n",
    "    # Split data based on explicit variable\n",
    "    data_explicit_true = data[data.explicit == True][var]\n",
    "    data_explicit_false = data[data.explicit == False][var]\n",
    "\n",
    "    print('Variances:')\n",
    "    # Check for variance difference\n",
    "    var_true = np.var(data_explicit_true)\n",
    "    var_false = np.var(data_explicit_false)\n",
    "    print(f'\\tTrue: {var_true}\\n\\tFalse: {var_false}')\n",
    "\n",
    "    # Make sure the variance ratios are suitable\n",
    "    if 0.25 < var_true/var_false < 4:\n",
    "        print(f'There is a suitable ratio in variances for us to perform this hypothesis test.')\n",
    "\n",
    "        #Perform test\n",
    "        print('\\nHypothesis test:')\n",
    "        statistic, pvalue = ttest_ind(data_explicit_true, data_explicit_false)\n",
    "\n",
    "        # Print results\n",
    "        print(f'\\tstatistic: {statistic:.5f}')\n",
    "        print(f'\\tpvalue: {pvalue:.5f}')\n",
    "    else:\n",
    "        print('Ratio between variance is too large. Test not performed.')"
   ]
  },
  {
   "cell_type": "markdown",
   "metadata": {},
   "source": [
    "Since our pvalue is less that 0.05 in the first two cases, we find a statistically significant difference between the two means and reject the null hypothesis for `danceability` and `popularity`.\n",
    "\n",
    "However, we do not have sufficient evidence to reject the null hypothesis for `liveness` and so we fail to reject that $\\mu_{True} - \\mu_{False} = 0$"
   ]
  },
  {
   "cell_type": "markdown",
   "metadata": {},
   "source": [
    "This means we can answer our question and say that there $\\it{is}$ a difference in `popularity` and `danceability` based on if a song is explicit or not, but we fail to reject for the case of `liveness`.\n",
    "\n",
    "Informally, our bar charts suggest that these statistically significant differences tell us that explicit songs tend to be $\\it{more}$ popular than not explicit songs. Also, it tells us that explicit songs tend to have higher `danceability` scores."
   ]
  },
  {
   "cell_type": "markdown",
   "metadata": {},
   "source": [
    "## Step 4: Summarise and write a conclusion using markdown cells"
   ]
  },
  {
   "cell_type": "markdown",
   "metadata": {},
   "source": [
    "#### What we have learnt from our analysis:\n",
    "\n",
    "- We started by looking at the distributions of the numeric features using histograms. What jumped out was that `popularity` and `duration_ms` seemed to follow normal distributions; however, a normality test showed us that these features are not normally distributed.\n",
    "\n",
    "- These histograms also showed us that Instrumentalness/Acousticness/Speechiness all have distinctive distributions. All three factors showed a highly positive skew with an incredibly high kurtosis. In other terms, we saw a sharp peak at 0 with a very low frequency of values above 0. These extreme structures painted pictures that these features could almost be treated as binary in further modelling.\n",
    "\n",
    "- We then moved on to look at correlation coefficients between the data's numeric features to see if we could identify any highly correlated features. We found that there to be a strong correlation between `energy` and `loudness` such that more energetic songs tend to be louder. We performed further analysis using a scatter plot to visually see their relationship. The plot suggested linear regression would be an appropriate route to take. This modelling technique seemed to describe the relationship relatively well, but highlighted the fact that the relationship may not necessarily be linear and could have some logarithmic component. After enacting a logarithmic transformation and performing the modelling analysis again, we found that this did not improve the model score so concluded that the linear model was sufficient.\n",
    "\n",
    "- Finally, we looked at the impact a song being explicit had on our audio features. We found that there seemed to be large effects on `speechiness`, `acousticness` and `instrumentalness` and more granular changes to `popularity` and `danceability`. Since the impact was less obvious for `popularity` and `danceability`, it was appropriate to perform a hypothesis test on whether there was a difference in the mean of `popularity`/`danceability` when the song is explicit and the mean when it was not. These hypothesis tests concluded that there was a statistically significant difference between the two means in both cases. This told us that a song being explicit *does* have an effect on a song's `popularity` and `danceability` ratings."
   ]
  },
  {
   "cell_type": "markdown",
   "metadata": {},
   "source": [
    "#### Future Work\n",
    "\n",
    "- These trends work for recent new releases. Do they hold for a general sample?\n",
    "> Since the sample of data we have taken is from the albums of the 100 most recent releases, there is a possible time dependence on the trends we have found. In terms of future work, this would be an interesting idea to explore, to answer the question of if we see changes to the conclusions we have made if we take a general sample/larger sample etc. This would be interesting because the current analysis would be useful to model new releases and what we could expect future releases to look like; whereas, a general sample would be useful to model the structure of a generic song sampled from the Spotify database.\n",
    "\n",
    "- Further, have these trends changed over time?\n",
    "> Another angle that would be very interesting to explore would be to consider if these conclusions have changed over time. To answer the question of if there is a change decade to decade and, if so, what rate this change occurs on - do we see a change if we take yearly samples? Monthly? Weekly? We would do this by taking random samples from different decades to break correlations across other factors.\n",
    "> This would be useful because our analysis is useful in terms of analysing how we might expect the metrics of new releases to look. However, the next step of seeing this change through time would elevate the usefulness of this work as it can be adaptive to the future."
   ]
  }
 ],
 "metadata": {
  "interpreter": {
   "hash": "b5f7aff336943a65554c05e2ca907882fe198e7be0271bdc45bb04d1a8d238d9"
  },
  "kernelspec": {
   "display_name": "Python 3.8.9 64-bit ('SDPA_Coursework-laNtFxcw': pipenv)",
   "language": "python",
   "name": "python3"
  },
  "language_info": {
   "codemirror_mode": {
    "name": "ipython",
    "version": 3
   },
   "file_extension": ".py",
   "mimetype": "text/x-python",
   "name": "python",
   "nbconvert_exporter": "python",
   "pygments_lexer": "ipython3",
   "version": "3.10.0"
  },
  "orig_nbformat": 4
 },
 "nbformat": 4,
 "nbformat_minor": 2
}
