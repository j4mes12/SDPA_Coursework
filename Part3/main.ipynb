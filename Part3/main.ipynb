{
 "cells": [
  {
   "cell_type": "markdown",
   "metadata": {},
   "source": [
    "# Part 3: Data Analysis (40%)"
   ]
  },
  {
   "cell_type": "code",
   "execution_count": 254,
   "metadata": {},
   "outputs": [],
   "source": [
    "import numpy as np\n",
    "import pandas as pd\n",
    "import matplotlib.pyplot as plt\n",
    "import seaborn as sns\n",
    "\n",
    "from datetime import datetime \n",
    "\n",
    "import re\n",
    "import nltk"
   ]
  },
  {
   "cell_type": "markdown",
   "metadata": {},
   "source": [
    "## Step 1: Crawl a real-world dataset"
   ]
  },
  {
   "cell_type": "code",
   "execution_count": 256,
   "metadata": {},
   "outputs": [],
   "source": [
    "import spotipy\n",
    "from spotipy.oauth2 import SpotifyClientCredentials\n",
    "\n",
    "sp = spotipy.Spotify(\n",
    "    auth_manager=SpotifyClientCredentials(\n",
    "        client_id='262f1d55233c40938cb157f5f2a45beb',\n",
    "        client_secret='5ec6a7c82c1e402294f64217d662f58f'\n",
    "    )\n",
    ")"
   ]
  },
  {
   "cell_type": "code",
   "execution_count": 257,
   "metadata": {},
   "outputs": [],
   "source": [
    "new_releases = sp.new_releases(\n",
    "    country = 'GB',\n",
    "    limit = 20\n",
    ")"
   ]
  },
  {
   "cell_type": "code",
   "execution_count": 258,
   "metadata": {},
   "outputs": [],
   "source": [
    "nr_album_names = []\n",
    "nr_album_uri = []\n",
    "\n",
    "for i in new_releases['albums']['items']:\n",
    "    nr_album_uri.append(i['uri'])\n",
    "    nr_album_names.append(i['name'])"
   ]
  },
  {
   "cell_type": "code",
   "execution_count": 259,
   "metadata": {},
   "outputs": [],
   "source": [
    "audio_features = ['danceability', 'energy', 'loudness', 'speechiness', 'acousticness', 'instrumentalness', 'liveness', 'valence', 'tempo']\n",
    "track_info_features = ['artist', 'name', 'id', 'uri', 'duration_ms', 'explicit', 'track_number']\n",
    "additional_features = ['album', 'popularity']"
   ]
  },
  {
   "cell_type": "code",
   "execution_count": 260,
   "metadata": {},
   "outputs": [],
   "source": [
    "def get_song_info(uri, album_name):\n",
    "    track_info = {}\n",
    "    for k in additional_features + track_info_features + audio_features :\n",
    "        track_info[k] = []\n",
    "\n",
    "    album_tracks = sp.album_tracks(uri)['items']\n",
    "\n",
    "    for i in album_tracks:\n",
    "        for k in additional_features+ track_info_features:\n",
    "            if k == 'album':\n",
    "                track_info[k].append(album_name)\n",
    "            elif k == 'popularity':\n",
    "                track_info[k].append(sp.track(i['uri'])['popularity'])\n",
    "            elif k == 'artist':\n",
    "                track_info[k].append(i['artists'][0]['name'])\n",
    "            else:\n",
    "                track_info[k].append(i[k])\n",
    "\n",
    "        audio = sp.audio_features(i['uri'])[0]\n",
    "\n",
    "        for k in audio_features:\n",
    "            if audio is None:\n",
    "                track_info[k].append(None)\n",
    "            else:\n",
    "                track_info[k].append(audio[k])\n",
    "\n",
    "    return track_info"
   ]
  },
  {
   "cell_type": "code",
   "execution_count": 261,
   "metadata": {},
   "outputs": [
    {
     "name": "stdout",
     "output_type": "stream",
     "text": [
      "Songs from \"i wonder if you wonder\" have been added to dictionary.\n",
      "Songs from \"white light\" have been added to dictionary.\n",
      "Songs from \"18 & Over\" have been added to dictionary.\n",
      "Songs from \"Knebworth 1996 (Live)\" have been added to dictionary.\n",
      "Songs from \"Goldmine (Deluxe)\" have been added to dictionary.\n",
      "Songs from \"30\" have been added to dictionary.\n",
      "Songs from \"Home Alone 2\" have been added to dictionary.\n",
      "Songs from \"Actual Life 2 (February 2 - October 15 2021)\" have been added to dictionary.\n",
      "Songs from \"The Stars Beneath My Feet (2004 - 2021)\" have been added to dictionary.\n",
      "Songs from \"They Got Amnesia\" have been added to dictionary.\n",
      "Songs from \"Flying Dream 1\" have been added to dictionary.\n",
      "Songs from \"Between Us (Deluxe Version)\" have been added to dictionary.\n",
      "Songs from \"The Nearer The Fountain, More Pure The Stream Flows\" have been added to dictionary.\n",
      "Songs from \"CRAWLER\" have been added to dictionary.\n",
      "Songs from \"An Evening With Silk Sonic\" have been added to dictionary.\n",
      "Songs from \"DISCO: Guest List Edition\" have been added to dictionary.\n",
      "Songs from \"The Walls Are Way Too Thin\" have been added to dictionary.\n",
      "Songs from \"Voyage\" have been added to dictionary.\n",
      "Songs from \"Still Over It\" have been added to dictionary.\n",
      "Songs from \"Return of the Immigrant\" have been added to dictionary.\n",
      "--- Done! 20 Albums added ---\n"
     ]
    }
   ],
   "source": [
    "nr_album_songs = {}\n",
    "for k in additional_features + track_info_features + audio_features:\n",
    "        nr_album_songs[k] = []\n",
    "\n",
    "for uri, name in zip(nr_album_uri, nr_album_names):\n",
    "    album_info = get_song_info(uri, name)\n",
    "    for k, v in album_info.items():\n",
    "        nr_album_songs[k] += v\n",
    "    print(f'Songs from \"{name}\" have been added to dictionary.')\n",
    "print(f'--- Done! {len(nr_album_names)} Albums added ---')"
   ]
  },
  {
   "cell_type": "code",
   "execution_count": 262,
   "metadata": {},
   "outputs": [],
   "source": [
    "data = pd.DataFrame.from_dict(nr_album_songs)"
   ]
  },
  {
   "cell_type": "markdown",
   "metadata": {},
   "source": [
    "## Step 2: Perform data preparation & cleaning"
   ]
  },
  {
   "cell_type": "code",
   "execution_count": 263,
   "metadata": {},
   "outputs": [
    {
     "data": {
      "text/plain": [
       "(308, 18)"
      ]
     },
     "execution_count": 263,
     "metadata": {},
     "output_type": "execute_result"
    }
   ],
   "source": [
    "# data shape\n",
    "data.shape"
   ]
  },
  {
   "cell_type": "code",
   "execution_count": 264,
   "metadata": {},
   "outputs": [
    {
     "data": {
      "text/plain": [
       "Index(['album', 'popularity', 'artist', 'name', 'id', 'uri', 'duration_ms',\n",
       "       'explicit', 'track_number', 'danceability', 'energy', 'loudness',\n",
       "       'speechiness', 'acousticness', 'instrumentalness', 'liveness',\n",
       "       'valence', 'tempo'],\n",
       "      dtype='object')"
      ]
     },
     "execution_count": 264,
     "metadata": {},
     "output_type": "execute_result"
    }
   ],
   "source": [
    "data.columns"
   ]
  },
  {
   "cell_type": "code",
   "execution_count": 265,
   "metadata": {},
   "outputs": [
    {
     "data": {
      "text/plain": [
       "album               0\n",
       "popularity          0\n",
       "artist              0\n",
       "name                0\n",
       "id                  0\n",
       "uri                 0\n",
       "duration_ms         0\n",
       "explicit            0\n",
       "track_number        0\n",
       "danceability        2\n",
       "energy              2\n",
       "loudness            2\n",
       "speechiness         2\n",
       "acousticness        2\n",
       "instrumentalness    2\n",
       "liveness            2\n",
       "valence             2\n",
       "tempo               2\n",
       "dtype: int64"
      ]
     },
     "execution_count": 265,
     "metadata": {},
     "output_type": "execute_result"
    }
   ],
   "source": [
    "# Null value counts\n",
    "data.isnull().sum(axis=0)"
   ]
  },
  {
   "cell_type": "markdown",
   "metadata": {},
   "source": [
    "No major missing values. Some of the audio features have 2 missing, but we expect that to just be two erroneous songs.\n",
    "\n",
    "Would either look to imputing with album mean or excluding. Both appropriate due to few cases."
   ]
  },
  {
   "cell_type": "code",
   "execution_count": 266,
   "metadata": {},
   "outputs": [],
   "source": [
    "# Drop un-needed columns\n",
    "data.drop(\n",
    "    columns = ['id', 'uri'],\n",
    "    axis=1,\n",
    "    inplace=True\n",
    ")"
   ]
  },
  {
   "cell_type": "code",
   "execution_count": 267,
   "metadata": {},
   "outputs": [],
   "source": [
    "# Imputer 'MISSING' into missing values\n",
    "data.dropna(\n",
    "    axis=0,\n",
    "    inplace=True\n",
    ")"
   ]
  },
  {
   "cell_type": "code",
   "execution_count": 268,
   "metadata": {},
   "outputs": [],
   "source": [
    "# Normalise popularity (/100) and duration_ms to 0/1\n",
    "def min_max_normalise(col):\n",
    "    return (col - col.min()) / (col.max() - col.min())\n",
    "\n",
    "data['popularity'] = data.popularity / 100\n",
    "data['duration'] = min_max_normalise(data.duration_ms)\n",
    "data['tempo'] = min_max_normalise(data.tempo)\n",
    "data['loudness'] = min_max_normalise(data.loudness)"
   ]
  },
  {
   "cell_type": "code",
   "execution_count": 269,
   "metadata": {},
   "outputs": [],
   "source": [
    "# Get album length from value_counts\n",
    "data['album_length'] = data.album.map(data.album.value_counts().to_dict())"
   ]
  },
  {
   "cell_type": "code",
   "execution_count": 270,
   "metadata": {},
   "outputs": [],
   "source": [
    "# New feature to mark if song is in the first half of the album or not\n",
    "data['song_in_first_half'] = np.where(round(data.track_number / data.album_length) < 0.5, True, False)"
   ]
  },
  {
   "cell_type": "code",
   "execution_count": 271,
   "metadata": {},
   "outputs": [
    {
     "data": {
      "text/plain": [
       "album                  object\n",
       "popularity            float64\n",
       "artist                 object\n",
       "name                   object\n",
       "duration_ms             int64\n",
       "explicit                 bool\n",
       "track_number            int64\n",
       "danceability          float64\n",
       "energy                float64\n",
       "loudness              float64\n",
       "speechiness           float64\n",
       "acousticness          float64\n",
       "instrumentalness      float64\n",
       "liveness              float64\n",
       "valence               float64\n",
       "tempo                 float64\n",
       "duration              float64\n",
       "album_length            int64\n",
       "song_in_first_half       bool\n",
       "dtype: object"
      ]
     },
     "execution_count": 271,
     "metadata": {},
     "output_type": "execute_result"
    }
   ],
   "source": [
    "data.dtypes"
   ]
  },
  {
   "cell_type": "code",
   "execution_count": 272,
   "metadata": {},
   "outputs": [],
   "source": [
    "text_cols = ['album', 'name']"
   ]
  },
  {
   "cell_type": "code",
   "execution_count": 273,
   "metadata": {},
   "outputs": [],
   "source": [
    "def average_word_length(row):\n",
    "    return sum(map(len, row))/len(row)\n",
    "\n",
    "def remove_special_characters(row):\n",
    "    return re.sub(r'[^a-zA-Z0-9\\s]', '', row)\n",
    "\n",
    "def get_tokenize(row):\n",
    "    return nltk.word_tokenize(row)\n",
    "    "
   ]
  },
  {
   "cell_type": "code",
   "execution_count": 274,
   "metadata": {},
   "outputs": [],
   "source": [
    "for i in text_cols:\n",
    "    data[i] = data[i].str.lower()\n",
    "\n",
    "    data[i] = data[i].apply(lambda x: remove_special_characters(x))\n",
    "\n",
    "    data[i + '_tokenize'] = data[i].apply(lambda x: get_tokenize(x))\n",
    "\n",
    "    data[i + '_word_count'] = data[i + '_tokenize'].apply(lambda x: len(x))\n",
    "\n",
    "    data[i + '_av_word_len'] = data[i + '_tokenize'].apply(lambda x: average_word_length(x))"
   ]
  },
  {
   "cell_type": "code",
   "execution_count": 275,
   "metadata": {},
   "outputs": [
    {
     "data": {
      "text/html": [
       "<div>\n",
       "<style scoped>\n",
       "    .dataframe tbody tr th:only-of-type {\n",
       "        vertical-align: middle;\n",
       "    }\n",
       "\n",
       "    .dataframe tbody tr th {\n",
       "        vertical-align: top;\n",
       "    }\n",
       "\n",
       "    .dataframe thead th {\n",
       "        text-align: right;\n",
       "    }\n",
       "</style>\n",
       "<table border=\"1\" class=\"dataframe\">\n",
       "  <thead>\n",
       "    <tr style=\"text-align: right;\">\n",
       "      <th></th>\n",
       "      <th>album</th>\n",
       "      <th>popularity</th>\n",
       "      <th>artist</th>\n",
       "      <th>name</th>\n",
       "      <th>explicit</th>\n",
       "      <th>danceability</th>\n",
       "      <th>energy</th>\n",
       "      <th>loudness</th>\n",
       "      <th>speechiness</th>\n",
       "      <th>acousticness</th>\n",
       "      <th>...</th>\n",
       "      <th>liveness</th>\n",
       "      <th>valence</th>\n",
       "      <th>tempo</th>\n",
       "      <th>duration</th>\n",
       "      <th>album_length</th>\n",
       "      <th>song_in_first_half</th>\n",
       "      <th>album_word_count</th>\n",
       "      <th>album_av_word_len</th>\n",
       "      <th>name_word_count</th>\n",
       "      <th>name_av_word_len</th>\n",
       "    </tr>\n",
       "  </thead>\n",
       "  <tbody>\n",
       "    <tr>\n",
       "      <th>0</th>\n",
       "      <td>i wonder if you wonder</td>\n",
       "      <td>0.43</td>\n",
       "      <td>Grace Davies</td>\n",
       "      <td>somebody</td>\n",
       "      <td>False</td>\n",
       "      <td>0.401</td>\n",
       "      <td>0.432</td>\n",
       "      <td>0.807304</td>\n",
       "      <td>0.0343</td>\n",
       "      <td>0.611</td>\n",
       "      <td>...</td>\n",
       "      <td>0.101</td>\n",
       "      <td>0.3690</td>\n",
       "      <td>0.204973</td>\n",
       "      <td>0.481769</td>\n",
       "      <td>6</td>\n",
       "      <td>True</td>\n",
       "      <td>5</td>\n",
       "      <td>3.6</td>\n",
       "      <td>1</td>\n",
       "      <td>8.0</td>\n",
       "    </tr>\n",
       "    <tr>\n",
       "      <th>1</th>\n",
       "      <td>i wonder if you wonder</td>\n",
       "      <td>0.29</td>\n",
       "      <td>Grace Davies</td>\n",
       "      <td>i met a boy online</td>\n",
       "      <td>False</td>\n",
       "      <td>0.386</td>\n",
       "      <td>0.353</td>\n",
       "      <td>0.782045</td>\n",
       "      <td>0.0375</td>\n",
       "      <td>0.715</td>\n",
       "      <td>...</td>\n",
       "      <td>0.108</td>\n",
       "      <td>0.2970</td>\n",
       "      <td>0.445005</td>\n",
       "      <td>0.408108</td>\n",
       "      <td>6</td>\n",
       "      <td>True</td>\n",
       "      <td>5</td>\n",
       "      <td>3.6</td>\n",
       "      <td>5</td>\n",
       "      <td>2.8</td>\n",
       "    </tr>\n",
       "    <tr>\n",
       "      <th>2</th>\n",
       "      <td>i wonder if you wonder</td>\n",
       "      <td>0.28</td>\n",
       "      <td>Grace Davies</td>\n",
       "      <td>roots</td>\n",
       "      <td>False</td>\n",
       "      <td>0.402</td>\n",
       "      <td>0.357</td>\n",
       "      <td>0.701582</td>\n",
       "      <td>0.0356</td>\n",
       "      <td>0.765</td>\n",
       "      <td>...</td>\n",
       "      <td>0.132</td>\n",
       "      <td>0.0591</td>\n",
       "      <td>0.261533</td>\n",
       "      <td>0.454383</td>\n",
       "      <td>6</td>\n",
       "      <td>True</td>\n",
       "      <td>5</td>\n",
       "      <td>3.6</td>\n",
       "      <td>1</td>\n",
       "      <td>5.0</td>\n",
       "    </tr>\n",
       "    <tr>\n",
       "      <th>3</th>\n",
       "      <td>i wonder if you wonder</td>\n",
       "      <td>0.27</td>\n",
       "      <td>Grace Davies</td>\n",
       "      <td>testosterone</td>\n",
       "      <td>False</td>\n",
       "      <td>0.435</td>\n",
       "      <td>0.353</td>\n",
       "      <td>0.771696</td>\n",
       "      <td>0.0469</td>\n",
       "      <td>0.841</td>\n",
       "      <td>...</td>\n",
       "      <td>0.109</td>\n",
       "      <td>0.3380</td>\n",
       "      <td>0.363129</td>\n",
       "      <td>0.397464</td>\n",
       "      <td>6</td>\n",
       "      <td>False</td>\n",
       "      <td>5</td>\n",
       "      <td>3.6</td>\n",
       "      <td>1</td>\n",
       "      <td>12.0</td>\n",
       "    </tr>\n",
       "    <tr>\n",
       "      <th>4</th>\n",
       "      <td>i wonder if you wonder</td>\n",
       "      <td>0.27</td>\n",
       "      <td>Grace Davies</td>\n",
       "      <td>used to you</td>\n",
       "      <td>False</td>\n",
       "      <td>0.387</td>\n",
       "      <td>0.487</td>\n",
       "      <td>0.813595</td>\n",
       "      <td>0.0483</td>\n",
       "      <td>0.228</td>\n",
       "      <td>...</td>\n",
       "      <td>0.247</td>\n",
       "      <td>0.4020</td>\n",
       "      <td>0.673781</td>\n",
       "      <td>0.440120</td>\n",
       "      <td>6</td>\n",
       "      <td>False</td>\n",
       "      <td>5</td>\n",
       "      <td>3.6</td>\n",
       "      <td>3</td>\n",
       "      <td>3.0</td>\n",
       "    </tr>\n",
       "  </tbody>\n",
       "</table>\n",
       "<p>5 rows × 21 columns</p>\n",
       "</div>"
      ],
      "text/plain": [
       "                    album  popularity        artist                name  \\\n",
       "0  i wonder if you wonder        0.43  Grace Davies            somebody   \n",
       "1  i wonder if you wonder        0.29  Grace Davies  i met a boy online   \n",
       "2  i wonder if you wonder        0.28  Grace Davies               roots   \n",
       "3  i wonder if you wonder        0.27  Grace Davies        testosterone   \n",
       "4  i wonder if you wonder        0.27  Grace Davies         used to you   \n",
       "\n",
       "   explicit  danceability  energy  loudness  speechiness  acousticness  ...  \\\n",
       "0     False         0.401   0.432  0.807304       0.0343         0.611  ...   \n",
       "1     False         0.386   0.353  0.782045       0.0375         0.715  ...   \n",
       "2     False         0.402   0.357  0.701582       0.0356         0.765  ...   \n",
       "3     False         0.435   0.353  0.771696       0.0469         0.841  ...   \n",
       "4     False         0.387   0.487  0.813595       0.0483         0.228  ...   \n",
       "\n",
       "   liveness  valence     tempo  duration  album_length  song_in_first_half  \\\n",
       "0     0.101   0.3690  0.204973  0.481769             6                True   \n",
       "1     0.108   0.2970  0.445005  0.408108             6                True   \n",
       "2     0.132   0.0591  0.261533  0.454383             6                True   \n",
       "3     0.109   0.3380  0.363129  0.397464             6               False   \n",
       "4     0.247   0.4020  0.673781  0.440120             6               False   \n",
       "\n",
       "   album_word_count  album_av_word_len  name_word_count  name_av_word_len  \n",
       "0                 5                3.6                1               8.0  \n",
       "1                 5                3.6                5               2.8  \n",
       "2                 5                3.6                1               5.0  \n",
       "3                 5                3.6                1              12.0  \n",
       "4                 5                3.6                3               3.0  \n",
       "\n",
       "[5 rows x 21 columns]"
      ]
     },
     "execution_count": 275,
     "metadata": {},
     "output_type": "execute_result"
    }
   ],
   "source": [
    "data_out = data.drop(\n",
    "    columns=['album_tokenize', 'name_tokenize', 'duration_ms', 'track_number'],\n",
    "    axis=1\n",
    ")\n",
    "\n",
    "data_out.head()"
   ]
  },
  {
   "cell_type": "markdown",
   "metadata": {},
   "source": [
    "## Step 3: Perform exploratory analysis and ask questions"
   ]
  },
  {
   "cell_type": "markdown",
   "metadata": {},
   "source": [
    "#### Variable Distributions"
   ]
  },
  {
   "cell_type": "code",
   "execution_count": 276,
   "metadata": {},
   "outputs": [
    {
     "data": {
      "text/plain": [
       "album                  object\n",
       "popularity            float64\n",
       "artist                 object\n",
       "name                   object\n",
       "explicit                 bool\n",
       "danceability          float64\n",
       "energy                float64\n",
       "loudness              float64\n",
       "speechiness           float64\n",
       "acousticness          float64\n",
       "instrumentalness      float64\n",
       "liveness              float64\n",
       "valence               float64\n",
       "tempo                 float64\n",
       "duration              float64\n",
       "album_length            int64\n",
       "song_in_first_half       bool\n",
       "album_word_count        int64\n",
       "album_av_word_len     float64\n",
       "name_word_count         int64\n",
       "name_av_word_len      float64\n",
       "dtype: object"
      ]
     },
     "execution_count": 276,
     "metadata": {},
     "output_type": "execute_result"
    }
   ],
   "source": [
    "data_out.dtypes"
   ]
  },
  {
   "cell_type": "code",
   "execution_count": 278,
   "metadata": {},
   "outputs": [],
   "source": [
    "object_vars = ['artist']\n",
    "\n",
    "numerical_vars = ['popularity', 'danceability', 'energy', 'loudness', 'speechiness',\n",
    "    'acousticness', 'instrumentalness', 'liveness', 'valence', 'tempo',\n",
    "    'duration', 'album_length', 'album_word_count', 'album_av_word_len',\n",
    "    'name_word_count', 'name_av_word_len']\n",
    "\n",
    "bool_vars = ['explicit', 'song_in_first_half']\n",
    "\n",
    "ignore_vars = ['name', 'album']"
   ]
  },
  {
   "cell_type": "code",
   "execution_count": 279,
   "metadata": {},
   "outputs": [
    {
     "name": "stdout",
     "output_type": "stream",
     "text": [
      "All vars: 21\n",
      "data vars: 21\n"
     ]
    }
   ],
   "source": [
    "all_vars = object_vars + numerical_vars + bool_vars + ignore_vars\n",
    "\n",
    "print('All vars:', len(all_vars))\n",
    "print('data vars:', len(data_out.columns))"
   ]
  },
  {
   "cell_type": "markdown",
   "metadata": {},
   "source": [
    "#### Numerical Vars"
   ]
  },
  {
   "cell_type": "code",
   "execution_count": 280,
   "metadata": {},
   "outputs": [
    {
     "data": {
      "text/html": [
       "<div>\n",
       "<style scoped>\n",
       "    .dataframe tbody tr th:only-of-type {\n",
       "        vertical-align: middle;\n",
       "    }\n",
       "\n",
       "    .dataframe tbody tr th {\n",
       "        vertical-align: top;\n",
       "    }\n",
       "\n",
       "    .dataframe thead th {\n",
       "        text-align: right;\n",
       "    }\n",
       "</style>\n",
       "<table border=\"1\" class=\"dataframe\">\n",
       "  <thead>\n",
       "    <tr style=\"text-align: right;\">\n",
       "      <th></th>\n",
       "      <th>Count</th>\n",
       "      <th>Null</th>\n",
       "      <th>Unique</th>\n",
       "      <th>Mean</th>\n",
       "      <th>Median</th>\n",
       "      <th>Min</th>\n",
       "      <th>Max</th>\n",
       "      <th>Range</th>\n",
       "    </tr>\n",
       "  </thead>\n",
       "  <tbody>\n",
       "    <tr>\n",
       "      <th>popularity</th>\n",
       "      <td>306</td>\n",
       "      <td>0</td>\n",
       "      <td>66</td>\n",
       "      <td>0.520</td>\n",
       "      <td>0.510</td>\n",
       "      <td>0.000</td>\n",
       "      <td>0.920</td>\n",
       "      <td>0.920</td>\n",
       "    </tr>\n",
       "    <tr>\n",
       "      <th>danceability</th>\n",
       "      <td>306</td>\n",
       "      <td>0</td>\n",
       "      <td>246</td>\n",
       "      <td>0.568</td>\n",
       "      <td>0.587</td>\n",
       "      <td>0.113</td>\n",
       "      <td>0.912</td>\n",
       "      <td>0.799</td>\n",
       "    </tr>\n",
       "    <tr>\n",
       "      <th>energy</th>\n",
       "      <td>306</td>\n",
       "      <td>0</td>\n",
       "      <td>247</td>\n",
       "      <td>0.624</td>\n",
       "      <td>0.636</td>\n",
       "      <td>0.033</td>\n",
       "      <td>0.989</td>\n",
       "      <td>0.956</td>\n",
       "    </tr>\n",
       "    <tr>\n",
       "      <th>loudness</th>\n",
       "      <td>306</td>\n",
       "      <td>0</td>\n",
       "      <td>305</td>\n",
       "      <td>0.822</td>\n",
       "      <td>0.843</td>\n",
       "      <td>0.000</td>\n",
       "      <td>1.000</td>\n",
       "      <td>1.000</td>\n",
       "    </tr>\n",
       "    <tr>\n",
       "      <th>speechiness</th>\n",
       "      <td>306</td>\n",
       "      <td>0</td>\n",
       "      <td>267</td>\n",
       "      <td>0.112</td>\n",
       "      <td>0.060</td>\n",
       "      <td>0.025</td>\n",
       "      <td>0.887</td>\n",
       "      <td>0.862</td>\n",
       "    </tr>\n",
       "    <tr>\n",
       "      <th>acousticness</th>\n",
       "      <td>306</td>\n",
       "      <td>0</td>\n",
       "      <td>281</td>\n",
       "      <td>0.289</td>\n",
       "      <td>0.170</td>\n",
       "      <td>0.000</td>\n",
       "      <td>0.975</td>\n",
       "      <td>0.975</td>\n",
       "    </tr>\n",
       "    <tr>\n",
       "      <th>instrumentalness</th>\n",
       "      <td>306</td>\n",
       "      <td>0</td>\n",
       "      <td>167</td>\n",
       "      <td>0.073</td>\n",
       "      <td>0.000</td>\n",
       "      <td>0.000</td>\n",
       "      <td>0.950</td>\n",
       "      <td>0.950</td>\n",
       "    </tr>\n",
       "    <tr>\n",
       "      <th>liveness</th>\n",
       "      <td>306</td>\n",
       "      <td>0</td>\n",
       "      <td>223</td>\n",
       "      <td>0.245</td>\n",
       "      <td>0.136</td>\n",
       "      <td>0.025</td>\n",
       "      <td>0.985</td>\n",
       "      <td>0.960</td>\n",
       "    </tr>\n",
       "    <tr>\n",
       "      <th>valence</th>\n",
       "      <td>306</td>\n",
       "      <td>0</td>\n",
       "      <td>257</td>\n",
       "      <td>0.437</td>\n",
       "      <td>0.432</td>\n",
       "      <td>0.034</td>\n",
       "      <td>0.938</td>\n",
       "      <td>0.904</td>\n",
       "    </tr>\n",
       "    <tr>\n",
       "      <th>tempo</th>\n",
       "      <td>306</td>\n",
       "      <td>0</td>\n",
       "      <td>303</td>\n",
       "      <td>0.423</td>\n",
       "      <td>0.437</td>\n",
       "      <td>0.000</td>\n",
       "      <td>1.000</td>\n",
       "      <td>1.000</td>\n",
       "    </tr>\n",
       "    <tr>\n",
       "      <th>duration</th>\n",
       "      <td>306</td>\n",
       "      <td>0</td>\n",
       "      <td>305</td>\n",
       "      <td>0.452</td>\n",
       "      <td>0.448</td>\n",
       "      <td>0.000</td>\n",
       "      <td>1.000</td>\n",
       "      <td>1.000</td>\n",
       "    </tr>\n",
       "    <tr>\n",
       "      <th>album_length</th>\n",
       "      <td>306</td>\n",
       "      <td>0</td>\n",
       "      <td>15</td>\n",
       "      <td>19.190</td>\n",
       "      <td>20.000</td>\n",
       "      <td>1.000</td>\n",
       "      <td>30.000</td>\n",
       "      <td>29.000</td>\n",
       "    </tr>\n",
       "    <tr>\n",
       "      <th>album_word_count</th>\n",
       "      <td>306</td>\n",
       "      <td>0</td>\n",
       "      <td>9</td>\n",
       "      <td>3.948</td>\n",
       "      <td>3.000</td>\n",
       "      <td>1.000</td>\n",
       "      <td>9.000</td>\n",
       "      <td>8.000</td>\n",
       "    </tr>\n",
       "    <tr>\n",
       "      <th>album_av_word_len</th>\n",
       "      <td>306</td>\n",
       "      <td>0</td>\n",
       "      <td>17</td>\n",
       "      <td>4.734</td>\n",
       "      <td>4.667</td>\n",
       "      <td>2.000</td>\n",
       "      <td>7.000</td>\n",
       "      <td>5.000</td>\n",
       "    </tr>\n",
       "    <tr>\n",
       "      <th>name_word_count</th>\n",
       "      <td>306</td>\n",
       "      <td>0</td>\n",
       "      <td>11</td>\n",
       "      <td>3.350</td>\n",
       "      <td>3.000</td>\n",
       "      <td>1.000</td>\n",
       "      <td>11.000</td>\n",
       "      <td>10.000</td>\n",
       "    </tr>\n",
       "    <tr>\n",
       "      <th>name_av_word_len</th>\n",
       "      <td>306</td>\n",
       "      <td>0</td>\n",
       "      <td>67</td>\n",
       "      <td>4.934</td>\n",
       "      <td>4.550</td>\n",
       "      <td>2.000</td>\n",
       "      <td>12.000</td>\n",
       "      <td>10.000</td>\n",
       "    </tr>\n",
       "  </tbody>\n",
       "</table>\n",
       "</div>"
      ],
      "text/plain": [
       "                   Count  Null  Unique    Mean  Median    Min     Max   Range\n",
       "popularity           306     0      66   0.520   0.510  0.000   0.920   0.920\n",
       "danceability         306     0     246   0.568   0.587  0.113   0.912   0.799\n",
       "energy               306     0     247   0.624   0.636  0.033   0.989   0.956\n",
       "loudness             306     0     305   0.822   0.843  0.000   1.000   1.000\n",
       "speechiness          306     0     267   0.112   0.060  0.025   0.887   0.862\n",
       "acousticness         306     0     281   0.289   0.170  0.000   0.975   0.975\n",
       "instrumentalness     306     0     167   0.073   0.000  0.000   0.950   0.950\n",
       "liveness             306     0     223   0.245   0.136  0.025   0.985   0.960\n",
       "valence              306     0     257   0.437   0.432  0.034   0.938   0.904\n",
       "tempo                306     0     303   0.423   0.437  0.000   1.000   1.000\n",
       "duration             306     0     305   0.452   0.448  0.000   1.000   1.000\n",
       "album_length         306     0      15  19.190  20.000  1.000  30.000  29.000\n",
       "album_word_count     306     0       9   3.948   3.000  1.000   9.000   8.000\n",
       "album_av_word_len    306     0      17   4.734   4.667  2.000   7.000   5.000\n",
       "name_word_count      306     0      11   3.350   3.000  1.000  11.000  10.000\n",
       "name_av_word_len     306     0      67   4.934   4.550  2.000  12.000  10.000"
      ]
     },
     "execution_count": 280,
     "metadata": {},
     "output_type": "execute_result"
    }
   ],
   "source": [
    "numeric_df = data_out[numerical_vars]\n",
    "\n",
    "numeric_summary = pd.concat(\n",
    "    [\n",
    "        numeric_df.count().rename('Count'),\n",
    "        numeric_df.isnull().sum().rename('Null'),\n",
    "        numeric_df.nunique().rename('Unique'),\n",
    "        numeric_df.mean().round(3).rename('Mean'),\n",
    "        numeric_df.median().round(3).rename('Median'),\n",
    "        numeric_df.min().round(3).rename('Min'),\n",
    "        numeric_df.max().round(3).rename('Max'),\n",
    "        (numeric_df.max() - numeric_df.min()).round(3).rename('Range'),\n",
    "    ],\n",
    "    axis=1\n",
    ")\n",
    "\n",
    "numeric_summary"
   ]
  },
  {
   "cell_type": "markdown",
   "metadata": {},
   "source": [
    "#### Distributions"
   ]
  },
  {
   "cell_type": "code",
   "execution_count": 284,
   "metadata": {},
   "outputs": [
    {
     "ename": "IndexError",
     "evalue": "string index out of range",
     "output_type": "error",
     "traceback": [
      "\u001b[0;31m---------------------------------------------------------------------------\u001b[0m",
      "\u001b[0;31mIndexError\u001b[0m                                Traceback (most recent call last)",
      "\u001b[0;32m/var/folders/2f/cwgmhyzx4fn5cwp5j_dpmsd00000gn/T/ipykernel_26891/1045541509.py\u001b[0m in \u001b[0;36m<module>\u001b[0;34m\u001b[0m\n\u001b[1;32m      4\u001b[0m \u001b[0;32mfor\u001b[0m \u001b[0midx\u001b[0m\u001b[0;34m,\u001b[0m \u001b[0mcol\u001b[0m \u001b[0;32min\u001b[0m \u001b[0menumerate\u001b[0m\u001b[0;34m(\u001b[0m\u001b[0mnumeric_df\u001b[0m\u001b[0;34m.\u001b[0m\u001b[0mcolumns\u001b[0m\u001b[0;34m)\u001b[0m\u001b[0;34m:\u001b[0m\u001b[0;34m\u001b[0m\u001b[0;34m\u001b[0m\u001b[0m\n\u001b[1;32m      5\u001b[0m     \u001b[0mx\u001b[0m\u001b[0;34m,\u001b[0m \u001b[0my\u001b[0m \u001b[0;34m=\u001b[0m \u001b[0midx\u001b[0m\u001b[0;34m//\u001b[0m\u001b[0;36m2\u001b[0m\u001b[0;34m,\u001b[0m \u001b[0midx\u001b[0m \u001b[0;34m%\u001b[0m \u001b[0;36m2\u001b[0m\u001b[0;34m\u001b[0m\u001b[0;34m\u001b[0m\u001b[0m\n\u001b[0;32m----> 6\u001b[0;31m     \u001b[0mnumeric_df\u001b[0m\u001b[0;34m[\u001b[0m\u001b[0mcol\u001b[0m\u001b[0;34m]\u001b[0m\u001b[0;34m.\u001b[0m\u001b[0mplot\u001b[0m\u001b[0;34m(\u001b[0m\u001b[0max\u001b[0m \u001b[0;34m=\u001b[0m \u001b[0max\u001b[0m\u001b[0;34m[\u001b[0m\u001b[0mx\u001b[0m\u001b[0;34m,\u001b[0m\u001b[0my\u001b[0m\u001b[0;34m]\u001b[0m\u001b[0;34m,\u001b[0m \u001b[0mkind\u001b[0m \u001b[0;34m=\u001b[0m \u001b[0;34m'hist'\u001b[0m\u001b[0;34m,\u001b[0m \u001b[0mlegend\u001b[0m \u001b[0;34m=\u001b[0m \u001b[0;32mFalse\u001b[0m\u001b[0;34m,\u001b[0m \u001b[0mcolor\u001b[0m \u001b[0;34m=\u001b[0m \u001b[0mcolors\u001b[0m\u001b[0;34m[\u001b[0m\u001b[0midx\u001b[0m\u001b[0;34m]\u001b[0m\u001b[0;34m,\u001b[0m \u001b[0mtitle\u001b[0m\u001b[0;34m=\u001b[0m\u001b[0mcol\u001b[0m\u001b[0;34m)\u001b[0m\u001b[0;34m\u001b[0m\u001b[0;34m\u001b[0m\u001b[0m\n\u001b[0m\u001b[1;32m      7\u001b[0m \u001b[0;34m\u001b[0m\u001b[0m\n\u001b[1;32m      8\u001b[0m \u001b[0mplt\u001b[0m\u001b[0;34m.\u001b[0m\u001b[0mshow\u001b[0m\u001b[0;34m(\u001b[0m\u001b[0;34m)\u001b[0m\u001b[0;34m\u001b[0m\u001b[0;34m\u001b[0m\u001b[0m\n",
      "\u001b[0;31mIndexError\u001b[0m: string index out of range"
     ]
    },
    {
     "data": {
      "image/png": "[encoded data removed]",
      "text/plain": [
       "<Figure size 1080x3456 with 16 Axes>"
      ]
     },
     "metadata": {
      "needs_background": "light"
     },
     "output_type": "display_data"
    }
   ],
   "source": [
    "fig, ax = plt.subplots(nrows = ((numeric_df.shape[1] + 2) // 2), ncols = 2, figsize = (15, 3*numeric_df.shape[1]))\n",
    "colors = 'bgrcwyk'\n",
    "\n",
    "for idx, col in enumerate(numeric_df.columns):\n",
    "    x, y = idx//2, idx % 2\n",
    "    numeric_df[col].plot(ax = ax[x,y], kind = 'hist', legend = False, color = colors[idx], title=col)\n",
    "\n",
    "plt.show()"
   ]
  },
  {
   "cell_type": "markdown",
   "metadata": {},
   "source": [
    "#### Correlations"
   ]
  },
  {
   "cell_type": "code",
   "execution_count": 285,
   "metadata": {},
   "outputs": [
    {
     "data": {
      "image/png": "[encoded data removed]",
      "text/plain": [
       "<Figure size 576x432 with 2 Axes>"
      ]
     },
     "metadata": {
      "needs_background": "light"
     },
     "output_type": "display_data"
    }
   ],
   "source": [
    "corr = data_out[numerical_vars].corr()\n",
    "\n",
    "fig, ax = plt.subplots(figsize=(8,6))\n",
    "\n",
    "sns.heatmap(corr, xticklabels=corr.columns, yticklabels=corr.columns, ax = ax)\n",
    "\n",
    "plt.show()"
   ]
  },
  {
   "cell_type": "markdown",
   "metadata": {},
   "source": [
    "#### Object Vars"
   ]
  },
  {
   "cell_type": "code",
   "execution_count": 289,
   "metadata": {},
   "outputs": [],
   "source": [
    "object_df = data_out[object_vars].copy(deep=True)"
   ]
  },
  {
   "cell_type": "markdown",
   "metadata": {},
   "source": [
    "#### Distrbutions"
   ]
  },
  {
   "cell_type": "code",
   "execution_count": 287,
   "metadata": {},
   "outputs": [
    {
     "ename": "IndexError",
     "evalue": "too many indices for array: array is 1-dimensional, but 2 were indexed",
     "output_type": "error",
     "traceback": [
      "\u001b[0;31m---------------------------------------------------------------------------\u001b[0m",
      "\u001b[0;31mIndexError\u001b[0m                                Traceback (most recent call last)",
      "\u001b[0;32m/var/folders/2f/cwgmhyzx4fn5cwp5j_dpmsd00000gn/T/ipykernel_26891/2426547289.py\u001b[0m in \u001b[0;36m<module>\u001b[0;34m\u001b[0m\n\u001b[1;32m      4\u001b[0m \u001b[0;32mfor\u001b[0m \u001b[0midx\u001b[0m\u001b[0;34m,\u001b[0m \u001b[0mcol\u001b[0m \u001b[0;32min\u001b[0m \u001b[0menumerate\u001b[0m\u001b[0;34m(\u001b[0m\u001b[0mobject_df\u001b[0m\u001b[0;34m.\u001b[0m\u001b[0mcolumns\u001b[0m\u001b[0;34m)\u001b[0m\u001b[0;34m:\u001b[0m\u001b[0;34m\u001b[0m\u001b[0;34m\u001b[0m\u001b[0m\n\u001b[1;32m      5\u001b[0m     \u001b[0mx\u001b[0m\u001b[0;34m,\u001b[0m \u001b[0my\u001b[0m \u001b[0;34m=\u001b[0m \u001b[0midx\u001b[0m\u001b[0;34m//\u001b[0m\u001b[0;36m3\u001b[0m\u001b[0;34m,\u001b[0m \u001b[0midx\u001b[0m \u001b[0;34m%\u001b[0m \u001b[0;36m3\u001b[0m\u001b[0;34m\u001b[0m\u001b[0;34m\u001b[0m\u001b[0m\n\u001b[0;32m----> 6\u001b[0;31m     \u001b[0mobject_df\u001b[0m\u001b[0;34m[\u001b[0m\u001b[0mcol\u001b[0m\u001b[0;34m]\u001b[0m\u001b[0;34m.\u001b[0m\u001b[0mvalue_counts\u001b[0m\u001b[0;34m(\u001b[0m\u001b[0;34m)\u001b[0m\u001b[0;34m.\u001b[0m\u001b[0mplot\u001b[0m\u001b[0;34m(\u001b[0m\u001b[0max\u001b[0m \u001b[0;34m=\u001b[0m \u001b[0max\u001b[0m\u001b[0;34m[\u001b[0m\u001b[0mx\u001b[0m\u001b[0;34m,\u001b[0m \u001b[0my\u001b[0m\u001b[0;34m]\u001b[0m\u001b[0;34m,\u001b[0m \u001b[0mkind\u001b[0m \u001b[0;34m=\u001b[0m \u001b[0;34m'bar'\u001b[0m\u001b[0;34m,\u001b[0m \u001b[0mlegend\u001b[0m \u001b[0;34m=\u001b[0m \u001b[0;32mFalse\u001b[0m\u001b[0;34m,\u001b[0m \u001b[0mcolor\u001b[0m \u001b[0;34m=\u001b[0m \u001b[0mcolors\u001b[0m\u001b[0;34m[\u001b[0m\u001b[0midx\u001b[0m\u001b[0;34m]\u001b[0m\u001b[0;34m,\u001b[0m \u001b[0mrot\u001b[0m \u001b[0;34m=\u001b[0m \u001b[0;36m50\u001b[0m\u001b[0;34m,\u001b[0m \u001b[0mfontsize\u001b[0m\u001b[0;34m=\u001b[0m\u001b[0;36m15\u001b[0m\u001b[0;34m)\u001b[0m\u001b[0;34m\u001b[0m\u001b[0;34m\u001b[0m\u001b[0m\n\u001b[0m\u001b[1;32m      7\u001b[0m \u001b[0;34m\u001b[0m\u001b[0m\n\u001b[1;32m      8\u001b[0m \u001b[0mplt\u001b[0m\u001b[0;34m.\u001b[0m\u001b[0mtight_layout\u001b[0m\u001b[0;34m(\u001b[0m\u001b[0;34m)\u001b[0m\u001b[0;34m\u001b[0m\u001b[0;34m\u001b[0m\u001b[0m\n",
      "\u001b[0;31mIndexError\u001b[0m: too many indices for array: array is 1-dimensional, but 2 were indexed"
     ]
    },
    {
     "data": {
      "image/png": "[encoded data removed]",
      "text/plain": [
       "<Figure size 1440x144 with 3 Axes>"
      ]
     },
     "metadata": {
      "needs_background": "light"
     },
     "output_type": "display_data"
    }
   ],
   "source": [
    "fig, ax = plt.subplots(nrows = ((object_df.shape[1] + 3) // 3), ncols = 3, figsize = (20, 2*object_df.shape[1]))\n",
    "colors = 'bgrcmwk' * ((object_df.shape[1] // 7) + 1)\n",
    "\n",
    "for idx, col in enumerate(object_df.columns):\n",
    "    x, y = idx//3, idx % 3\n",
    "    object_df[col].value_counts().plot(ax = ax[x, y], kind = 'bar', legend = False, color = colors[idx], rot = 50, fontsize=15)\n",
    "\n",
    "plt.tight_layout()"
   ]
  },
  {
   "cell_type": "markdown",
   "metadata": {},
   "source": [
    "## Step 5: Summarise and write a conclusion using markdown cells"
   ]
  },
  {
   "cell_type": "markdown",
   "metadata": {},
   "source": []
  }
 ],
 "metadata": {
  "interpreter": {
   "hash": "b5f7aff336943a65554c05e2ca907882fe198e7be0271bdc45bb04d1a8d238d9"
  },
  "kernelspec": {
   "display_name": "Python 3.8.9 64-bit ('SDPA_Coursework-laNtFxcw': pipenv)",
   "language": "python",
   "name": "python3"
  },
  "language_info": {
   "codemirror_mode": {
    "name": "ipython",
    "version": 3
   },
   "file_extension": ".py",
   "mimetype": "text/x-python",
   "name": "python",
   "nbconvert_exporter": "python",
   "pygments_lexer": "ipython3",
   "version": "3.10.0"
  },
  "orig_nbformat": 4
 },
 "nbformat": 4,
 "nbformat_minor": 2
}
