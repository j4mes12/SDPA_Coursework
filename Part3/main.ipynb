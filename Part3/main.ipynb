{
 "cells": [
  {
   "cell_type": "markdown",
   "metadata": {},
   "source": [
    "# Part 3: Data Analysis (40%)"
   ]
  },
  {
   "cell_type": "code",
   "execution_count": 133,
   "metadata": {},
   "outputs": [],
   "source": [
    "import numpy as np\n",
    "import pandas as pd\n",
    "import matplotlib.pyplot as plt\n",
    "import seaborn as sns\n",
    "\n",
    "import requests\n",
    "import json\n",
    "\n",
    "from datetime import datetime \n",
    "\n",
    "import re\n",
    "import nltk"
   ]
  },
  {
   "cell_type": "markdown",
   "metadata": {},
   "source": [
    "## Step 1: Crawl a real-world dataset"
   ]
  },
  {
   "cell_type": "markdown",
   "metadata": {},
   "source": [
    "Where does this data come from?\n",
    "- This data uses the NewsAPI to get news articles in english from across the world. There will be no specification on the country of origin.\n",
    "- This data will specifically look at articles containing the word 'boris' between 22nd October 2021 and 22nd November 2021 inclusive.\n",
    "- This is not an exhustive list of articles containing the word 'boris'.\n",
    "- The API request will be split up into two calls of 100 articles and then concatonated to get a full dataset of 200 entries. This is due to the 100 row request limit that the free membership allows.\n",
    "\n",
    "How was the data scraped/collected?\n",
    "- We used the NewsAPI to get this data from non-specific news sources.\n",
    "- This was in conjunction with the `requests` package to request the information from the NewsAPI and `json` to format.\n",
    "- Note: Unfortunately, due to subscription cap, the `content` column is not the full content. Thus this variable is less useful."
   ]
  },
  {
   "cell_type": "code",
   "execution_count": 134,
   "metadata": {},
   "outputs": [],
   "source": [
    "data = pd.DataFrame(columns = ['source', 'author', 'title', 'description', 'url', 'urlToImage', 'publishedAt', 'content'])\n",
    "\n",
    "urls = (\n",
    "    'http://newsapi.org/v2/everything?q=boris&language=en&pageSize=100&from=2021-10-22&to=2021-11-06&apiKey=823b384f7f3f4119b36bb73e3e82e0c9',\n",
    "    'http://newsapi.org/v2/everything?q=boris&language=en&pageSize=100&from=2021-11-06&to=2021-11-22&apiKey=823b384f7f3f4119b36bb73e3e82e0c9'\n",
    ")\n",
    "\n",
    "for url in urls:\n",
    "    r = requests.get(url)\n",
    "    json_load = json.loads(r.content)\n",
    "    data = pd.concat([data, pd.DataFrame(json_load['articles'])], ignore_index=True)"
   ]
  },
  {
   "cell_type": "code",
   "execution_count": 135,
   "metadata": {},
   "outputs": [
    {
     "data": {
      "text/html": [
       "<div>\n",
       "<style scoped>\n",
       "    .dataframe tbody tr th:only-of-type {\n",
       "        vertical-align: middle;\n",
       "    }\n",
       "\n",
       "    .dataframe tbody tr th {\n",
       "        vertical-align: top;\n",
       "    }\n",
       "\n",
       "    .dataframe thead th {\n",
       "        text-align: right;\n",
       "    }\n",
       "</style>\n",
       "<table border=\"1\" class=\"dataframe\">\n",
       "  <thead>\n",
       "    <tr style=\"text-align: right;\">\n",
       "      <th></th>\n",
       "      <th>author</th>\n",
       "      <th>title</th>\n",
       "      <th>description</th>\n",
       "      <th>url</th>\n",
       "      <th>urlToImage</th>\n",
       "      <th>publishedAt</th>\n",
       "      <th>content</th>\n",
       "      <th>source_name</th>\n",
       "      <th>source_id</th>\n",
       "    </tr>\n",
       "  </thead>\n",
       "  <tbody>\n",
       "    <tr>\n",
       "      <th>0</th>\n",
       "      <td>Sarah Marsh</td>\n",
       "      <td>Boris Johnson has ‘fragile male ego’, suggests...</td>\n",
       "      <td>First minister tells Vogue why she thinks PM s...</td>\n",
       "      <td>https://amp.theguardian.com/politics/2021/oct/...</td>\n",
       "      <td>https://i.guim.co.uk/img/media/01856ea1ddb24d3...</td>\n",
       "      <td>2021-10-29T15:41:40Z</td>\n",
       "      <td>Nicola Sturgeon has suggested Boris Johnsons f...</td>\n",
       "      <td>The Guardian</td>\n",
       "      <td>None</td>\n",
       "    </tr>\n",
       "    <tr>\n",
       "      <th>1</th>\n",
       "      <td>Miranda Bryant</td>\n",
       "      <td>The Queen is ‘on very good form’ says Boris Jo...</td>\n",
       "      <td>Prime minister’s comments come after news that...</td>\n",
       "      <td>https://amp.theguardian.com/uk-news/2021/oct/3...</td>\n",
       "      <td>https://i.guim.co.uk/img/media/0f91310e6096525...</td>\n",
       "      <td>2021-10-30T12:14:09Z</td>\n",
       "      <td>Boris Johnson has said the Queen is on very go...</td>\n",
       "      <td>The Guardian</td>\n",
       "      <td>None</td>\n",
       "    </tr>\n",
       "    <tr>\n",
       "      <th>2</th>\n",
       "      <td>Rowena Mason Deputy political editor</td>\n",
       "      <td>Cop26: Boris Johnson ‘cautiously optimistic’ a...</td>\n",
       "      <td>UK PM claims there has been a turnaround since...</td>\n",
       "      <td>https://amp.theguardian.com/environment/2021/n...</td>\n",
       "      <td>https://i.guim.co.uk/img/media/4239d0ea380a158...</td>\n",
       "      <td>2021-11-02T19:14:49Z</td>\n",
       "      <td>Boris Johnson has declared he is cautiously op...</td>\n",
       "      <td>The Guardian</td>\n",
       "      <td>None</td>\n",
       "    </tr>\n",
       "    <tr>\n",
       "      <th>3</th>\n",
       "      <td>Toby Helm, Michael Savage and Jo Ungoed-Thomas</td>\n",
       "      <td>Boris Johnson sleaze crisis deepens amid press...</td>\n",
       "      <td>Sir John Major attacks PM’s actions as ‘shamef...</td>\n",
       "      <td>https://amp.theguardian.com/politics/2021/nov/...</td>\n",
       "      <td>https://i.guim.co.uk/img/media/aec6318ff128a2c...</td>\n",
       "      <td>2021-11-06T20:30:04Z</td>\n",
       "      <td>The row over Tory sleaze reached new heights o...</td>\n",
       "      <td>The Guardian</td>\n",
       "      <td>None</td>\n",
       "    </tr>\n",
       "    <tr>\n",
       "      <th>4</th>\n",
       "      <td>Letters</td>\n",
       "      <td>Owen Paterson affair exposes Boris Johnson’s c...</td>\n",
       "      <td>Readers respond to the Tory party closing rank...</td>\n",
       "      <td>https://amp.theguardian.com/politics/2021/nov/...</td>\n",
       "      <td>https://i.guim.co.uk/img/media/6ba3d61a7c34951...</td>\n",
       "      <td>2021-11-04T18:23:26Z</td>\n",
       "      <td>Martin Kettle writes: Just before the start of...</td>\n",
       "      <td>The Guardian</td>\n",
       "      <td>None</td>\n",
       "    </tr>\n",
       "  </tbody>\n",
       "</table>\n",
       "</div>"
      ],
      "text/plain": [
       "                                           author  \\\n",
       "0                                     Sarah Marsh   \n",
       "1                                  Miranda Bryant   \n",
       "2            Rowena Mason Deputy political editor   \n",
       "3  Toby Helm, Michael Savage and Jo Ungoed-Thomas   \n",
       "4                                         Letters   \n",
       "\n",
       "                                               title  \\\n",
       "0  Boris Johnson has ‘fragile male ego’, suggests...   \n",
       "1  The Queen is ‘on very good form’ says Boris Jo...   \n",
       "2  Cop26: Boris Johnson ‘cautiously optimistic’ a...   \n",
       "3  Boris Johnson sleaze crisis deepens amid press...   \n",
       "4  Owen Paterson affair exposes Boris Johnson’s c...   \n",
       "\n",
       "                                         description  \\\n",
       "0  First minister tells Vogue why she thinks PM s...   \n",
       "1  Prime minister’s comments come after news that...   \n",
       "2  UK PM claims there has been a turnaround since...   \n",
       "3  Sir John Major attacks PM’s actions as ‘shamef...   \n",
       "4  Readers respond to the Tory party closing rank...   \n",
       "\n",
       "                                                 url  \\\n",
       "0  https://amp.theguardian.com/politics/2021/oct/...   \n",
       "1  https://amp.theguardian.com/uk-news/2021/oct/3...   \n",
       "2  https://amp.theguardian.com/environment/2021/n...   \n",
       "3  https://amp.theguardian.com/politics/2021/nov/...   \n",
       "4  https://amp.theguardian.com/politics/2021/nov/...   \n",
       "\n",
       "                                          urlToImage           publishedAt  \\\n",
       "0  https://i.guim.co.uk/img/media/01856ea1ddb24d3...  2021-10-29T15:41:40Z   \n",
       "1  https://i.guim.co.uk/img/media/0f91310e6096525...  2021-10-30T12:14:09Z   \n",
       "2  https://i.guim.co.uk/img/media/4239d0ea380a158...  2021-11-02T19:14:49Z   \n",
       "3  https://i.guim.co.uk/img/media/aec6318ff128a2c...  2021-11-06T20:30:04Z   \n",
       "4  https://i.guim.co.uk/img/media/6ba3d61a7c34951...  2021-11-04T18:23:26Z   \n",
       "\n",
       "                                             content   source_name source_id  \n",
       "0  Nicola Sturgeon has suggested Boris Johnsons f...  The Guardian      None  \n",
       "1  Boris Johnson has said the Queen is on very go...  The Guardian      None  \n",
       "2  Boris Johnson has declared he is cautiously op...  The Guardian      None  \n",
       "3  The row over Tory sleaze reached new heights o...  The Guardian      None  \n",
       "4  Martin Kettle writes: Just before the start of...  The Guardian      None  "
      ]
     },
     "execution_count": 135,
     "metadata": {},
     "output_type": "execute_result"
    }
   ],
   "source": [
    "data['source_name'] = data['source'].apply(lambda x: x['name'])\n",
    "data['source_id'] = data['source'].apply(lambda x: x['id'])\n",
    "data.drop(columns = 'source', axis = 1, inplace=True)\n",
    "data.head()"
   ]
  },
  {
   "cell_type": "markdown",
   "metadata": {},
   "source": [
    "What are the variables of interest?\n",
    "\n",
    "- Title: numeric features we can get from this will be interesting. Does word count/average word length vary over time? or does it vary over sentiment?\n",
    "- description: will help us identify the topic of the article. Are there lots on one topic?\n",
    "- source_name: Is there any bias when it comes to source of article?\n",
    "- publishedAt: Not directly interesting, but provides questions on how things vary over time."
   ]
  },
  {
   "cell_type": "markdown",
   "metadata": {},
   "source": [
    "## Step 2: Perform data preparation & cleaning"
   ]
  },
  {
   "cell_type": "code",
   "execution_count": 136,
   "metadata": {},
   "outputs": [
    {
     "data": {
      "text/plain": [
       "(200, 9)"
      ]
     },
     "execution_count": 136,
     "metadata": {},
     "output_type": "execute_result"
    }
   ],
   "source": [
    "# data shape\n",
    "data.shape"
   ]
  },
  {
   "cell_type": "code",
   "execution_count": 137,
   "metadata": {},
   "outputs": [
    {
     "data": {
      "text/plain": [
       "Index(['author', 'title', 'description', 'url', 'urlToImage', 'publishedAt',\n",
       "       'content', 'source_name', 'source_id'],\n",
       "      dtype='object')"
      ]
     },
     "execution_count": 137,
     "metadata": {},
     "output_type": "execute_result"
    }
   ],
   "source": [
    "data.columns"
   ]
  },
  {
   "cell_type": "code",
   "execution_count": 138,
   "metadata": {},
   "outputs": [
    {
     "data": {
      "text/plain": [
       "author          74\n",
       "title            0\n",
       "description      0\n",
       "url              0\n",
       "urlToImage       0\n",
       "publishedAt      0\n",
       "content          0\n",
       "source_name      0\n",
       "source_id      110\n",
       "dtype: int64"
      ]
     },
     "execution_count": 138,
     "metadata": {},
     "output_type": "execute_result"
    }
   ],
   "source": [
    "# Null value counts\n",
    "data.isnull().sum(axis=0)"
   ]
  },
  {
   "cell_type": "markdown",
   "metadata": {},
   "source": [
    "55% of `source_id`s are null. This suggests it would be prudent to drop this factor."
   ]
  },
  {
   "cell_type": "code",
   "execution_count": 139,
   "metadata": {},
   "outputs": [],
   "source": [
    "# Drop un-needed columns\n",
    "data.drop(\n",
    "    columns = ['url', 'urlToImage', 'content', 'source_id'],\n",
    "    axis=1,\n",
    "    inplace=True\n",
    ")"
   ]
  },
  {
   "cell_type": "code",
   "execution_count": 140,
   "metadata": {},
   "outputs": [],
   "source": [
    "# Imputer 'MISSING' into missing values\n",
    "data.author.fillna('MISSING', inplace=True)"
   ]
  },
  {
   "cell_type": "code",
   "execution_count": 141,
   "metadata": {},
   "outputs": [
    {
     "data": {
      "text/plain": [
       "author         object\n",
       "title          object\n",
       "description    object\n",
       "publishedAt    object\n",
       "source_name    object\n",
       "dtype: object"
      ]
     },
     "execution_count": 141,
     "metadata": {},
     "output_type": "execute_result"
    }
   ],
   "source": [
    "data.dtypes"
   ]
  },
  {
   "cell_type": "code",
   "execution_count": 142,
   "metadata": {},
   "outputs": [],
   "source": [
    "# Format publishedAt to datetime type\n",
    "data['publishedAt_dt'] = pd.to_datetime(data.publishedAt)\n",
    "data.drop(columns='publishedAt', axis=1, inplace=True)"
   ]
  },
  {
   "cell_type": "code",
   "execution_count": 143,
   "metadata": {},
   "outputs": [],
   "source": [
    "text_cols = ['title', 'description']"
   ]
  },
  {
   "cell_type": "code",
   "execution_count": 144,
   "metadata": {},
   "outputs": [],
   "source": [
    "def average_word_length(row):\n",
    "    return sum(map(len, row))/len(row)\n",
    "\n",
    "def remove_special_characters(row):\n",
    "    return re.sub(r'[^a-zA-Z0-9\\s]', '', row)\n",
    "\n",
    "def get_tokenize(row):\n",
    "    return nltk.word_tokenize(row)\n",
    "    "
   ]
  },
  {
   "cell_type": "code",
   "execution_count": 145,
   "metadata": {},
   "outputs": [],
   "source": [
    "for i in text_cols:\n",
    "    data[i] = data[i].str.lower()\n",
    "\n",
    "    data[i] = data[i].apply(lambda x: remove_special_characters(x))\n",
    "\n",
    "    data[i + '_tokenize'] = data[i].apply(lambda x: get_tokenize(x))\n",
    "\n",
    "    data[i + '_word_count'] = data[i + '_tokenize'].apply(lambda x: len(x))\n",
    "\n",
    "    data[i + '_av_word_len'] = data[i + '_tokenize'].apply(lambda x: average_word_length(x))"
   ]
  },
  {
   "cell_type": "code",
   "execution_count": 146,
   "metadata": {},
   "outputs": [],
   "source": [
    "data['title_has_longer_words'] = data.title_av_word_len > data.description_av_word_len"
   ]
  },
  {
   "cell_type": "code",
   "execution_count": 147,
   "metadata": {},
   "outputs": [
    {
     "data": {
      "text/html": [
       "<div>\n",
       "<style scoped>\n",
       "    .dataframe tbody tr th:only-of-type {\n",
       "        vertical-align: middle;\n",
       "    }\n",
       "\n",
       "    .dataframe tbody tr th {\n",
       "        vertical-align: top;\n",
       "    }\n",
       "\n",
       "    .dataframe thead th {\n",
       "        text-align: right;\n",
       "    }\n",
       "</style>\n",
       "<table border=\"1\" class=\"dataframe\">\n",
       "  <thead>\n",
       "    <tr style=\"text-align: right;\">\n",
       "      <th></th>\n",
       "      <th>author</th>\n",
       "      <th>title</th>\n",
       "      <th>description</th>\n",
       "      <th>source_name</th>\n",
       "      <th>publishedAt_dt</th>\n",
       "      <th>title_word_count</th>\n",
       "      <th>title_av_word_len</th>\n",
       "      <th>description_word_count</th>\n",
       "      <th>description_av_word_len</th>\n",
       "      <th>title_has_longer_words</th>\n",
       "    </tr>\n",
       "  </thead>\n",
       "  <tbody>\n",
       "    <tr>\n",
       "      <th>0</th>\n",
       "      <td>Sarah Marsh</td>\n",
       "      <td>boris johnson has fragile male ego suggests ni...</td>\n",
       "      <td>first minister tells vogue why she thinks pm s...</td>\n",
       "      <td>The Guardian</td>\n",
       "      <td>2021-10-29 15:41:40+00:00</td>\n",
       "      <td>9</td>\n",
       "      <td>5.666667</td>\n",
       "      <td>42</td>\n",
       "      <td>5.119048</td>\n",
       "      <td>True</td>\n",
       "    </tr>\n",
       "    <tr>\n",
       "      <th>1</th>\n",
       "      <td>Miranda Bryant</td>\n",
       "      <td>the queen is on very good form says boris johnson</td>\n",
       "      <td>prime ministers comments come after news that ...</td>\n",
       "      <td>The Guardian</td>\n",
       "      <td>2021-10-30 12:14:09+00:00</td>\n",
       "      <td>10</td>\n",
       "      <td>4.000000</td>\n",
       "      <td>44</td>\n",
       "      <td>4.795455</td>\n",
       "      <td>False</td>\n",
       "    </tr>\n",
       "    <tr>\n",
       "      <th>2</th>\n",
       "      <td>Rowena Mason Deputy political editor</td>\n",
       "      <td>cop26 boris johnson cautiously optimistic abou...</td>\n",
       "      <td>uk pm claims there has been a turnaround since...</td>\n",
       "      <td>The Guardian</td>\n",
       "      <td>2021-11-02 19:14:49+00:00</td>\n",
       "      <td>9</td>\n",
       "      <td>6.333333</td>\n",
       "      <td>46</td>\n",
       "      <td>4.586957</td>\n",
       "      <td>True</td>\n",
       "    </tr>\n",
       "    <tr>\n",
       "      <th>3</th>\n",
       "      <td>Toby Helm, Michael Savage and Jo Ungoed-Thomas</td>\n",
       "      <td>boris johnson sleaze crisis deepens amid press...</td>\n",
       "      <td>sir john major attacks pms actions as shameful...</td>\n",
       "      <td>The Guardian</td>\n",
       "      <td>2021-11-06 20:30:04+00:00</td>\n",
       "      <td>10</td>\n",
       "      <td>5.500000</td>\n",
       "      <td>44</td>\n",
       "      <td>4.840909</td>\n",
       "      <td>True</td>\n",
       "    </tr>\n",
       "    <tr>\n",
       "      <th>4</th>\n",
       "      <td>Letters</td>\n",
       "      <td>owen paterson affair exposes boris johnsons co...</td>\n",
       "      <td>readers respond to the tory party closing rank...</td>\n",
       "      <td>The Guardian</td>\n",
       "      <td>2021-11-04 18:23:26+00:00</td>\n",
       "      <td>10</td>\n",
       "      <td>6.500000</td>\n",
       "      <td>40</td>\n",
       "      <td>5.400000</td>\n",
       "      <td>True</td>\n",
       "    </tr>\n",
       "  </tbody>\n",
       "</table>\n",
       "</div>"
      ],
      "text/plain": [
       "                                           author  \\\n",
       "0                                     Sarah Marsh   \n",
       "1                                  Miranda Bryant   \n",
       "2            Rowena Mason Deputy political editor   \n",
       "3  Toby Helm, Michael Savage and Jo Ungoed-Thomas   \n",
       "4                                         Letters   \n",
       "\n",
       "                                               title  \\\n",
       "0  boris johnson has fragile male ego suggests ni...   \n",
       "1  the queen is on very good form says boris johnson   \n",
       "2  cop26 boris johnson cautiously optimistic abou...   \n",
       "3  boris johnson sleaze crisis deepens amid press...   \n",
       "4  owen paterson affair exposes boris johnsons co...   \n",
       "\n",
       "                                         description   source_name  \\\n",
       "0  first minister tells vogue why she thinks pm s...  The Guardian   \n",
       "1  prime ministers comments come after news that ...  The Guardian   \n",
       "2  uk pm claims there has been a turnaround since...  The Guardian   \n",
       "3  sir john major attacks pms actions as shameful...  The Guardian   \n",
       "4  readers respond to the tory party closing rank...  The Guardian   \n",
       "\n",
       "             publishedAt_dt  title_word_count  title_av_word_len  \\\n",
       "0 2021-10-29 15:41:40+00:00                 9           5.666667   \n",
       "1 2021-10-30 12:14:09+00:00                10           4.000000   \n",
       "2 2021-11-02 19:14:49+00:00                 9           6.333333   \n",
       "3 2021-11-06 20:30:04+00:00                10           5.500000   \n",
       "4 2021-11-04 18:23:26+00:00                10           6.500000   \n",
       "\n",
       "   description_word_count  description_av_word_len  title_has_longer_words  \n",
       "0                      42                 5.119048                    True  \n",
       "1                      44                 4.795455                   False  \n",
       "2                      46                 4.586957                    True  \n",
       "3                      44                 4.840909                    True  \n",
       "4                      40                 5.400000                    True  "
      ]
     },
     "execution_count": 147,
     "metadata": {},
     "output_type": "execute_result"
    }
   ],
   "source": [
    "data_out = data.drop(columns=['description_tokenize', 'title_tokenize'], axis=1)\n",
    "data_out.head()"
   ]
  },
  {
   "cell_type": "markdown",
   "metadata": {},
   "source": [
    "##### Title"
   ]
  },
  {
   "cell_type": "code",
   "execution_count": 23,
   "metadata": {},
   "outputs": [],
   "source": [
    "data['title_word_count'] = data['title'].apply(lambda x: len(nltk.word_tokenize(x)))"
   ]
  },
  {
   "cell_type": "markdown",
   "metadata": {},
   "source": [
    "## Step 3: Perform exploratory analysis and ask questions"
   ]
  },
  {
   "cell_type": "code",
   "execution_count": null,
   "metadata": {},
   "outputs": [],
   "source": []
  },
  {
   "cell_type": "markdown",
   "metadata": {},
   "source": [
    "## Step 5: Summarise and write a conclusion using markdown cells"
   ]
  },
  {
   "cell_type": "markdown",
   "metadata": {},
   "source": []
  }
 ],
 "metadata": {
  "interpreter": {
   "hash": "b5f7aff336943a65554c05e2ca907882fe198e7be0271bdc45bb04d1a8d238d9"
  },
  "kernelspec": {
   "display_name": "Python 3.8.9 64-bit ('SDPA_Coursework-laNtFxcw': pipenv)",
   "language": "python",
   "name": "python3"
  },
  "language_info": {
   "codemirror_mode": {
    "name": "ipython",
    "version": 3
   },
   "file_extension": ".py",
   "mimetype": "text/x-python",
   "name": "python",
   "nbconvert_exporter": "python",
   "pygments_lexer": "ipython3",
   "version": "3.10.0"
  },
  "orig_nbformat": 4
 },
 "nbformat": 4,
 "nbformat_minor": 2
}
