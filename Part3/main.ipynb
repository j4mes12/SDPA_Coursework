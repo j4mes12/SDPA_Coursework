{
 "cells": [
  {
   "cell_type": "markdown",
   "metadata": {},
   "source": [
    "# Part 3: Data Analysis (40%)"
   ]
  },
  {
   "cell_type": "code",
   "execution_count": 1,
   "metadata": {},
   "outputs": [],
   "source": [
    "import numpy as np\n",
    "import pandas as pd\n",
    "import matplotlib.pyplot as plt\n",
    "import seaborn as sns\n",
    "\n",
    "import requests\n",
    "import json\n",
    "\n",
    "from datetime import datetime \n",
    "\n",
    "import re\n",
    "import nltk"
   ]
  },
  {
   "cell_type": "markdown",
   "metadata": {},
   "source": [
    "## Step 1: Crawl a real-world dataset"
   ]
  },
  {
   "cell_type": "code",
   "execution_count": 44,
   "metadata": {},
   "outputs": [],
   "source": [
    "import spotipy\n",
    "from spotipy.oauth2 import SpotifyClientCredentials\n",
    "\n",
    "sp = spotipy.Spotify(\n",
    "    auth_manager=SpotifyClientCredentials(\n",
    "        client_id='262f1d55233c40938cb157f5f2a45beb',\n",
    "        client_secret='5ec6a7c82c1e402294f64217d662f58f'\n",
    "    )\n",
    ")"
   ]
  },
  {
   "cell_type": "code",
   "execution_count": 92,
   "metadata": {},
   "outputs": [],
   "source": [
    "mbdtf = 'spotify:album:20r762YmB5HeofjMCiPMLv'"
   ]
  },
  {
   "cell_type": "code",
   "execution_count": 51,
   "metadata": {},
   "outputs": [],
   "source": [
    "new_releases = sp.new_releases(country = 'GB', limit=2)"
   ]
  },
  {
   "cell_type": "code",
   "execution_count": 50,
   "metadata": {},
   "outputs": [
    {
     "name": "stdout",
     "output_type": "stream",
     "text": [
      "New Release Album Names: ['i wonder if you wonder', 'white light']\n",
      "New Release Album URIs: ['spotify:album:3Mz1DFcunKLU3ki7iVX26t', 'spotify:album:3Xzs5FHxd6FFwkq0nTF1l3']\n"
     ]
    }
   ],
   "source": [
    "nr_album_names = []\n",
    "nr_album_uri = []\n",
    "\n",
    "for i in new_releases['albums']['items']:\n",
    "    nr_album_uri.append(i['uri'])\n",
    "    nr_album_names.append(i['name'])\n",
    "\n",
    "print('New Release Album Names:', nr_album_names)\n",
    "print('New Release Album URIs:', nr_album_uri)"
   ]
  },
  {
   "cell_type": "code",
   "execution_count": 94,
   "metadata": {},
   "outputs": [],
   "source": [
    "def get_songs(uri):\n",
    "    album = {}\n",
    "    album['name'] = []\n",
    "    album['id'] = []\n",
    "    album['uri'] = []\n",
    "    album['duration'] = []\n",
    "\n",
    "    album_tracks = sp.album_tracks(uri)['items']\n",
    "\n",
    "    for i in album_tracks:\n",
    "        album['name'].append(i['name'])\n",
    "        album['id'].append(i['id'])\n",
    "        album['uri'].append(i['uri'])\n",
    "        album['duration'].append(i['duration_ms'])\n",
    "    return album"
   ]
  },
  {
   "cell_type": "code",
   "execution_count": 106,
   "metadata": {},
   "outputs": [
    {
     "name": "stdout",
     "output_type": "stream",
     "text": [
      "Songs from \"i wonder if you wonder\" have been added to dictionary.\n",
      "Songs from \"white light\" have been added to dictionary.\n"
     ]
    }
   ],
   "source": [
    "nr_album_songs = {}\n",
    "for uri, name in zip(nr_album_uri, nr_album_names):\n",
    "    nr_album_songs[name] = get_songs(uri)\n",
    "    print(f'Songs from \"{name}\" have been added to dictionary.')"
   ]
  },
  {
   "cell_type": "code",
   "execution_count": null,
   "metadata": {},
   "outputs": [],
   "source": [
    "def get_audio_metrics(album)"
   ]
  },
  {
   "cell_type": "markdown",
   "metadata": {},
   "source": [
    "## Step 2: Perform data preparation & cleaning"
   ]
  },
  {
   "cell_type": "code",
   "execution_count": null,
   "metadata": {},
   "outputs": [
    {
     "data": {
      "text/plain": [
       "(200, 9)"
      ]
     },
     "execution_count": 7,
     "metadata": {},
     "output_type": "execute_result"
    }
   ],
   "source": [
    "# data shape\n",
    "data.shape"
   ]
  },
  {
   "cell_type": "code",
   "execution_count": null,
   "metadata": {},
   "outputs": [
    {
     "data": {
      "text/plain": [
       "Index(['author', 'title', 'description', 'url', 'urlToImage', 'publishedAt',\n",
       "       'content', 'source_name', 'source_id'],\n",
       "      dtype='object')"
      ]
     },
     "execution_count": 8,
     "metadata": {},
     "output_type": "execute_result"
    }
   ],
   "source": [
    "data.columns"
   ]
  },
  {
   "cell_type": "code",
   "execution_count": null,
   "metadata": {},
   "outputs": [
    {
     "data": {
      "text/plain": [
       "author          74\n",
       "title            0\n",
       "description      0\n",
       "url              0\n",
       "urlToImage       0\n",
       "publishedAt      0\n",
       "content          0\n",
       "source_name      0\n",
       "source_id      110\n",
       "dtype: int64"
      ]
     },
     "execution_count": 9,
     "metadata": {},
     "output_type": "execute_result"
    }
   ],
   "source": [
    "# Null value counts\n",
    "data.isnull().sum(axis=0)"
   ]
  },
  {
   "cell_type": "markdown",
   "metadata": {},
   "source": [
    "55% of `source_id`s are null. This suggests it would be prudent to drop this factor."
   ]
  },
  {
   "cell_type": "code",
   "execution_count": null,
   "metadata": {},
   "outputs": [],
   "source": [
    "# Drop un-needed columns\n",
    "data.drop(\n",
    "    columns = ['url', 'urlToImage', 'content', 'source_id'],\n",
    "    axis=1,\n",
    "    inplace=True\n",
    ")"
   ]
  },
  {
   "cell_type": "code",
   "execution_count": null,
   "metadata": {},
   "outputs": [],
   "source": [
    "# Imputer 'MISSING' into missing values\n",
    "data.author.fillna('MISSING', inplace=True)"
   ]
  },
  {
   "cell_type": "code",
   "execution_count": null,
   "metadata": {},
   "outputs": [
    {
     "data": {
      "text/plain": [
       "author         object\n",
       "title          object\n",
       "description    object\n",
       "publishedAt    object\n",
       "source_name    object\n",
       "dtype: object"
      ]
     },
     "execution_count": 12,
     "metadata": {},
     "output_type": "execute_result"
    }
   ],
   "source": [
    "data.dtypes"
   ]
  },
  {
   "cell_type": "code",
   "execution_count": null,
   "metadata": {},
   "outputs": [],
   "source": [
    "# Format publishedAt to datetime type\n",
    "data['publishedAt_dt'] = pd.to_datetime(data.publishedAt)\n",
    "data.drop(columns='publishedAt', axis=1, inplace=True)"
   ]
  },
  {
   "cell_type": "code",
   "execution_count": null,
   "metadata": {},
   "outputs": [],
   "source": [
    "text_cols = ['title', 'description']"
   ]
  },
  {
   "cell_type": "code",
   "execution_count": null,
   "metadata": {},
   "outputs": [],
   "source": [
    "def average_word_length(row):\n",
    "    return sum(map(len, row))/len(row)\n",
    "\n",
    "def remove_special_characters(row):\n",
    "    return re.sub(r'[^a-zA-Z0-9\\s]', '', row)\n",
    "\n",
    "def get_tokenize(row):\n",
    "    return nltk.word_tokenize(row)\n",
    "    "
   ]
  },
  {
   "cell_type": "code",
   "execution_count": null,
   "metadata": {},
   "outputs": [],
   "source": [
    "for i in text_cols:\n",
    "    data[i] = data[i].str.lower()\n",
    "\n",
    "    data[i] = data[i].apply(lambda x: remove_special_characters(x))\n",
    "\n",
    "    data[i + '_tokenize'] = data[i].apply(lambda x: get_tokenize(x))\n",
    "\n",
    "    data[i + '_word_count'] = data[i + '_tokenize'].apply(lambda x: len(x))\n",
    "\n",
    "    data[i + '_av_word_len'] = data[i + '_tokenize'].apply(lambda x: average_word_length(x))"
   ]
  },
  {
   "cell_type": "code",
   "execution_count": null,
   "metadata": {},
   "outputs": [],
   "source": [
    "data['title_has_longer_words'] = data.title_av_word_len > data.description_av_word_len"
   ]
  },
  {
   "cell_type": "code",
   "execution_count": 69,
   "metadata": {},
   "outputs": [],
   "source": [
    "data['publish_hour'] = data.publishedAt_dt.dt.hour\n",
    "\n",
    "data['publish_day'] = data.publishedAt_dt.dt.day\n",
    "data['publish_day'] = data['publish_day'] - data['publish_day'].min()\n",
    "\n",
    "data['publish_weekday'] = data.publishedAt_dt.dt.weekday\n",
    "\n",
    "data['publish_week'] = data.publishedAt_dt.dt.isocalendar().week\n",
    "data['publish_week'] = data['publish_week'] - data['publish_week'].min()\n",
    "\n",
    "data['publish_month'] = data.publishedAt_dt.dt.month_name()"
   ]
  },
  {
   "cell_type": "code",
   "execution_count": 45,
   "metadata": {},
   "outputs": [
    {
     "data": {
      "text/html": [
       "<div>\n",
       "<style scoped>\n",
       "    .dataframe tbody tr th:only-of-type {\n",
       "        vertical-align: middle;\n",
       "    }\n",
       "\n",
       "    .dataframe tbody tr th {\n",
       "        vertical-align: top;\n",
       "    }\n",
       "\n",
       "    .dataframe thead th {\n",
       "        text-align: right;\n",
       "    }\n",
       "</style>\n",
       "<table border=\"1\" class=\"dataframe\">\n",
       "  <thead>\n",
       "    <tr style=\"text-align: right;\">\n",
       "      <th></th>\n",
       "      <th>author</th>\n",
       "      <th>title</th>\n",
       "      <th>description</th>\n",
       "      <th>source_name</th>\n",
       "      <th>publishedAt_dt</th>\n",
       "      <th>title_word_count</th>\n",
       "      <th>title_av_word_len</th>\n",
       "      <th>description_word_count</th>\n",
       "      <th>description_av_word_len</th>\n",
       "      <th>title_has_longer_words</th>\n",
       "      <th>publish_day</th>\n",
       "      <th>publish_hour</th>\n",
       "      <th>publish_weekday</th>\n",
       "      <th>publish_week</th>\n",
       "      <th>publish_month</th>\n",
       "    </tr>\n",
       "  </thead>\n",
       "  <tbody>\n",
       "    <tr>\n",
       "      <th>0</th>\n",
       "      <td>Sarah Marsh</td>\n",
       "      <td>boris johnson has fragile male ego suggests ni...</td>\n",
       "      <td>first minister tells vogue why she thinks pm s...</td>\n",
       "      <td>The Guardian</td>\n",
       "      <td>2021-10-29 15:41:40+00:00</td>\n",
       "      <td>9</td>\n",
       "      <td>5.666667</td>\n",
       "      <td>42</td>\n",
       "      <td>5.119048</td>\n",
       "      <td>True</td>\n",
       "      <td>29</td>\n",
       "      <td>15</td>\n",
       "      <td>4</td>\n",
       "      <td>43</td>\n",
       "      <td>October</td>\n",
       "    </tr>\n",
       "    <tr>\n",
       "      <th>1</th>\n",
       "      <td>Miranda Bryant</td>\n",
       "      <td>the queen is on very good form says boris johnson</td>\n",
       "      <td>prime ministers comments come after news that ...</td>\n",
       "      <td>The Guardian</td>\n",
       "      <td>2021-10-30 12:14:09+00:00</td>\n",
       "      <td>10</td>\n",
       "      <td>4.000000</td>\n",
       "      <td>44</td>\n",
       "      <td>4.795455</td>\n",
       "      <td>False</td>\n",
       "      <td>30</td>\n",
       "      <td>12</td>\n",
       "      <td>5</td>\n",
       "      <td>43</td>\n",
       "      <td>October</td>\n",
       "    </tr>\n",
       "    <tr>\n",
       "      <th>2</th>\n",
       "      <td>Rowena Mason Deputy political editor</td>\n",
       "      <td>cop26 boris johnson cautiously optimistic abou...</td>\n",
       "      <td>uk pm claims there has been a turnaround since...</td>\n",
       "      <td>The Guardian</td>\n",
       "      <td>2021-11-02 19:14:49+00:00</td>\n",
       "      <td>9</td>\n",
       "      <td>6.333333</td>\n",
       "      <td>46</td>\n",
       "      <td>4.586957</td>\n",
       "      <td>True</td>\n",
       "      <td>2</td>\n",
       "      <td>19</td>\n",
       "      <td>1</td>\n",
       "      <td>44</td>\n",
       "      <td>November</td>\n",
       "    </tr>\n",
       "    <tr>\n",
       "      <th>3</th>\n",
       "      <td>Toby Helm, Michael Savage and Jo Ungoed-Thomas</td>\n",
       "      <td>boris johnson sleaze crisis deepens amid press...</td>\n",
       "      <td>sir john major attacks pms actions as shameful...</td>\n",
       "      <td>The Guardian</td>\n",
       "      <td>2021-11-06 20:30:04+00:00</td>\n",
       "      <td>10</td>\n",
       "      <td>5.500000</td>\n",
       "      <td>44</td>\n",
       "      <td>4.840909</td>\n",
       "      <td>True</td>\n",
       "      <td>6</td>\n",
       "      <td>20</td>\n",
       "      <td>5</td>\n",
       "      <td>44</td>\n",
       "      <td>November</td>\n",
       "    </tr>\n",
       "    <tr>\n",
       "      <th>4</th>\n",
       "      <td>Letters</td>\n",
       "      <td>owen paterson affair exposes boris johnsons co...</td>\n",
       "      <td>readers respond to the tory party closing rank...</td>\n",
       "      <td>The Guardian</td>\n",
       "      <td>2021-11-04 18:23:26+00:00</td>\n",
       "      <td>10</td>\n",
       "      <td>6.500000</td>\n",
       "      <td>40</td>\n",
       "      <td>5.400000</td>\n",
       "      <td>True</td>\n",
       "      <td>4</td>\n",
       "      <td>18</td>\n",
       "      <td>3</td>\n",
       "      <td>44</td>\n",
       "      <td>November</td>\n",
       "    </tr>\n",
       "  </tbody>\n",
       "</table>\n",
       "</div>"
      ],
      "text/plain": [
       "                                           author  \\\n",
       "0                                     Sarah Marsh   \n",
       "1                                  Miranda Bryant   \n",
       "2            Rowena Mason Deputy political editor   \n",
       "3  Toby Helm, Michael Savage and Jo Ungoed-Thomas   \n",
       "4                                         Letters   \n",
       "\n",
       "                                               title  \\\n",
       "0  boris johnson has fragile male ego suggests ni...   \n",
       "1  the queen is on very good form says boris johnson   \n",
       "2  cop26 boris johnson cautiously optimistic abou...   \n",
       "3  boris johnson sleaze crisis deepens amid press...   \n",
       "4  owen paterson affair exposes boris johnsons co...   \n",
       "\n",
       "                                         description   source_name  \\\n",
       "0  first minister tells vogue why she thinks pm s...  The Guardian   \n",
       "1  prime ministers comments come after news that ...  The Guardian   \n",
       "2  uk pm claims there has been a turnaround since...  The Guardian   \n",
       "3  sir john major attacks pms actions as shameful...  The Guardian   \n",
       "4  readers respond to the tory party closing rank...  The Guardian   \n",
       "\n",
       "             publishedAt_dt  title_word_count  title_av_word_len  \\\n",
       "0 2021-10-29 15:41:40+00:00                 9           5.666667   \n",
       "1 2021-10-30 12:14:09+00:00                10           4.000000   \n",
       "2 2021-11-02 19:14:49+00:00                 9           6.333333   \n",
       "3 2021-11-06 20:30:04+00:00                10           5.500000   \n",
       "4 2021-11-04 18:23:26+00:00                10           6.500000   \n",
       "\n",
       "   description_word_count  description_av_word_len  title_has_longer_words  \\\n",
       "0                      42                 5.119048                    True   \n",
       "1                      44                 4.795455                   False   \n",
       "2                      46                 4.586957                    True   \n",
       "3                      44                 4.840909                    True   \n",
       "4                      40                 5.400000                    True   \n",
       "\n",
       "   publish_day  publish_hour  publish_weekday  publish_week publish_month  \n",
       "0           29            15                4            43       October  \n",
       "1           30            12                5            43       October  \n",
       "2            2            19                1            44      November  \n",
       "3            6            20                5            44      November  \n",
       "4            4            18                3            44      November  "
      ]
     },
     "execution_count": 45,
     "metadata": {},
     "output_type": "execute_result"
    }
   ],
   "source": [
    "data_out = data.drop(columns=['description_tokenize', 'title_tokenize'], axis=1)\n",
    "data_out.head()"
   ]
  },
  {
   "cell_type": "markdown",
   "metadata": {},
   "source": [
    "## Step 3: Perform exploratory analysis and ask questions"
   ]
  },
  {
   "cell_type": "markdown",
   "metadata": {},
   "source": [
    "#### Variable Distributions"
   ]
  },
  {
   "cell_type": "code",
   "execution_count": 61,
   "metadata": {},
   "outputs": [
    {
     "data": {
      "text/plain": [
       "author                                  object\n",
       "title                                   object\n",
       "description                             object\n",
       "source_name                             object\n",
       "publishedAt_dt             datetime64[ns, UTC]\n",
       "title_word_count                         int64\n",
       "title_av_word_len                      float64\n",
       "description_word_count                   int64\n",
       "description_av_word_len                float64\n",
       "title_has_longer_words                    bool\n",
       "publish_day                              int64\n",
       "publish_hour                             int64\n",
       "publish_weekday                          int64\n",
       "publish_week                            UInt32\n",
       "publish_month                           object\n",
       "dtype: object"
      ]
     },
     "execution_count": 61,
     "metadata": {},
     "output_type": "execute_result"
    }
   ],
   "source": [
    "data_out.dtypes"
   ]
  },
  {
   "cell_type": "code",
   "execution_count": 63,
   "metadata": {},
   "outputs": [],
   "source": [
    "object_vars = ['author', 'source_name']\n",
    "\n",
    "numerical_vars = ['title_word_count', 'title_av_word_len', 'description_word_count', 'description_av_word_len', 'publish_day', 'publish_hour', 'publish_weekday', 'publish_week']\n",
    "\n",
    "bool_vars = ['title_has_longer_words']\n",
    "\n",
    "date_vars = ['publishedAt_dt']\n",
    "\n",
    "ignore_vars = ['title', 'description', 'publish_month']"
   ]
  },
  {
   "cell_type": "code",
   "execution_count": 66,
   "metadata": {},
   "outputs": [
    {
     "name": "stdout",
     "output_type": "stream",
     "text": [
      "All vars: 15\n",
      "data vars: 15\n"
     ]
    }
   ],
   "source": [
    "all_vars = object_vars + numerical_vars + bool_vars + date_vars + ignore_vars\n",
    "\n",
    "print('All vars:', len(all_vars))\n",
    "print('data vars:', len(data_out.columns))"
   ]
  },
  {
   "cell_type": "markdown",
   "metadata": {},
   "source": [
    "#### Numerical Vars"
   ]
  },
  {
   "cell_type": "code",
   "execution_count": 68,
   "metadata": {},
   "outputs": [
    {
     "data": {
      "text/html": [
       "<div>\n",
       "<style scoped>\n",
       "    .dataframe tbody tr th:only-of-type {\n",
       "        vertical-align: middle;\n",
       "    }\n",
       "\n",
       "    .dataframe tbody tr th {\n",
       "        vertical-align: top;\n",
       "    }\n",
       "\n",
       "    .dataframe thead th {\n",
       "        text-align: right;\n",
       "    }\n",
       "</style>\n",
       "<table border=\"1\" class=\"dataframe\">\n",
       "  <thead>\n",
       "    <tr style=\"text-align: right;\">\n",
       "      <th></th>\n",
       "      <th>Count</th>\n",
       "      <th>Null</th>\n",
       "      <th>Unique</th>\n",
       "      <th>Mean</th>\n",
       "      <th>Median</th>\n",
       "      <th>Min</th>\n",
       "      <th>Max</th>\n",
       "      <th>Range</th>\n",
       "    </tr>\n",
       "  </thead>\n",
       "  <tbody>\n",
       "    <tr>\n",
       "      <th>title_word_count</th>\n",
       "      <td>200</td>\n",
       "      <td>0</td>\n",
       "      <td>16</td>\n",
       "      <td>12.125</td>\n",
       "      <td>12.000</td>\n",
       "      <td>6.000</td>\n",
       "      <td>23.000</td>\n",
       "      <td>17.000</td>\n",
       "    </tr>\n",
       "    <tr>\n",
       "      <th>title_av_word_len</th>\n",
       "      <td>200</td>\n",
       "      <td>0</td>\n",
       "      <td>123</td>\n",
       "      <td>5.101</td>\n",
       "      <td>5.091</td>\n",
       "      <td>3.364</td>\n",
       "      <td>8.250</td>\n",
       "      <td>4.886</td>\n",
       "    </tr>\n",
       "    <tr>\n",
       "      <th>description_word_count</th>\n",
       "      <td>200</td>\n",
       "      <td>0</td>\n",
       "      <td>35</td>\n",
       "      <td>36.900</td>\n",
       "      <td>38.000</td>\n",
       "      <td>13.000</td>\n",
       "      <td>51.000</td>\n",
       "      <td>38.000</td>\n",
       "    </tr>\n",
       "    <tr>\n",
       "      <th>description_av_word_len</th>\n",
       "      <td>200</td>\n",
       "      <td>0</td>\n",
       "      <td>153</td>\n",
       "      <td>5.230</td>\n",
       "      <td>5.217</td>\n",
       "      <td>3.980</td>\n",
       "      <td>7.692</td>\n",
       "      <td>3.712</td>\n",
       "    </tr>\n",
       "    <tr>\n",
       "      <th>publish_day</th>\n",
       "      <td>200</td>\n",
       "      <td>0</td>\n",
       "      <td>31</td>\n",
       "      <td>14.330</td>\n",
       "      <td>14.000</td>\n",
       "      <td>1.000</td>\n",
       "      <td>31.000</td>\n",
       "      <td>30.000</td>\n",
       "    </tr>\n",
       "    <tr>\n",
       "      <th>publish_hour</th>\n",
       "      <td>200</td>\n",
       "      <td>0</td>\n",
       "      <td>21</td>\n",
       "      <td>14.435</td>\n",
       "      <td>15.000</td>\n",
       "      <td>0.000</td>\n",
       "      <td>23.000</td>\n",
       "      <td>23.000</td>\n",
       "    </tr>\n",
       "    <tr>\n",
       "      <th>publish_weekday</th>\n",
       "      <td>200</td>\n",
       "      <td>0</td>\n",
       "      <td>7</td>\n",
       "      <td>2.570</td>\n",
       "      <td>2.000</td>\n",
       "      <td>0.000</td>\n",
       "      <td>6.000</td>\n",
       "      <td>6.000</td>\n",
       "    </tr>\n",
       "    <tr>\n",
       "      <th>publish_week</th>\n",
       "      <td>200</td>\n",
       "      <td>0</td>\n",
       "      <td>6</td>\n",
       "      <td>44.430</td>\n",
       "      <td>44.000</td>\n",
       "      <td>42.000</td>\n",
       "      <td>47.000</td>\n",
       "      <td>5.000</td>\n",
       "    </tr>\n",
       "  </tbody>\n",
       "</table>\n",
       "</div>"
      ],
      "text/plain": [
       "                         Count  Null  Unique    Mean  Median     Min     Max  \\\n",
       "title_word_count           200     0      16  12.125  12.000   6.000  23.000   \n",
       "title_av_word_len          200     0     123   5.101   5.091   3.364   8.250   \n",
       "description_word_count     200     0      35  36.900  38.000  13.000  51.000   \n",
       "description_av_word_len    200     0     153   5.230   5.217   3.980   7.692   \n",
       "publish_day                200     0      31  14.330  14.000   1.000  31.000   \n",
       "publish_hour               200     0      21  14.435  15.000   0.000  23.000   \n",
       "publish_weekday            200     0       7   2.570   2.000   0.000   6.000   \n",
       "publish_week               200     0       6  44.430  44.000  42.000  47.000   \n",
       "\n",
       "                          Range  \n",
       "title_word_count         17.000  \n",
       "title_av_word_len         4.886  \n",
       "description_word_count   38.000  \n",
       "description_av_word_len   3.712  \n",
       "publish_day              30.000  \n",
       "publish_hour             23.000  \n",
       "publish_weekday           6.000  \n",
       "publish_week              5.000  "
      ]
     },
     "execution_count": 68,
     "metadata": {},
     "output_type": "execute_result"
    }
   ],
   "source": [
    "numeric_df = data_out[numerical_vars]\n",
    "\n",
    "numeric_summary = pd.concat(\n",
    "    [\n",
    "        numeric_df.count().rename('Count'),\n",
    "        numeric_df.isnull().sum().rename('Null'),\n",
    "        numeric_df.nunique().rename('Unique'),\n",
    "        numeric_df.mean().round(3).rename('Mean'),\n",
    "        numeric_df.median().round(3).rename('Median'),\n",
    "        numeric_df.min().round(3).rename('Min'),\n",
    "        numeric_df.max().round(3).rename('Max'),\n",
    "        (numeric_df.max() - numeric_df.min()).round(3).rename('Range'),\n",
    "    ],\n",
    "    axis=1\n",
    ")\n",
    "\n",
    "numeric_summary"
   ]
  },
  {
   "cell_type": "markdown",
   "metadata": {},
   "source": [
    "#### Distributions"
   ]
  },
  {
   "cell_type": "code",
   "execution_count": 77,
   "metadata": {},
   "outputs": [
    {
     "ename": "IndexError",
     "evalue": "string index out of range",
     "output_type": "error",
     "traceback": [
      "\u001b[0;31m---------------------------------------------------------------------------\u001b[0m",
      "\u001b[0;31mIndexError\u001b[0m                                Traceback (most recent call last)",
      "\u001b[0;32m/var/folders/2f/cwgmhyzx4fn5cwp5j_dpmsd00000gn/T/ipykernel_13975/3201682938.py\u001b[0m in \u001b[0;36m<module>\u001b[0;34m\u001b[0m\n\u001b[1;32m      4\u001b[0m \u001b[0;32mfor\u001b[0m \u001b[0midx\u001b[0m\u001b[0;34m,\u001b[0m \u001b[0mcol\u001b[0m \u001b[0;32min\u001b[0m \u001b[0menumerate\u001b[0m\u001b[0;34m(\u001b[0m\u001b[0mnumeric_df\u001b[0m\u001b[0;34m.\u001b[0m\u001b[0mcolumns\u001b[0m\u001b[0;34m)\u001b[0m\u001b[0;34m:\u001b[0m\u001b[0;34m\u001b[0m\u001b[0;34m\u001b[0m\u001b[0m\n\u001b[1;32m      5\u001b[0m     \u001b[0mx\u001b[0m\u001b[0;34m,\u001b[0m \u001b[0my\u001b[0m \u001b[0;34m=\u001b[0m \u001b[0midx\u001b[0m\u001b[0;34m//\u001b[0m\u001b[0;36m2\u001b[0m\u001b[0;34m,\u001b[0m \u001b[0midx\u001b[0m \u001b[0;34m%\u001b[0m \u001b[0;36m2\u001b[0m\u001b[0;34m\u001b[0m\u001b[0;34m\u001b[0m\u001b[0m\n\u001b[0;32m----> 6\u001b[0;31m     \u001b[0mnumeric_df\u001b[0m\u001b[0;34m[\u001b[0m\u001b[0mcol\u001b[0m\u001b[0;34m]\u001b[0m\u001b[0;34m.\u001b[0m\u001b[0mplot\u001b[0m\u001b[0;34m(\u001b[0m\u001b[0max\u001b[0m \u001b[0;34m=\u001b[0m \u001b[0max\u001b[0m\u001b[0;34m[\u001b[0m\u001b[0mx\u001b[0m\u001b[0;34m,\u001b[0m\u001b[0my\u001b[0m\u001b[0;34m]\u001b[0m\u001b[0;34m,\u001b[0m \u001b[0mkind\u001b[0m \u001b[0;34m=\u001b[0m \u001b[0;34m'hist'\u001b[0m\u001b[0;34m,\u001b[0m \u001b[0mlegend\u001b[0m \u001b[0;34m=\u001b[0m \u001b[0;32mFalse\u001b[0m\u001b[0;34m,\u001b[0m \u001b[0mcolor\u001b[0m \u001b[0;34m=\u001b[0m \u001b[0mcolors\u001b[0m\u001b[0;34m[\u001b[0m\u001b[0midx\u001b[0m\u001b[0;34m]\u001b[0m\u001b[0;34m,\u001b[0m \u001b[0mtitle\u001b[0m\u001b[0;34m=\u001b[0m\u001b[0mcol\u001b[0m\u001b[0;34m)\u001b[0m\u001b[0;34m\u001b[0m\u001b[0;34m\u001b[0m\u001b[0m\n\u001b[0m\u001b[1;32m      7\u001b[0m \u001b[0;34m\u001b[0m\u001b[0m\n\u001b[1;32m      8\u001b[0m \u001b[0mplt\u001b[0m\u001b[0;34m.\u001b[0m\u001b[0mshow\u001b[0m\u001b[0;34m(\u001b[0m\u001b[0;34m)\u001b[0m\u001b[0;34m\u001b[0m\u001b[0;34m\u001b[0m\u001b[0m\n",
      "\u001b[0;31mIndexError\u001b[0m: string index out of range"
     ]
    },
    {
     "data": {
      "image/png": "[encoded data removed]",
      "text/plain": [
       "<Figure size 1080x1728 with 10 Axes>"
      ]
     },
     "metadata": {
      "needs_background": "light"
     },
     "output_type": "display_data"
    }
   ],
   "source": [
    "fig, ax = plt.subplots(nrows = ((numeric_df.shape[1] + 2) // 2), ncols = 2, figsize = (15, 3*numeric_df.shape[1]))\n",
    "colors = 'bgrcwyk'\n",
    "\n",
    "for idx, col in enumerate(numeric_df.columns):\n",
    "    x, y = idx//2, idx % 2\n",
    "    numeric_df[col].plot(ax = ax[x,y], kind = 'hist', legend = False, color = colors[idx], title=col)\n",
    "\n",
    "plt.show()"
   ]
  },
  {
   "cell_type": "markdown",
   "metadata": {},
   "source": [
    "#### Correlations"
   ]
  },
  {
   "cell_type": "code",
   "execution_count": 80,
   "metadata": {},
   "outputs": [
    {
     "ename": "NameError",
     "evalue": "name 'corr' is not defined",
     "output_type": "error",
     "traceback": [
      "\u001b[0;31m---------------------------------------------------------------------------\u001b[0m",
      "\u001b[0;31mNameError\u001b[0m                                 Traceback (most recent call last)",
      "\u001b[0;32m/var/folders/2f/cwgmhyzx4fn5cwp5j_dpmsd00000gn/T/ipykernel_13975/3596738644.py\u001b[0m in \u001b[0;36m<module>\u001b[0;34m\u001b[0m\n\u001b[0;32m----> 1\u001b[0;31m \u001b[0mcorr\u001b[0m\u001b[0;34m\u001b[0m\u001b[0;34m\u001b[0m\u001b[0m\n\u001b[0m",
      "\u001b[0;31mNameError\u001b[0m: name 'corr' is not defined"
     ]
    }
   ],
   "source": [
    "corr"
   ]
  },
  {
   "cell_type": "code",
   "execution_count": 81,
   "metadata": {},
   "outputs": [
    {
     "data": {
      "image/png": "[encoded data removed]",
      "text/plain": [
       "<Figure size 576x432 with 2 Axes>"
      ]
     },
     "metadata": {
      "needs_background": "light"
     },
     "output_type": "display_data"
    }
   ],
   "source": [
    "corr = data_out[numerical_vars].corr()\n",
    "\n",
    "fig, ax = plt.subplots(figsize=(8,6))\n",
    "\n",
    "sns.heatmap(corr, xticklabels=corr.columns, yticklabels=corr.columns, ax = ax)\n",
    "\n",
    "plt.show()"
   ]
  },
  {
   "cell_type": "markdown",
   "metadata": {},
   "source": [
    "#### Object Vars"
   ]
  },
  {
   "cell_type": "code",
   "execution_count": 83,
   "metadata": {},
   "outputs": [],
   "source": [
    "object_df = data_out[object_vars].copy(deep=True)"
   ]
  },
  {
   "cell_type": "markdown",
   "metadata": {},
   "source": [
    "#### Distrbutions"
   ]
  },
  {
   "cell_type": "code",
   "execution_count": 84,
   "metadata": {},
   "outputs": [
    {
     "ename": "IndexError",
     "evalue": "too many indices for array: array is 1-dimensional, but 2 were indexed",
     "output_type": "error",
     "traceback": [
      "\u001b[0;31m---------------------------------------------------------------------------\u001b[0m",
      "\u001b[0;31mIndexError\u001b[0m                                Traceback (most recent call last)",
      "\u001b[0;32m/var/folders/2f/cwgmhyzx4fn5cwp5j_dpmsd00000gn/T/ipykernel_13975/2426547289.py\u001b[0m in \u001b[0;36m<module>\u001b[0;34m\u001b[0m\n\u001b[1;32m      4\u001b[0m \u001b[0;32mfor\u001b[0m \u001b[0midx\u001b[0m\u001b[0;34m,\u001b[0m \u001b[0mcol\u001b[0m \u001b[0;32min\u001b[0m \u001b[0menumerate\u001b[0m\u001b[0;34m(\u001b[0m\u001b[0mobject_df\u001b[0m\u001b[0;34m.\u001b[0m\u001b[0mcolumns\u001b[0m\u001b[0;34m)\u001b[0m\u001b[0;34m:\u001b[0m\u001b[0;34m\u001b[0m\u001b[0;34m\u001b[0m\u001b[0m\n\u001b[1;32m      5\u001b[0m     \u001b[0mx\u001b[0m\u001b[0;34m,\u001b[0m \u001b[0my\u001b[0m \u001b[0;34m=\u001b[0m \u001b[0midx\u001b[0m\u001b[0;34m//\u001b[0m\u001b[0;36m3\u001b[0m\u001b[0;34m,\u001b[0m \u001b[0midx\u001b[0m \u001b[0;34m%\u001b[0m \u001b[0;36m3\u001b[0m\u001b[0;34m\u001b[0m\u001b[0;34m\u001b[0m\u001b[0m\n\u001b[0;32m----> 6\u001b[0;31m     \u001b[0mobject_df\u001b[0m\u001b[0;34m[\u001b[0m\u001b[0mcol\u001b[0m\u001b[0;34m]\u001b[0m\u001b[0;34m.\u001b[0m\u001b[0mvalue_counts\u001b[0m\u001b[0;34m(\u001b[0m\u001b[0;34m)\u001b[0m\u001b[0;34m.\u001b[0m\u001b[0mplot\u001b[0m\u001b[0;34m(\u001b[0m\u001b[0max\u001b[0m \u001b[0;34m=\u001b[0m \u001b[0max\u001b[0m\u001b[0;34m[\u001b[0m\u001b[0mx\u001b[0m\u001b[0;34m,\u001b[0m \u001b[0my\u001b[0m\u001b[0;34m]\u001b[0m\u001b[0;34m,\u001b[0m \u001b[0mkind\u001b[0m \u001b[0;34m=\u001b[0m \u001b[0;34m'bar'\u001b[0m\u001b[0;34m,\u001b[0m \u001b[0mlegend\u001b[0m \u001b[0;34m=\u001b[0m \u001b[0;32mFalse\u001b[0m\u001b[0;34m,\u001b[0m \u001b[0mcolor\u001b[0m \u001b[0;34m=\u001b[0m \u001b[0mcolors\u001b[0m\u001b[0;34m[\u001b[0m\u001b[0midx\u001b[0m\u001b[0;34m]\u001b[0m\u001b[0;34m,\u001b[0m \u001b[0mrot\u001b[0m \u001b[0;34m=\u001b[0m \u001b[0;36m50\u001b[0m\u001b[0;34m,\u001b[0m \u001b[0mfontsize\u001b[0m\u001b[0;34m=\u001b[0m\u001b[0;36m15\u001b[0m\u001b[0;34m)\u001b[0m\u001b[0;34m\u001b[0m\u001b[0;34m\u001b[0m\u001b[0m\n\u001b[0m\u001b[1;32m      7\u001b[0m \u001b[0;34m\u001b[0m\u001b[0m\n\u001b[1;32m      8\u001b[0m \u001b[0mplt\u001b[0m\u001b[0;34m.\u001b[0m\u001b[0mtight_layout\u001b[0m\u001b[0;34m(\u001b[0m\u001b[0;34m)\u001b[0m\u001b[0;34m\u001b[0m\u001b[0;34m\u001b[0m\u001b[0m\n",
      "\u001b[0;31mIndexError\u001b[0m: too many indices for array: array is 1-dimensional, but 2 were indexed"
     ]
    },
    {
     "data": {
      "image/png": "[encoded data removed]",
      "text/plain": [
       "<Figure size 1440x288 with 3 Axes>"
      ]
     },
     "metadata": {
      "needs_background": "light"
     },
     "output_type": "display_data"
    }
   ],
   "source": [
    "fig, ax = plt.subplots(nrows = ((object_df.shape[1] + 3) // 3), ncols = 3, figsize = (20, 2*object_df.shape[1]))\n",
    "colors = 'bgrcmwk' * ((object_df.shape[1] // 7) + 1)\n",
    "\n",
    "for idx, col in enumerate(object_df.columns):\n",
    "    x, y = idx//3, idx % 3\n",
    "    object_df[col].value_counts().plot(ax = ax[x, y], kind = 'bar', legend = False, color = colors[idx], rot = 50, fontsize=15)\n",
    "\n",
    "plt.tight_layout()"
   ]
  },
  {
   "cell_type": "markdown",
   "metadata": {},
   "source": [
    "#### Analysis Over time"
   ]
  },
  {
   "cell_type": "code",
   "execution_count": 58,
   "metadata": {},
   "outputs": [
    {
     "name": "stdout",
     "output_type": "stream",
     "text": [
      "Min Date: 2021-10-22 15:52:21+00:00\n",
      "Max Date: 2021-11-22 20:38:04+00:00\n"
     ]
    }
   ],
   "source": [
    "print(f'Min Date: {data.publishedAt_dt.min()}')\n",
    "print(f'Max Date: {data.publishedAt_dt.max()}')"
   ]
  },
  {
   "cell_type": "markdown",
   "metadata": {},
   "source": [
    "## Step 5: Summarise and write a conclusion using markdown cells"
   ]
  },
  {
   "cell_type": "markdown",
   "metadata": {},
   "source": []
  }
 ],
 "metadata": {
  "interpreter": {
   "hash": "b5f7aff336943a65554c05e2ca907882fe198e7be0271bdc45bb04d1a8d238d9"
  },
  "kernelspec": {
   "display_name": "Python 3.8.9 64-bit ('SDPA_Coursework-laNtFxcw': pipenv)",
   "language": "python",
   "name": "python3"
  },
  "language_info": {
   "codemirror_mode": {
    "name": "ipython",
    "version": 3
   },
   "file_extension": ".py",
   "mimetype": "text/x-python",
   "name": "python",
   "nbconvert_exporter": "python",
   "pygments_lexer": "ipython3",
   "version": "3.10.0"
  },
  "orig_nbformat": 4
 },
 "nbformat": 4,
 "nbformat_minor": 2
}
