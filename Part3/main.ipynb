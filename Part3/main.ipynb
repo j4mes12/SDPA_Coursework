{
 "cells": [
  {
   "cell_type": "markdown",
   "metadata": {},
   "source": [
    "# Part 3: Data Analysis (40%)"
   ]
  },
  {
   "cell_type": "code",
   "execution_count": 1,
   "metadata": {},
   "outputs": [],
   "source": [
    "import numpy as np\n",
    "import pandas as pd\n",
    "import matplotlib.pyplot as plt\n",
    "import seaborn as sns\n",
    "\n",
    "import requests\n",
    "from requests_oauthlib import OAuth1Session\n",
    "import json\n",
    "\n",
    "from newsapi import NewsApiClient"
   ]
  },
  {
   "cell_type": "markdown",
   "metadata": {},
   "source": [
    "## Step 1: Crawl a real-world dataset"
   ]
  },
  {
   "cell_type": "markdown",
   "metadata": {},
   "source": [
    "Get first 100 entries (due to NewsAPI membership limit)"
   ]
  },
  {
   "cell_type": "code",
   "execution_count": 103,
   "metadata": {},
   "outputs": [],
   "source": [
    "url = (\n",
    "    'http://newsapi.org/v2/everything?'                        \n",
    "    'q=boris&' #the keyword we are looking for\n",
    "    'language=en&' #we chose the language we want\n",
    "    'pageSize=100&' #no. of results. Default 20, max 100\n",
    "    'from=2021-10-22&'\n",
    "    'to=2021-11-06&'\n",
    "    'apiKey=823b384f7f3f4119b36bb73e3e82e0c9'\n",
    ") # Your Api keys\n",
    "\n",
    "\n",
    "r = requests.get(url)\n",
    "data1 = json.loads(r.content)"
   ]
  },
  {
   "cell_type": "code",
   "execution_count": 124,
   "metadata": {},
   "outputs": [],
   "source": [
    "url = (\n",
    "    'http://newsapi.org/v2/everything?'                        \n",
    "    'q=boris&' #the keyword we are looking for\n",
    "    'language=en&' #we chose the language we want\n",
    "    'pageSize=100&' #no. of results. Default 20, max 100\n",
    "    'from=2021-11-06&'\n",
    "    'to=2021-11-22&'\n",
    "    'apiKey=823b384f7f3f4119b36bb73e3e82e0c9'\n",
    ") # Your Api keys\n",
    "\n",
    "\n",
    "r = requests.get(url)\n",
    "data2 = json.loads(r.content)"
   ]
  },
  {
   "cell_type": "code",
   "execution_count": 125,
   "metadata": {},
   "outputs": [
    {
     "data": {
      "text/html": [
       "<div>\n",
       "<style scoped>\n",
       "    .dataframe tbody tr th:only-of-type {\n",
       "        vertical-align: middle;\n",
       "    }\n",
       "\n",
       "    .dataframe tbody tr th {\n",
       "        vertical-align: top;\n",
       "    }\n",
       "\n",
       "    .dataframe thead th {\n",
       "        text-align: right;\n",
       "    }\n",
       "</style>\n",
       "<table border=\"1\" class=\"dataframe\">\n",
       "  <thead>\n",
       "    <tr style=\"text-align: right;\">\n",
       "      <th></th>\n",
       "      <th>source</th>\n",
       "      <th>author</th>\n",
       "      <th>title</th>\n",
       "      <th>description</th>\n",
       "      <th>url</th>\n",
       "      <th>urlToImage</th>\n",
       "      <th>publishedAt</th>\n",
       "      <th>content</th>\n",
       "    </tr>\n",
       "  </thead>\n",
       "  <tbody>\n",
       "    <tr>\n",
       "      <th>0</th>\n",
       "      <td>The Guardian</td>\n",
       "      <td>Sarah Marsh</td>\n",
       "      <td>Boris Johnson has ‘fragile male ego’, suggests...</td>\n",
       "      <td>First minister tells Vogue why she thinks PM s...</td>\n",
       "      <td>https://amp.theguardian.com/politics/2021/oct/...</td>\n",
       "      <td>https://i.guim.co.uk/img/media/01856ea1ddb24d3...</td>\n",
       "      <td>2021-10-29T15:41:40Z</td>\n",
       "      <td>Nicola Sturgeon has suggested Boris Johnsons f...</td>\n",
       "    </tr>\n",
       "    <tr>\n",
       "      <th>1</th>\n",
       "      <td>The Guardian</td>\n",
       "      <td>Miranda Bryant</td>\n",
       "      <td>The Queen is ‘on very good form’ says Boris Jo...</td>\n",
       "      <td>Prime minister’s comments come after news that...</td>\n",
       "      <td>https://amp.theguardian.com/uk-news/2021/oct/3...</td>\n",
       "      <td>https://i.guim.co.uk/img/media/0f91310e6096525...</td>\n",
       "      <td>2021-10-30T12:14:09Z</td>\n",
       "      <td>Boris Johnson has said the Queen is on very go...</td>\n",
       "    </tr>\n",
       "    <tr>\n",
       "      <th>2</th>\n",
       "      <td>The Guardian</td>\n",
       "      <td>Rowena Mason Deputy political editor</td>\n",
       "      <td>Cop26: Boris Johnson ‘cautiously optimistic’ a...</td>\n",
       "      <td>UK PM claims there has been a turnaround since...</td>\n",
       "      <td>https://amp.theguardian.com/environment/2021/n...</td>\n",
       "      <td>https://i.guim.co.uk/img/media/4239d0ea380a158...</td>\n",
       "      <td>2021-11-02T19:14:49Z</td>\n",
       "      <td>Boris Johnson has declared he is cautiously op...</td>\n",
       "    </tr>\n",
       "    <tr>\n",
       "      <th>3</th>\n",
       "      <td>The Guardian</td>\n",
       "      <td>Toby Helm, Michael Savage and Jo Ungoed-Thomas</td>\n",
       "      <td>Boris Johnson sleaze crisis deepens amid press...</td>\n",
       "      <td>Sir John Major attacks PM’s actions as ‘shamef...</td>\n",
       "      <td>https://amp.theguardian.com/politics/2021/nov/...</td>\n",
       "      <td>https://i.guim.co.uk/img/media/aec6318ff128a2c...</td>\n",
       "      <td>2021-11-06T20:30:04Z</td>\n",
       "      <td>The row over Tory sleaze reached new heights o...</td>\n",
       "    </tr>\n",
       "    <tr>\n",
       "      <th>4</th>\n",
       "      <td>The Guardian</td>\n",
       "      <td>Letters</td>\n",
       "      <td>Owen Paterson affair exposes Boris Johnson’s c...</td>\n",
       "      <td>Readers respond to the Tory party closing rank...</td>\n",
       "      <td>https://amp.theguardian.com/politics/2021/nov/...</td>\n",
       "      <td>https://i.guim.co.uk/img/media/6ba3d61a7c34951...</td>\n",
       "      <td>2021-11-04T18:23:26Z</td>\n",
       "      <td>Martin Kettle writes: Just before the start of...</td>\n",
       "    </tr>\n",
       "  </tbody>\n",
       "</table>\n",
       "</div>"
      ],
      "text/plain": [
       "         source                                          author  \\\n",
       "0  The Guardian                                     Sarah Marsh   \n",
       "1  The Guardian                                  Miranda Bryant   \n",
       "2  The Guardian            Rowena Mason Deputy political editor   \n",
       "3  The Guardian  Toby Helm, Michael Savage and Jo Ungoed-Thomas   \n",
       "4  The Guardian                                         Letters   \n",
       "\n",
       "                                               title  \\\n",
       "0  Boris Johnson has ‘fragile male ego’, suggests...   \n",
       "1  The Queen is ‘on very good form’ says Boris Jo...   \n",
       "2  Cop26: Boris Johnson ‘cautiously optimistic’ a...   \n",
       "3  Boris Johnson sleaze crisis deepens amid press...   \n",
       "4  Owen Paterson affair exposes Boris Johnson’s c...   \n",
       "\n",
       "                                         description  \\\n",
       "0  First minister tells Vogue why she thinks PM s...   \n",
       "1  Prime minister’s comments come after news that...   \n",
       "2  UK PM claims there has been a turnaround since...   \n",
       "3  Sir John Major attacks PM’s actions as ‘shamef...   \n",
       "4  Readers respond to the Tory party closing rank...   \n",
       "\n",
       "                                                 url  \\\n",
       "0  https://amp.theguardian.com/politics/2021/oct/...   \n",
       "1  https://amp.theguardian.com/uk-news/2021/oct/3...   \n",
       "2  https://amp.theguardian.com/environment/2021/n...   \n",
       "3  https://amp.theguardian.com/politics/2021/nov/...   \n",
       "4  https://amp.theguardian.com/politics/2021/nov/...   \n",
       "\n",
       "                                          urlToImage           publishedAt  \\\n",
       "0  https://i.guim.co.uk/img/media/01856ea1ddb24d3...  2021-10-29T15:41:40Z   \n",
       "1  https://i.guim.co.uk/img/media/0f91310e6096525...  2021-10-30T12:14:09Z   \n",
       "2  https://i.guim.co.uk/img/media/4239d0ea380a158...  2021-11-02T19:14:49Z   \n",
       "3  https://i.guim.co.uk/img/media/aec6318ff128a2c...  2021-11-06T20:30:04Z   \n",
       "4  https://i.guim.co.uk/img/media/6ba3d61a7c34951...  2021-11-04T18:23:26Z   \n",
       "\n",
       "                                             content  \n",
       "0  Nicola Sturgeon has suggested Boris Johnsons f...  \n",
       "1  Boris Johnson has said the Queen is on very go...  \n",
       "2  Boris Johnson has declared he is cautiously op...  \n",
       "3  The row over Tory sleaze reached new heights o...  \n",
       "4  Martin Kettle writes: Just before the start of...  "
      ]
     },
     "execution_count": 125,
     "metadata": {},
     "output_type": "execute_result"
    }
   ],
   "source": [
    "data = pd.concat([pd.DataFrame(data1['articles']), pd.DataFrame(data2['articles'])], ignore_index=True)\n",
    "data['source'] = data['source'].apply(lambda x: x['name'])\n",
    "data.head()"
   ]
  },
  {
   "cell_type": "markdown",
   "metadata": {},
   "source": [
    "## Step 2: Perform data preparation & cleaning"
   ]
  },
  {
   "cell_type": "code",
   "execution_count": null,
   "metadata": {},
   "outputs": [],
   "source": []
  },
  {
   "cell_type": "markdown",
   "metadata": {},
   "source": [
    "## Step 3: Perform exploratory analysis and ask questions"
   ]
  },
  {
   "cell_type": "code",
   "execution_count": null,
   "metadata": {},
   "outputs": [],
   "source": []
  },
  {
   "cell_type": "markdown",
   "metadata": {},
   "source": [
    "## Step 5: Summarise and write a conclusion using markdown cells"
   ]
  },
  {
   "cell_type": "markdown",
   "metadata": {},
   "source": []
  }
 ],
 "metadata": {
  "interpreter": {
   "hash": "b5f7aff336943a65554c05e2ca907882fe198e7be0271bdc45bb04d1a8d238d9"
  },
  "kernelspec": {
   "display_name": "Python 3.8.9 64-bit ('SDPA_Coursework-laNtFxcw': pipenv)",
   "language": "python",
   "name": "python3"
  },
  "language_info": {
   "codemirror_mode": {
    "name": "ipython",
    "version": 3
   },
   "file_extension": ".py",
   "mimetype": "text/x-python",
   "name": "python",
   "nbconvert_exporter": "python",
   "pygments_lexer": "ipython3",
   "version": "3.10.0"
  },
  "orig_nbformat": 4
 },
 "nbformat": 4,
 "nbformat_minor": 2
}
