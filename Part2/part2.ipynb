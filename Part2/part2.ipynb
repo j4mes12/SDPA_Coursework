{
 "cells": [
  {
   "cell_type": "markdown",
   "metadata": {},
   "source": [
    "# Part 2: Algorithm Analysis (15%)"
   ]
  },
  {
   "cell_type": "markdown",
   "metadata": {},
   "source": [
    "- Name: James Stephenson\n",
    "- Section: Part 2\n",
    "- Description: This script implements a sorting algorithm such that a list of integers are sorted with odd numbers decsding followed by even numbers ascending. We also discuss the complexity of this sorting algorithm."
   ]
  },
  {
   "cell_type": "code",
   "execution_count": 42,
   "metadata": {},
   "outputs": [],
   "source": [
    "def sort_house_numbers(data):\n",
    "    '''This function takes in a list or set and returns a list of numbers such that the first part\n",
    "        of the array contains odd numbers sorted in descending order, and the remaining portion\n",
    "        contains even numbers sorted in ascending order. The result is printed.\n",
    "        \n",
    "        ---Parameters---\n",
    "        data: list or set\n",
    "        list or set to be sorted as described\n",
    "    '''\n",
    "\n",
    "    # Check that input is of the correct form\n",
    "    if type(data) not in (list, set, tuple): # O(1)\n",
    "        return print(f'ERROR: Input is neither a set, list or tuple. Input is of type {type(data)}.\\nPlease enter something of the format {{#, #, ...}}  or [#, #, ...] or (#, #, ...)')\n",
    "\n",
    "    # Check for empty list\n",
    "    if len(data) < 1: # O(1)\n",
    "        return print(f'ERROR: Input is not long enough. Length: {len(data)}')\n",
    "\n",
    "    # Check all entries are integers\n",
    "    # Add entry to list if not\n",
    "    non_ints = []\n",
    "    for i in data: #O(n)\n",
    "        if not isinstance(i, int):\n",
    "            non_ints.append(i)\n",
    "\n",
    "    # Display error message depending on how many non integers there are\n",
    "    if len(non_ints) == 1: # O(1)\n",
    "        return print(f'ERROR: House numbers need to be integers. Entry \"{non_ints[0]}\" is of type {type(non_ints[0])}')\n",
    "    elif len(non_ints) > 1: # O(1)\n",
    "        return print(f'ERROR: House numbers need to be integers. Entries {non_ints} are of type {[type(x) for x in non_ints]} respectively')\n",
    "\n",
    "    # Split the data into odds and evens\n",
    "    odd, even = split_into_odd_and_even(data) #O(n)\n",
    "\n",
    "    # Sort both odds and evens\n",
    "    even.sort() #O(nlogn)\n",
    "    odd.sort(reverse=True) #O(nlogn)\n",
    "    print('Sorted House Numbers:', odd + even)\n",
    "\n",
    "\n",
    "def split_into_odd_and_even(data):\n",
    "    '''This function takes in a list or set and splits this input into a list of odd numbers and a list of even numbers\n",
    "    \n",
    "    \n",
    "        ---Parameters---\n",
    "        data: list\n",
    "        list of integers to be split\n",
    "        \n",
    "        ---Returns---\n",
    "        (odd, even): tuple\n",
    "        tuple of two lists. first list of odd numbers from input. second list of even numbers from input\n",
    "    '''\n",
    "\n",
    "    # Initialise empty lists\n",
    "    odd, even = [], []\n",
    "    \n",
    "    for i in data: #O(n)\n",
    "        # Sort into odds and evens\n",
    "        if i % 2 == 0:\n",
    "            even.append(i)\n",
    "        else:\n",
    "            odd.append(i)\n",
    "\n",
    "    return (odd, even)"
   ]
  },
  {
   "cell_type": "code",
   "execution_count": 40,
   "metadata": {},
   "outputs": [],
   "source": [
    "data = [1, 2, 3]"
   ]
  },
  {
   "cell_type": "code",
   "execution_count": 41,
   "metadata": {},
   "outputs": [
    {
     "name": "stdout",
     "output_type": "stream",
     "text": [
      "Sorted House Numbers: [3, 1, 2]\n"
     ]
    }
   ],
   "source": [
    "sort_house_numbers(data)"
   ]
  },
  {
   "cell_type": "markdown",
   "metadata": {},
   "source": [
    "### Algorithm Comments\n",
    "- This sorting algorithm checks the input has no errors first\n",
    "- Then splits it into two lists: one of even integers, one of odd integers.\n",
    "- Sorts the lists ascending and descending\n",
    "- And then prints the two lists added together odd then even."
   ]
  },
  {
   "cell_type": "markdown",
   "metadata": {},
   "source": [
    "### Error Trapping\n",
    "- There are three cases that we have error trapped for\n",
    "- First being that the input is one of a set, list or tuple which we have done using a type() function.\n",
    "- The second trap is so that input is not an empty set/list/tuple and is something to sort.\n",
    "- The final error trap is for each entry in the input to be an integer.\n",
    "- I debated whether to also trap for negative values. However, due to the specification for this sorting algorithm, a list of integers was the specified input which can include negative values. So the algorithm will no flag and error and just sort them."
   ]
  },
  {
   "cell_type": "markdown",
   "metadata": {},
   "source": [
    "### Complexity Comments\n",
    "- The first two error traps has their own complexity of O(1)\n",
    "- Error trapping for integer elements has a complexity of O(n) due to a loop of O(1) operations.\n",
    "- Splitting the input into odd and even lists using the `split_into_odd_and_even` function has a complexity of O(n) due to a loop of O(1) operations.\n",
    "- The `.sort()` function uses Timsort which has a computational complexity of O(nlog)\n",
    "- So each `.sort()` contributes O(nlogn).\n",
    "- This combines to: 5O(1) + 2O(n) + 2O(nlogn)\n",
    "- However, since we ignore constants, 5O(1) + 2O(n) + 2O(nlogn) >> O(1) + O(n) + O(nlogn)\n",
    "- nlogn is more powerful than n and 1, so we have the overall computational complexity of this sorting algorithm to be:\n",
    "\n",
    "**O(nlogn)**"
   ]
  }
 ],
 "metadata": {
  "interpreter": {
   "hash": "40d3a090f54c6569ab1632332b64b2c03c39dcf918b08424e98f38b5ae0af88f"
  },
  "kernelspec": {
   "display_name": "Python 3.8.8 64-bit ('base': conda)",
   "language": "python",
   "name": "python3"
  },
  "language_info": {
   "codemirror_mode": {
    "name": "ipython",
    "version": 3
   },
   "file_extension": ".py",
   "mimetype": "text/x-python",
   "name": "python",
   "nbconvert_exporter": "python",
   "pygments_lexer": "ipython3",
   "version": "3.8.8"
  },
  "orig_nbformat": 4
 },
 "nbformat": 4,
 "nbformat_minor": 2
}
