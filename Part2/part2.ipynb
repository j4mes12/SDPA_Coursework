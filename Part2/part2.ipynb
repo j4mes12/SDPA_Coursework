{
 "cells": [
  {
   "cell_type": "markdown",
   "metadata": {},
   "source": [
    "# Part 2: Algorithm Analysis (15%)\n",
    "\n",
    "Write a script to implement this sorting method. Discuss clearly what is the complexity of your sorting algorithm with clear reference to you code bloacks? ? Make sure your sorting algorithm handles all possible cases. Hint: you may choose to utilize the sort() built-in function."
   ]
  },
  {
   "cell_type": "code",
   "execution_count": 1,
   "metadata": {},
   "outputs": [],
   "source": [
    "def sort_house_numbers(data):\n",
    "    '''This function takes in a list or set and returns a list of numbers such that the first part\n",
    "        of the array contains odd numbers sorted in descending order, and the remaining portion\n",
    "        contains even numbers sorted in ascending order. The result is printed.\n",
    "        \n",
    "        ---Parameters---\n",
    "        data: list or set\n",
    "        list or set to be sorted as described\n",
    "    '''\n",
    "    # Check that input is of the correct form\n",
    "    if type(data) not in (list, set, tuple):\n",
    "        return print(f'ERROR: Input is neither a set, list or tuple. Input is of type {type(data)}.\\nPlease enter something of the format {{#, #, ...}}  or [#, #, ...] or (#, #, ...)')\n",
    "\n",
    "    # Check for empty list\n",
    "    if len(data) < 1: # O(1)\n",
    "        return print(f'ERROR: Input is not long enough. Length: {len(data)}')\n",
    "\n",
    "    # Check all entires are integers\n",
    "    for i in data:\n",
    "        if not isinstance(i, int):\n",
    "            return print(f'ERROR: House numbers need to be integers. Entry {i} is of type {type(i)}')\n",
    "\n",
    "    # Split the data into odds and evens\n",
    "    odd, even = split_into_odd_and_even(data)\n",
    "\n",
    "    # Sort both odds and evens\n",
    "    even.sort() #O(nlogn)\n",
    "    odd.sort(reverse=True) #O(nlogn)\n",
    "    print('Sorted House Numbers:', odd + even)\n",
    "\n",
    "\n",
    "def split_into_odd_and_even(data):\n",
    "    '''This function takes in a list or set and splits this input into a list of odd numbers and a list of even numbers\n",
    "    \n",
    "    \n",
    "        ---Parameters---\n",
    "        data: list\n",
    "        list of integers to be split\n",
    "        \n",
    "        ---Returns---\n",
    "        (odd, even): tuple\n",
    "        tuple of two lists. first list of odd numbers from input. second list of even numbers from input\n",
    "    '''\n",
    "\n",
    "    # Initialise empty lists\n",
    "    odd, even = [], []\n",
    "    \n",
    "    for i in data: #O(n)\n",
    "        # Sort into odds and evens\n",
    "        if i % 2 == 0:\n",
    "            even.append(i)\n",
    "        else:\n",
    "            odd.append(i)\n",
    "\n",
    "    return (odd, even)"
   ]
  },
  {
   "cell_type": "code",
   "execution_count": 6,
   "metadata": {},
   "outputs": [],
   "source": [
    "data = [1, 2, 3]"
   ]
  },
  {
   "cell_type": "code",
   "execution_count": 7,
   "metadata": {},
   "outputs": [
    {
     "name": "stdout",
     "output_type": "stream",
     "text": [
      "Sorted House Numbers: [3, 1, 2]\n"
     ]
    }
   ],
   "source": [
    "sort_house_numbers(data)"
   ]
  },
  {
   "cell_type": "markdown",
   "metadata": {},
   "source": [
    "### Complexity Comments\n",
    " - Sorted through the input is of complexity order O(n)\n",
    " - Each `.sort()` function has its own computational complexity of O(nlog)\n",
    " - However, since we ignore constants, O(nlog(n)) + O(nlog(n)) >> O(nlog(n))\n",
    " - So the overall complexity of both `.sort()` calls is O(nlog)\n",
    " - This combines to: O(n) + O(nlogn) = O(n + nlogn)\n",
    "- nlogn is more powerful than n, so we have the overall computational complexity of this sorting algorithm to be:\n",
    "\n",
    "**O(nlogn)**"
   ]
  }
 ],
 "metadata": {
  "interpreter": {
   "hash": "40d3a090f54c6569ab1632332b64b2c03c39dcf918b08424e98f38b5ae0af88f"
  },
  "kernelspec": {
   "display_name": "Python 3.8.8 64-bit ('base': conda)",
   "language": "python",
   "name": "python3"
  },
  "language_info": {
   "codemirror_mode": {
    "name": "ipython",
    "version": 3
   },
   "file_extension": ".py",
   "mimetype": "text/x-python",
   "name": "python",
   "nbconvert_exporter": "python",
   "pygments_lexer": "ipython3",
   "version": "3.8.8"
  },
  "orig_nbformat": 4
 },
 "nbformat": 4,
 "nbformat_minor": 2
}
