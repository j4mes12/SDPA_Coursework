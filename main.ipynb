{
 "cells": [
  {
   "cell_type": "markdown",
   "metadata": {},
   "source": [
    "# Part2"
   ]
  },
  {
   "cell_type": "code",
   "execution_count": 69,
   "metadata": {},
   "outputs": [],
   "source": [
    "def sort_house_numbers(data):\n",
    "    odd, even = [], []\n",
    "    \n",
    "    for i in data: #O(n)\n",
    "        if not isinstance(i, int):\n",
    "            print(f'ERROR: House numbers need to be integers. Entry {i} is of type {type(i)}')\n",
    "            return\n",
    "        if i % 2 == 0:\n",
    "            even.append(i)\n",
    "        else:\n",
    "            odd.append(i)\n",
    "\n",
    "    even.sort() #O(nlogn)\n",
    "    odd.sort(reverse=True) #O(nlogn)\n",
    "    print('Sorted House Numbers:', odd + even)"
   ]
  },
  {
   "cell_type": "code",
   "execution_count": 70,
   "metadata": {},
   "outputs": [],
   "source": [
    "data = [1, 2, 3, 5, 4, 7, 10]"
   ]
  },
  {
   "cell_type": "code",
   "execution_count": 71,
   "metadata": {},
   "outputs": [
    {
     "name": "stdout",
     "output_type": "stream",
     "text": [
      "Sorted House Numbers: [7, 5, 3, 1, 2, 4, 10]\n"
     ]
    }
   ],
   "source": [
    "sort_house_numbers(data)"
   ]
  },
  {
   "cell_type": "markdown",
   "metadata": {},
   "source": [
    "### Complexity Comments\n",
    " - Sorted through the input is of complexity order O(n)\n",
    " - Each `.sort()` function has its own computational complexity of O(nlog)\n",
    " - However, since we ignore constants, O(nlog(n)) + O(nlog(n)) >> O(nlog(n))\n",
    " - So the overall complexity of both `.sort()` calls is O(nlog)\n",
    " - Thus the overall computational complexity of this sorting method is **O(n) + O(nlogn) = O(n + nlogn)**"
   ]
  }
 ],
 "metadata": {
  "interpreter": {
   "hash": "40d3a090f54c6569ab1632332b64b2c03c39dcf918b08424e98f38b5ae0af88f"
  },
  "kernelspec": {
   "display_name": "Python 3.8.8 64-bit ('base': conda)",
   "language": "python",
   "name": "python3"
  },
  "language_info": {
   "codemirror_mode": {
    "name": "ipython",
    "version": 3
   },
   "file_extension": ".py",
   "mimetype": "text/x-python",
   "name": "python",
   "nbconvert_exporter": "python",
   "pygments_lexer": "ipython3",
   "version": "3.8.8"
  },
  "orig_nbformat": 4
 },
 "nbformat": 4,
 "nbformat_minor": 2
}
